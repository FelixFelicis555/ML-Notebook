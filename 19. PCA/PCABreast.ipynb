{
  "nbformat": 4,
  "nbformat_minor": 0,
  "metadata": {
    "colab": {
      "name": "PCABreast.ipynb",
      "version": "0.3.2",
      "provenance": []
    }
  },
  "cells": [
    {
      "cell_type": "markdown",
      "metadata": {
        "id": "view-in-github",
        "colab_type": "text"
      },
      "source": [
        "[View in Colaboratory](https://colab.research.google.com/github/getmrinal/ML-Notebook/blob/master/19.%20PCA/PCABreast.ipynb)"
      ]
    },
    {
      "metadata": {
        "id": "ZnCYFbOrgN7r",
        "colab_type": "code",
        "colab": {}
      },
      "cell_type": "code",
      "source": [
        "breast = datasets.load_breast_cancer()"
      ],
      "execution_count": 0,
      "outputs": []
    },
    {
      "metadata": {
        "id": "bgQ64i-Nv7EM",
        "colab_type": "code",
        "colab": {}
      },
      "cell_type": "code",
      "source": [
        "from sklearn import decomposition ,ensemble ,datasets,linear_model\n",
        "import numpy as np\n",
        "import time\n",
        "from sklearn.preprocessing import StandardScaler\n",
        "from sklearn.model_selection import train_test_split"
      ],
      "execution_count": 0,
      "outputs": []
    },
    {
      "metadata": {
        "id": "H2EQxZDzgrzR",
        "colab_type": "code",
        "colab": {
          "base_uri": "https://localhost:8080/",
          "height": 35
        },
        "outputId": "5bf8dead-1eee-45aa-ac17-d6bcf0b80470"
      },
      "cell_type": "code",
      "source": [
        "X = breast.data\n",
        "X.shape"
      ],
      "execution_count": 33,
      "outputs": [
        {
          "output_type": "execute_result",
          "data": {
            "text/plain": [
              "(569, 30)"
            ]
          },
          "metadata": {
            "tags": []
          },
          "execution_count": 33
        }
      ]
    },
    {
      "metadata": {
        "id": "Vg5tuKqAgxYo",
        "colab_type": "code",
        "colab": {}
      },
      "cell_type": "code",
      "source": [
        "sc = StandardScaler()\n",
        "X_std = sc.fit_transform(X)"
      ],
      "execution_count": 0,
      "outputs": []
    },
    {
      "metadata": {
        "id": "_HVAt70QhGlG",
        "colab_type": "code",
        "colab": {}
      },
      "cell_type": "code",
      "source": [
        "x_train,x_test,y_train,y_test = train_test_split(X_std,breast.target,random_state = 0)"
      ],
      "execution_count": 0,
      "outputs": []
    },
    {
      "metadata": {
        "id": "_Ny2lSTctwjz",
        "colab_type": "code",
        "colab": {
          "base_uri": "https://localhost:8080/",
          "height": 35
        },
        "outputId": "882ef2cc-3e4a-4953-8069-cd50ebc35c3b"
      },
      "cell_type": "code",
      "source": [
        "total = sum(pca.explained_variance_)\n",
        "k = 0\n",
        "curr_var =0\n",
        "while curr_var/total < 0.95:\n",
        "  curr_var += pca.explained_variance_[k]\n",
        "  k = k+1\n",
        "k"
      ],
      "execution_count": 36,
      "outputs": [
        {
          "output_type": "execute_result",
          "data": {
            "text/plain": [
              "7"
            ]
          },
          "metadata": {
            "tags": []
          },
          "execution_count": 36
        }
      ]
    },
    {
      "metadata": {
        "id": "W_i72Qf1hS_S",
        "colab_type": "code",
        "colab": {}
      },
      "cell_type": "code",
      "source": [
        "pca = decomposition.PCA(n_components = k)\n",
        "\n",
        "x_train_pca = pca.fit_transform(x_train)\n",
        "x_test_pca = pca.transform(x_test)"
      ],
      "execution_count": 0,
      "outputs": []
    },
    {
      "metadata": {
        "id": "FQ7u8pGMhyYn",
        "colab_type": "code",
        "colab": {
          "base_uri": "https://localhost:8080/",
          "height": 53
        },
        "outputId": "ebfa082b-2c25-4d43-e622-10097fc9193c"
      },
      "cell_type": "code",
      "source": [
        "lr = linear_model.LogisticRegression()\n",
        "start = time.time()\n",
        "lr.fit(x_train,y_train)\n",
        "end = time.time()\n",
        "print(end-start)\n",
        "print(lr.score(x_test,y_test))"
      ],
      "execution_count": 38,
      "outputs": [
        {
          "output_type": "stream",
          "text": [
            "0.00576114654541\n",
            "0.965034965034965\n"
          ],
          "name": "stdout"
        }
      ]
    },
    {
      "metadata": {
        "id": "FhavyPfQijK1",
        "colab_type": "code",
        "colab": {
          "base_uri": "https://localhost:8080/",
          "height": 53
        },
        "outputId": "f2f2111c-85f0-4e13-d8bc-3d76fad2f417"
      },
      "cell_type": "code",
      "source": [
        "lr = linear_model.LogisticRegression()\n",
        "start = time.time()\n",
        "lr.fit(x_train_pca,y_train)\n",
        "end = time.time()\n",
        "print(end-start)\n",
        "print(lr.score(x_test_pca,y_test))"
      ],
      "execution_count": 39,
      "outputs": [
        {
          "output_type": "stream",
          "text": [
            "0.00146412849426\n",
            "0.951048951048951\n"
          ],
          "name": "stdout"
        }
      ]
    }
  ]
}