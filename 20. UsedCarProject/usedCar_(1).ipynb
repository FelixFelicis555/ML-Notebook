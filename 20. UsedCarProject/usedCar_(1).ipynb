{
  "nbformat": 4,
  "nbformat_minor": 0,
  "metadata": {
    "colab": {
      "name": "usedCar (1).ipynb",
      "version": "0.3.2",
      "provenance": [],
      "collapsed_sections": []
    },
    "kernelspec": {
      "name": "python3",
      "display_name": "Python 3"
    },
    "accelerator": "GPU"
  },
  "cells": [
    {
      "cell_type": "markdown",
      "metadata": {
        "id": "view-in-github",
        "colab_type": "text"
      },
      "source": [
        "[View in Colaboratory](https://colab.research.google.com/github/getmrinal/ML-Notebook/blob/master/20.%20UsedCarProject/usedCar_(1).ipynb)"
      ]
    },
    {
      "metadata": {
        "id": "RswdaFa68Bwm",
        "colab_type": "code",
        "colab": {}
      },
      "cell_type": "code",
      "source": [
        "!pip install -U -q PyDrive\n",
        " \n",
        "from pydrive.auth import GoogleAuth\n",
        "from pydrive.drive import GoogleDrive\n",
        "from google.colab import auth\n",
        "from oauth2client.client import GoogleCredentials\n",
        " \n",
        "# 1. Authenticate and create the PyDrive client.\n",
        "auth.authenticate_user()\n",
        "gauth = GoogleAuth()\n",
        "gauth.credentials = GoogleCredentials.get_application_default()\n",
        "drive = GoogleDrive(gauth)"
      ],
      "execution_count": 0,
      "outputs": []
    },
    {
      "metadata": {
        "id": "c6sxVxCz_fXL",
        "colab_type": "code",
        "colab": {
          "base_uri": "https://localhost:8080/",
          "height": 356
        },
        "outputId": "e17b0d10-f3c8-4ef6-c3ad-ee211e8a12ce"
      },
      "cell_type": "code",
      "source": [
        "file_list = drive.ListFile({'q': \"'1vrFHzEYTZkF_vJvn7KYh6OhYLphLvzsX' in parents and trashed=false\"}).GetList()\n",
        "for file1 in file_list:\n",
        "  print('title: %s, id: %s' % (file1['title'], file1['id']))"
      ],
      "execution_count": 2,
      "outputs": [
        {
          "output_type": "stream",
          "text": [
            "title: usedCar (1).ipynb, id: 1MQfwgtBe4cDvDxKVR0LMhZ7yCniQp1vP\n",
            "title: training_car_x_y_train.csv, id: 1zlM6O3hRKRDDrZiHckN6hS47OrDCFbes\n",
            "title: test_car_x_test.csv, id: 135y12U31V8x_AbZbljipl4x2ap_9Jt6O\n",
            "title: gridsearch.ipynb, id: 1xg3RWCn9XWGsgRAIyyzx83IuwJNC9ihC\n",
            "title: LFW Images.ipynb, id: 1330yF8WwmygsTMy5MFZKhJLo__G4zLoM\n",
            "title: pcaOnImages.ipnyb, id: 1_FlBAG_xkU7rVSVv62XHsi3J9SMaG83n\n",
            "title: PCA-3D & implemented too.ipynb, id: 1emU3-kPQC6q8EgUGns4NMC_zNr6LUcRq\n",
            "title: PCABreast.ipynb, id: 1zVMkPtovuzC0gEYtFaKytxOimZ5A0JEO\n",
            "title: PCA2D.ipynb, id: 1FzQ1b3WBdAbywGN4AtriaEBU1hVoXInn\n",
            "title: SVM_on_iris.ipynb, id: 1B9IdO1zW0dfyZnojXCLH3-n7APnRJLCJ\n",
            "title: SVM.ipynb, id: 1XEzBC3-3-xHST-UDjLw-YNB9lIIGIrSi\n",
            "title: SVMDummyData.ipynb, id: 1Ws7bZKKOcumR-HClj4OstUlUoMeTUUNX\n",
            "title: TextClassification & MultinomialScratch.ipynb, id: 1sF1QO54CTko6yG19c7vMY0BfopeiJaDh\n",
            "title: textClassification.csv, id: 1lQPcPwbGsxvrtWi5vl4PnQS5VbC-VCoX\n",
            "title: Copy of textClassification.ipynb, id: 1LigqoQQ4coVPfNbDVAFYThOUmgAmblau\n",
            "title: Copy of External data: Drive, Sheets, and Cloud Storage, id: 1yof-7pUy4uANLIM1w-i706ue8qnfPuzv\n",
            "title: textClassification.ipynb, id: 14djjX_9u2H0ddxx5lYIta22W-Ts97irM\n",
            "title: Copy of Hello, Colaboratory, id: 1xfu43LZcWHSV1Qwiv0MDl9S314ODhvT9\n"
          ],
          "name": "stdout"
        }
      ]
    },
    {
      "metadata": {
        "id": "foK0zwSw_z2Y",
        "colab_type": "code",
        "colab": {}
      },
      "cell_type": "code",
      "source": [
        "data = drive.CreateFile({'id': '1zlM6O3hRKRDDrZiHckN6hS47OrDCFbes'})\n",
        "data.GetContentFile('training_car_x_y_train.csv')\n",
        "test_data = drive.CreateFile({'id': '135y12U31V8x_AbZbljipl4x2ap_9Jt6O'})\n",
        "test_data.GetContentFile('test_car_x_test.csv')\n",
        "\n"
      ],
      "execution_count": 0,
      "outputs": []
    },
    {
      "metadata": {
        "id": "5ZcJRQUEAG1u",
        "colab_type": "code",
        "colab": {}
      },
      "cell_type": "code",
      "source": [
        "import pandas as pd\n",
        "import numpy as np\n",
        "from sklearn.model_selection import train_test_split\n",
        "import matplotlib.pyplot as plt\n",
        "from google.colab import files as filess\n",
        "from datetime import datetime\n",
        "import time\n",
        "from sklearn.preprocessing import  OneHotEncoder"
      ],
      "execution_count": 0,
      "outputs": []
    },
    {
      "metadata": {
        "id": "SH_sS4IaAdg6",
        "colab_type": "code",
        "colab": {}
      },
      "cell_type": "code",
      "source": [
        "car_data = pd.read_csv('training_car_x_y_train.csv')\n",
        "test_data = pd.read_csv('test_car_x_test.csv')"
      ],
      "execution_count": 0,
      "outputs": []
    },
    {
      "metadata": {
        "id": "agtXV_VdAvU2",
        "colab_type": "code",
        "colab": {
          "base_uri": "https://localhost:8080/",
          "height": 394
        },
        "outputId": "8099d1c1-ce5c-4c7c-9c1f-70b9da92300e"
      },
      "cell_type": "code",
      "source": [
        "list(car_data)"
      ],
      "execution_count": 6,
      "outputs": [
        {
          "output_type": "execute_result",
          "data": {
            "text/plain": [
              "['dateCrawled',\n",
              " 'name',\n",
              " 'seller',\n",
              " 'offerType',\n",
              " 'abtest',\n",
              " 'vehicleType',\n",
              " 'yearOfRegistration',\n",
              " 'gearbox',\n",
              " 'powerPS',\n",
              " 'model',\n",
              " 'kilometer',\n",
              " 'monthOfRegistration',\n",
              " 'fuelType',\n",
              " 'brand',\n",
              " 'notRepairedDamage',\n",
              " 'dateCreated',\n",
              " 'nrOfPictures',\n",
              " 'postalCode',\n",
              " 'lastSeen',\n",
              " 'price']"
            ]
          },
          "metadata": {
            "tags": []
          },
          "execution_count": 6
        }
      ]
    },
    {
      "metadata": {
        "id": "K8kIXEyvAwSB",
        "colab_type": "code",
        "colab": {
          "base_uri": "https://localhost:8080/",
          "height": 431
        },
        "outputId": "d6d26dbf-73d3-41f3-ac4b-d427c2710579"
      },
      "cell_type": "code",
      "source": [
        "car_data.describe(include='all')"
      ],
      "execution_count": 7,
      "outputs": [
        {
          "output_type": "execute_result",
          "data": {
            "text/html": [
              "<div>\n",
              "<style scoped>\n",
              "    .dataframe tbody tr th:only-of-type {\n",
              "        vertical-align: middle;\n",
              "    }\n",
              "\n",
              "    .dataframe tbody tr th {\n",
              "        vertical-align: top;\n",
              "    }\n",
              "\n",
              "    .dataframe thead th {\n",
              "        text-align: right;\n",
              "    }\n",
              "</style>\n",
              "<table border=\"1\" class=\"dataframe\">\n",
              "  <thead>\n",
              "    <tr style=\"text-align: right;\">\n",
              "      <th></th>\n",
              "      <th>dateCrawled</th>\n",
              "      <th>name</th>\n",
              "      <th>seller</th>\n",
              "      <th>offerType</th>\n",
              "      <th>abtest</th>\n",
              "      <th>vehicleType</th>\n",
              "      <th>yearOfRegistration</th>\n",
              "      <th>gearbox</th>\n",
              "      <th>powerPS</th>\n",
              "      <th>model</th>\n",
              "      <th>kilometer</th>\n",
              "      <th>monthOfRegistration</th>\n",
              "      <th>fuelType</th>\n",
              "      <th>brand</th>\n",
              "      <th>notRepairedDamage</th>\n",
              "      <th>dateCreated</th>\n",
              "      <th>nrOfPictures</th>\n",
              "      <th>postalCode</th>\n",
              "      <th>lastSeen</th>\n",
              "      <th>price</th>\n",
              "    </tr>\n",
              "  </thead>\n",
              "  <tbody>\n",
              "    <tr>\n",
              "      <th>count</th>\n",
              "      <td>297369</td>\n",
              "      <td>297369</td>\n",
              "      <td>297369</td>\n",
              "      <td>297369</td>\n",
              "      <td>297369</td>\n",
              "      <td>267059</td>\n",
              "      <td>297369.000000</td>\n",
              "      <td>281192</td>\n",
              "      <td>297369.000000</td>\n",
              "      <td>280909</td>\n",
              "      <td>297369.000000</td>\n",
              "      <td>297369.000000</td>\n",
              "      <td>270535</td>\n",
              "      <td>297369</td>\n",
              "      <td>239636</td>\n",
              "      <td>297369</td>\n",
              "      <td>297369.0</td>\n",
              "      <td>297369.000000</td>\n",
              "      <td>297369</td>\n",
              "      <td>2.973690e+05</td>\n",
              "    </tr>\n",
              "    <tr>\n",
              "      <th>unique</th>\n",
              "      <td>237974</td>\n",
              "      <td>191674</td>\n",
              "      <td>2</td>\n",
              "      <td>2</td>\n",
              "      <td>2</td>\n",
              "      <td>8</td>\n",
              "      <td>NaN</td>\n",
              "      <td>2</td>\n",
              "      <td>NaN</td>\n",
              "      <td>250</td>\n",
              "      <td>NaN</td>\n",
              "      <td>NaN</td>\n",
              "      <td>7</td>\n",
              "      <td>40</td>\n",
              "      <td>2</td>\n",
              "      <td>104</td>\n",
              "      <td>NaN</td>\n",
              "      <td>NaN</td>\n",
              "      <td>155478</td>\n",
              "      <td>NaN</td>\n",
              "    </tr>\n",
              "    <tr>\n",
              "      <th>top</th>\n",
              "      <td>2016-03-24 14:49:47</td>\n",
              "      <td>Ford_Fiesta</td>\n",
              "      <td>privat</td>\n",
              "      <td>Angebot</td>\n",
              "      <td>test</td>\n",
              "      <td>limousine</td>\n",
              "      <td>NaN</td>\n",
              "      <td>manuell</td>\n",
              "      <td>NaN</td>\n",
              "      <td>golf</td>\n",
              "      <td>NaN</td>\n",
              "      <td>NaN</td>\n",
              "      <td>benzin</td>\n",
              "      <td>volkswagen</td>\n",
              "      <td>nein</td>\n",
              "      <td>2016-04-03 00:00:00</td>\n",
              "      <td>NaN</td>\n",
              "      <td>NaN</td>\n",
              "      <td>2016-04-06 13:45:54</td>\n",
              "      <td>NaN</td>\n",
              "    </tr>\n",
              "    <tr>\n",
              "      <th>freq</th>\n",
              "      <td>7</td>\n",
              "      <td>508</td>\n",
              "      <td>297367</td>\n",
              "      <td>297358</td>\n",
              "      <td>154051</td>\n",
              "      <td>76608</td>\n",
              "      <td>NaN</td>\n",
              "      <td>219378</td>\n",
              "      <td>NaN</td>\n",
              "      <td>24126</td>\n",
              "      <td>NaN</td>\n",
              "      <td>NaN</td>\n",
              "      <td>179170</td>\n",
              "      <td>63732</td>\n",
              "      <td>210546</td>\n",
              "      <td>11589</td>\n",
              "      <td>NaN</td>\n",
              "      <td>NaN</td>\n",
              "      <td>16</td>\n",
              "      <td>NaN</td>\n",
              "    </tr>\n",
              "    <tr>\n",
              "      <th>mean</th>\n",
              "      <td>NaN</td>\n",
              "      <td>NaN</td>\n",
              "      <td>NaN</td>\n",
              "      <td>NaN</td>\n",
              "      <td>NaN</td>\n",
              "      <td>NaN</td>\n",
              "      <td>2004.471700</td>\n",
              "      <td>NaN</td>\n",
              "      <td>115.183674</td>\n",
              "      <td>NaN</td>\n",
              "      <td>125553.218392</td>\n",
              "      <td>5.740087</td>\n",
              "      <td>NaN</td>\n",
              "      <td>NaN</td>\n",
              "      <td>NaN</td>\n",
              "      <td>NaN</td>\n",
              "      <td>0.0</td>\n",
              "      <td>50836.861472</td>\n",
              "      <td>NaN</td>\n",
              "      <td>1.118790e+04</td>\n",
              "    </tr>\n",
              "    <tr>\n",
              "      <th>std</th>\n",
              "      <td>NaN</td>\n",
              "      <td>NaN</td>\n",
              "      <td>NaN</td>\n",
              "      <td>NaN</td>\n",
              "      <td>NaN</td>\n",
              "      <td>NaN</td>\n",
              "      <td>89.562153</td>\n",
              "      <td>NaN</td>\n",
              "      <td>181.360569</td>\n",
              "      <td>NaN</td>\n",
              "      <td>40133.443442</td>\n",
              "      <td>3.714925</td>\n",
              "      <td>NaN</td>\n",
              "      <td>NaN</td>\n",
              "      <td>NaN</td>\n",
              "      <td>NaN</td>\n",
              "      <td>0.0</td>\n",
              "      <td>25799.728603</td>\n",
              "      <td>NaN</td>\n",
              "      <td>6.615699e+05</td>\n",
              "    </tr>\n",
              "    <tr>\n",
              "      <th>min</th>\n",
              "      <td>NaN</td>\n",
              "      <td>NaN</td>\n",
              "      <td>NaN</td>\n",
              "      <td>NaN</td>\n",
              "      <td>NaN</td>\n",
              "      <td>NaN</td>\n",
              "      <td>1000.000000</td>\n",
              "      <td>NaN</td>\n",
              "      <td>0.000000</td>\n",
              "      <td>NaN</td>\n",
              "      <td>5000.000000</td>\n",
              "      <td>0.000000</td>\n",
              "      <td>NaN</td>\n",
              "      <td>NaN</td>\n",
              "      <td>NaN</td>\n",
              "      <td>NaN</td>\n",
              "      <td>0.0</td>\n",
              "      <td>1067.000000</td>\n",
              "      <td>NaN</td>\n",
              "      <td>0.000000e+00</td>\n",
              "    </tr>\n",
              "    <tr>\n",
              "      <th>25%</th>\n",
              "      <td>NaN</td>\n",
              "      <td>NaN</td>\n",
              "      <td>NaN</td>\n",
              "      <td>NaN</td>\n",
              "      <td>NaN</td>\n",
              "      <td>NaN</td>\n",
              "      <td>1999.000000</td>\n",
              "      <td>NaN</td>\n",
              "      <td>70.000000</td>\n",
              "      <td>NaN</td>\n",
              "      <td>100000.000000</td>\n",
              "      <td>3.000000</td>\n",
              "      <td>NaN</td>\n",
              "      <td>NaN</td>\n",
              "      <td>NaN</td>\n",
              "      <td>NaN</td>\n",
              "      <td>0.0</td>\n",
              "      <td>30459.000000</td>\n",
              "      <td>NaN</td>\n",
              "      <td>1.150000e+03</td>\n",
              "    </tr>\n",
              "    <tr>\n",
              "      <th>50%</th>\n",
              "      <td>NaN</td>\n",
              "      <td>NaN</td>\n",
              "      <td>NaN</td>\n",
              "      <td>NaN</td>\n",
              "      <td>NaN</td>\n",
              "      <td>NaN</td>\n",
              "      <td>2003.000000</td>\n",
              "      <td>NaN</td>\n",
              "      <td>105.000000</td>\n",
              "      <td>NaN</td>\n",
              "      <td>150000.000000</td>\n",
              "      <td>6.000000</td>\n",
              "      <td>NaN</td>\n",
              "      <td>NaN</td>\n",
              "      <td>NaN</td>\n",
              "      <td>NaN</td>\n",
              "      <td>0.0</td>\n",
              "      <td>49610.000000</td>\n",
              "      <td>NaN</td>\n",
              "      <td>2.950000e+03</td>\n",
              "    </tr>\n",
              "    <tr>\n",
              "      <th>75%</th>\n",
              "      <td>NaN</td>\n",
              "      <td>NaN</td>\n",
              "      <td>NaN</td>\n",
              "      <td>NaN</td>\n",
              "      <td>NaN</td>\n",
              "      <td>NaN</td>\n",
              "      <td>2008.000000</td>\n",
              "      <td>NaN</td>\n",
              "      <td>150.000000</td>\n",
              "      <td>NaN</td>\n",
              "      <td>150000.000000</td>\n",
              "      <td>9.000000</td>\n",
              "      <td>NaN</td>\n",
              "      <td>NaN</td>\n",
              "      <td>NaN</td>\n",
              "      <td>NaN</td>\n",
              "      <td>0.0</td>\n",
              "      <td>71554.000000</td>\n",
              "      <td>NaN</td>\n",
              "      <td>7.200000e+03</td>\n",
              "    </tr>\n",
              "    <tr>\n",
              "      <th>max</th>\n",
              "      <td>NaN</td>\n",
              "      <td>NaN</td>\n",
              "      <td>NaN</td>\n",
              "      <td>NaN</td>\n",
              "      <td>NaN</td>\n",
              "      <td>NaN</td>\n",
              "      <td>9999.000000</td>\n",
              "      <td>NaN</td>\n",
              "      <td>20000.000000</td>\n",
              "      <td>NaN</td>\n",
              "      <td>150000.000000</td>\n",
              "      <td>12.000000</td>\n",
              "      <td>NaN</td>\n",
              "      <td>NaN</td>\n",
              "      <td>NaN</td>\n",
              "      <td>NaN</td>\n",
              "      <td>0.0</td>\n",
              "      <td>99998.000000</td>\n",
              "      <td>NaN</td>\n",
              "      <td>1.000000e+08</td>\n",
              "    </tr>\n",
              "  </tbody>\n",
              "</table>\n",
              "</div>"
            ],
            "text/plain": [
              "                dateCrawled         name  seller offerType  abtest  \\\n",
              "count                297369       297369  297369    297369  297369   \n",
              "unique               237974       191674       2         2       2   \n",
              "top     2016-03-24 14:49:47  Ford_Fiesta  privat   Angebot    test   \n",
              "freq                      7          508  297367    297358  154051   \n",
              "mean                    NaN          NaN     NaN       NaN     NaN   \n",
              "std                     NaN          NaN     NaN       NaN     NaN   \n",
              "min                     NaN          NaN     NaN       NaN     NaN   \n",
              "25%                     NaN          NaN     NaN       NaN     NaN   \n",
              "50%                     NaN          NaN     NaN       NaN     NaN   \n",
              "75%                     NaN          NaN     NaN       NaN     NaN   \n",
              "max                     NaN          NaN     NaN       NaN     NaN   \n",
              "\n",
              "       vehicleType  yearOfRegistration  gearbox        powerPS   model  \\\n",
              "count       267059       297369.000000   281192  297369.000000  280909   \n",
              "unique           8                 NaN        2            NaN     250   \n",
              "top      limousine                 NaN  manuell            NaN    golf   \n",
              "freq         76608                 NaN   219378            NaN   24126   \n",
              "mean           NaN         2004.471700      NaN     115.183674     NaN   \n",
              "std            NaN           89.562153      NaN     181.360569     NaN   \n",
              "min            NaN         1000.000000      NaN       0.000000     NaN   \n",
              "25%            NaN         1999.000000      NaN      70.000000     NaN   \n",
              "50%            NaN         2003.000000      NaN     105.000000     NaN   \n",
              "75%            NaN         2008.000000      NaN     150.000000     NaN   \n",
              "max            NaN         9999.000000      NaN   20000.000000     NaN   \n",
              "\n",
              "            kilometer  monthOfRegistration fuelType       brand  \\\n",
              "count   297369.000000        297369.000000   270535      297369   \n",
              "unique            NaN                  NaN        7          40   \n",
              "top               NaN                  NaN   benzin  volkswagen   \n",
              "freq              NaN                  NaN   179170       63732   \n",
              "mean    125553.218392             5.740087      NaN         NaN   \n",
              "std      40133.443442             3.714925      NaN         NaN   \n",
              "min       5000.000000             0.000000      NaN         NaN   \n",
              "25%     100000.000000             3.000000      NaN         NaN   \n",
              "50%     150000.000000             6.000000      NaN         NaN   \n",
              "75%     150000.000000             9.000000      NaN         NaN   \n",
              "max     150000.000000            12.000000      NaN         NaN   \n",
              "\n",
              "       notRepairedDamage          dateCreated  nrOfPictures     postalCode  \\\n",
              "count             239636               297369      297369.0  297369.000000   \n",
              "unique                 2                  104           NaN            NaN   \n",
              "top                 nein  2016-04-03 00:00:00           NaN            NaN   \n",
              "freq              210546                11589           NaN            NaN   \n",
              "mean                 NaN                  NaN           0.0   50836.861472   \n",
              "std                  NaN                  NaN           0.0   25799.728603   \n",
              "min                  NaN                  NaN           0.0    1067.000000   \n",
              "25%                  NaN                  NaN           0.0   30459.000000   \n",
              "50%                  NaN                  NaN           0.0   49610.000000   \n",
              "75%                  NaN                  NaN           0.0   71554.000000   \n",
              "max                  NaN                  NaN           0.0   99998.000000   \n",
              "\n",
              "                   lastSeen         price  \n",
              "count                297369  2.973690e+05  \n",
              "unique               155478           NaN  \n",
              "top     2016-04-06 13:45:54           NaN  \n",
              "freq                     16           NaN  \n",
              "mean                    NaN  1.118790e+04  \n",
              "std                     NaN  6.615699e+05  \n",
              "min                     NaN  0.000000e+00  \n",
              "25%                     NaN  1.150000e+03  \n",
              "50%                     NaN  2.950000e+03  \n",
              "75%                     NaN  7.200000e+03  \n",
              "max                     NaN  1.000000e+08  "
            ]
          },
          "metadata": {
            "tags": []
          },
          "execution_count": 7
        }
      ]
    },
    {
      "metadata": {
        "id": "13_bNFRoCCuy",
        "colab_type": "code",
        "colab": {
          "base_uri": "https://localhost:8080/",
          "height": 384
        },
        "outputId": "a6d9777d-8669-4db2-f227-1868d7436ef1"
      },
      "cell_type": "code",
      "source": [
        "car_data.head()"
      ],
      "execution_count": 8,
      "outputs": [
        {
          "output_type": "execute_result",
          "data": {
            "text/html": [
              "<div>\n",
              "<style scoped>\n",
              "    .dataframe tbody tr th:only-of-type {\n",
              "        vertical-align: middle;\n",
              "    }\n",
              "\n",
              "    .dataframe tbody tr th {\n",
              "        vertical-align: top;\n",
              "    }\n",
              "\n",
              "    .dataframe thead th {\n",
              "        text-align: right;\n",
              "    }\n",
              "</style>\n",
              "<table border=\"1\" class=\"dataframe\">\n",
              "  <thead>\n",
              "    <tr style=\"text-align: right;\">\n",
              "      <th></th>\n",
              "      <th>dateCrawled</th>\n",
              "      <th>name</th>\n",
              "      <th>seller</th>\n",
              "      <th>offerType</th>\n",
              "      <th>abtest</th>\n",
              "      <th>vehicleType</th>\n",
              "      <th>yearOfRegistration</th>\n",
              "      <th>gearbox</th>\n",
              "      <th>powerPS</th>\n",
              "      <th>model</th>\n",
              "      <th>kilometer</th>\n",
              "      <th>monthOfRegistration</th>\n",
              "      <th>fuelType</th>\n",
              "      <th>brand</th>\n",
              "      <th>notRepairedDamage</th>\n",
              "      <th>dateCreated</th>\n",
              "      <th>nrOfPictures</th>\n",
              "      <th>postalCode</th>\n",
              "      <th>lastSeen</th>\n",
              "      <th>price</th>\n",
              "    </tr>\n",
              "  </thead>\n",
              "  <tbody>\n",
              "    <tr>\n",
              "      <th>0</th>\n",
              "      <td>2016-03-06 09:45:45</td>\n",
              "      <td>Volkswagen_Golf_Variant_1.9_TDI_Trendline</td>\n",
              "      <td>privat</td>\n",
              "      <td>Angebot</td>\n",
              "      <td>control</td>\n",
              "      <td>kombi</td>\n",
              "      <td>2009</td>\n",
              "      <td>manuell</td>\n",
              "      <td>105</td>\n",
              "      <td>golf</td>\n",
              "      <td>150000</td>\n",
              "      <td>4</td>\n",
              "      <td>diesel</td>\n",
              "      <td>volkswagen</td>\n",
              "      <td>nein</td>\n",
              "      <td>2016-03-06 00:00:00</td>\n",
              "      <td>0</td>\n",
              "      <td>24220</td>\n",
              "      <td>2016-03-26 14:16:37</td>\n",
              "      <td>5999</td>\n",
              "    </tr>\n",
              "    <tr>\n",
              "      <th>1</th>\n",
              "      <td>2016-03-25 16:57:48</td>\n",
              "      <td>Twingo_Baujahr_2000</td>\n",
              "      <td>privat</td>\n",
              "      <td>Angebot</td>\n",
              "      <td>control</td>\n",
              "      <td>kleinwagen</td>\n",
              "      <td>2000</td>\n",
              "      <td>manuell</td>\n",
              "      <td>58</td>\n",
              "      <td>twingo</td>\n",
              "      <td>150000</td>\n",
              "      <td>2</td>\n",
              "      <td>benzin</td>\n",
              "      <td>renault</td>\n",
              "      <td>nein</td>\n",
              "      <td>2016-03-25 00:00:00</td>\n",
              "      <td>0</td>\n",
              "      <td>47167</td>\n",
              "      <td>2016-03-28 17:16:47</td>\n",
              "      <td>0</td>\n",
              "    </tr>\n",
              "    <tr>\n",
              "      <th>2</th>\n",
              "      <td>2016-03-24 08:36:58</td>\n",
              "      <td>BMW_325d_Touring</td>\n",
              "      <td>privat</td>\n",
              "      <td>Angebot</td>\n",
              "      <td>control</td>\n",
              "      <td>kombi</td>\n",
              "      <td>2007</td>\n",
              "      <td>manuell</td>\n",
              "      <td>197</td>\n",
              "      <td>3er</td>\n",
              "      <td>150000</td>\n",
              "      <td>5</td>\n",
              "      <td>diesel</td>\n",
              "      <td>bmw</td>\n",
              "      <td>ja</td>\n",
              "      <td>2016-03-24 00:00:00</td>\n",
              "      <td>0</td>\n",
              "      <td>74535</td>\n",
              "      <td>2016-03-24 09:50:27</td>\n",
              "      <td>6100</td>\n",
              "    </tr>\n",
              "    <tr>\n",
              "      <th>3</th>\n",
              "      <td>2016-04-05 07:36:37</td>\n",
              "      <td>BMW_E36_320i_Touring_M_Paket_Avusblau_individual</td>\n",
              "      <td>privat</td>\n",
              "      <td>Angebot</td>\n",
              "      <td>test</td>\n",
              "      <td>NaN</td>\n",
              "      <td>2000</td>\n",
              "      <td>manuell</td>\n",
              "      <td>150</td>\n",
              "      <td>NaN</td>\n",
              "      <td>150000</td>\n",
              "      <td>9</td>\n",
              "      <td>NaN</td>\n",
              "      <td>bmw</td>\n",
              "      <td>NaN</td>\n",
              "      <td>2016-04-05 00:00:00</td>\n",
              "      <td>0</td>\n",
              "      <td>46047</td>\n",
              "      <td>2016-04-05 09:44:06</td>\n",
              "      <td>1200</td>\n",
              "    </tr>\n",
              "    <tr>\n",
              "      <th>4</th>\n",
              "      <td>2016-03-09 17:58:02</td>\n",
              "      <td>Mercedes_Benz_A_140</td>\n",
              "      <td>privat</td>\n",
              "      <td>Angebot</td>\n",
              "      <td>test</td>\n",
              "      <td>limousine</td>\n",
              "      <td>1999</td>\n",
              "      <td>automatik</td>\n",
              "      <td>82</td>\n",
              "      <td>a_klasse</td>\n",
              "      <td>150000</td>\n",
              "      <td>12</td>\n",
              "      <td>benzin</td>\n",
              "      <td>mercedes_benz</td>\n",
              "      <td>nein</td>\n",
              "      <td>2016-03-09 00:00:00</td>\n",
              "      <td>0</td>\n",
              "      <td>25451</td>\n",
              "      <td>2016-03-22 04:44:36</td>\n",
              "      <td>2500</td>\n",
              "    </tr>\n",
              "  </tbody>\n",
              "</table>\n",
              "</div>"
            ],
            "text/plain": [
              "           dateCrawled                                              name  \\\n",
              "0  2016-03-06 09:45:45         Volkswagen_Golf_Variant_1.9_TDI_Trendline   \n",
              "1  2016-03-25 16:57:48                               Twingo_Baujahr_2000   \n",
              "2  2016-03-24 08:36:58                                  BMW_325d_Touring   \n",
              "3  2016-04-05 07:36:37  BMW_E36_320i_Touring_M_Paket_Avusblau_individual   \n",
              "4  2016-03-09 17:58:02                               Mercedes_Benz_A_140   \n",
              "\n",
              "   seller offerType   abtest vehicleType  yearOfRegistration    gearbox  \\\n",
              "0  privat   Angebot  control       kombi                2009    manuell   \n",
              "1  privat   Angebot  control  kleinwagen                2000    manuell   \n",
              "2  privat   Angebot  control       kombi                2007    manuell   \n",
              "3  privat   Angebot     test         NaN                2000    manuell   \n",
              "4  privat   Angebot     test   limousine                1999  automatik   \n",
              "\n",
              "   powerPS     model  kilometer  monthOfRegistration fuelType          brand  \\\n",
              "0      105      golf     150000                    4   diesel     volkswagen   \n",
              "1       58    twingo     150000                    2   benzin        renault   \n",
              "2      197       3er     150000                    5   diesel            bmw   \n",
              "3      150       NaN     150000                    9      NaN            bmw   \n",
              "4       82  a_klasse     150000                   12   benzin  mercedes_benz   \n",
              "\n",
              "  notRepairedDamage          dateCreated  nrOfPictures  postalCode  \\\n",
              "0              nein  2016-03-06 00:00:00             0       24220   \n",
              "1              nein  2016-03-25 00:00:00             0       47167   \n",
              "2                ja  2016-03-24 00:00:00             0       74535   \n",
              "3               NaN  2016-04-05 00:00:00             0       46047   \n",
              "4              nein  2016-03-09 00:00:00             0       25451   \n",
              "\n",
              "              lastSeen  price  \n",
              "0  2016-03-26 14:16:37   5999  \n",
              "1  2016-03-28 17:16:47      0  \n",
              "2  2016-03-24 09:50:27   6100  \n",
              "3  2016-04-05 09:44:06   1200  \n",
              "4  2016-03-22 04:44:36   2500  "
            ]
          },
          "metadata": {
            "tags": []
          },
          "execution_count": 8
        }
      ]
    },
    {
      "metadata": {
        "id": "XHXRnvONDkMT",
        "colab_type": "code",
        "colab": {
          "base_uri": "https://localhost:8080/",
          "height": 54
        },
        "outputId": "7d9fde1c-992d-4de1-ddbd-04677e6c7321"
      },
      "cell_type": "code",
      "source": [
        "#nrOfPictures\n",
        "print(car_data['nrOfPictures'].sum())\n",
        "print(test_data['nrOfPictures'].sum())"
      ],
      "execution_count": 9,
      "outputs": [
        {
          "output_type": "stream",
          "text": [
            "0\n",
            "0\n"
          ],
          "name": "stdout"
        }
      ]
    },
    {
      "metadata": {
        "id": "OGKCeqzbD2F0",
        "colab_type": "code",
        "colab": {
          "base_uri": "https://localhost:8080/",
          "height": 92
        },
        "outputId": "315bba54-31ab-4a86-9145-bfeaa93c5eec"
      },
      "cell_type": "code",
      "source": [
        "#0 value we should drop this\n",
        "fin_data=car_data.drop('nrOfPictures',1)\n",
        "test_data1 = test_data.drop('nrOfPictures',1)\n",
        "#seller\n",
        "print(fin_data.groupby('seller').size())"
      ],
      "execution_count": 10,
      "outputs": [
        {
          "output_type": "stream",
          "text": [
            "seller\n",
            "gewerblich         2\n",
            "privat        297367\n",
            "dtype: int64\n"
          ],
          "name": "stdout"
        }
      ]
    },
    {
      "metadata": {
        "id": "-UkL1Z67EYDq",
        "colab_type": "code",
        "colab": {
          "base_uri": "https://localhost:8080/",
          "height": 92
        },
        "outputId": "39ff355f-7407-47e0-a46e-131645aef8f4"
      },
      "cell_type": "code",
      "source": [
        "#we can remove 3 rows containing geweblich and all will be private\n",
        "fin_data = fin_data[fin_data.seller != 'gewerblich']\n",
        "test_data1 = test_data1[test_data1.seller != 'gewerblich']\n",
        "fin_data=fin_data.drop('seller',1)\n",
        "test_data1 = test_data1.drop('seller',1)\n",
        "#offerType\n",
        "print(fin_data.groupby('offerType').size())"
      ],
      "execution_count": 11,
      "outputs": [
        {
          "output_type": "stream",
          "text": [
            "offerType\n",
            "Angebot    297356\n",
            "Gesuch         11\n",
            "dtype: int64\n"
          ],
          "name": "stdout"
        }
      ]
    },
    {
      "metadata": {
        "id": "dKbUwVa2CuUz",
        "colab_type": "code",
        "colab": {
          "base_uri": "https://localhost:8080/",
          "height": 54
        },
        "outputId": "7b321d1b-8efb-46c0-c8aa-78ea804f8ccb"
      },
      "cell_type": "code",
      "source": [
        "#same for offerType no need of these 11 rows\n",
        "fin_data = fin_data[fin_data.offerType != 'Gesuch']\n",
        "test_data1 = test_data1[test_data.offerType != 'Gesuch']\n",
        "fin_data=fin_data.drop('offerType',1)\n",
        "test_data1 = test_data1.drop('offerType',1)"
      ],
      "execution_count": 12,
      "outputs": [
        {
          "output_type": "stream",
          "text": [
            "/usr/local/lib/python3.6/dist-packages/ipykernel_launcher.py:2: UserWarning: Boolean Series key will be reindexed to match DataFrame index.\n",
            "  \n"
          ],
          "name": "stderr"
        }
      ]
    },
    {
      "metadata": {
        "id": "ESpD-aQ-Ru1I",
        "colab_type": "code",
        "colab": {
          "base_uri": "https://localhost:8080/",
          "height": 74
        },
        "outputId": "92faa9a0-7cb0-4d99-8c22-844f41550e42"
      },
      "cell_type": "code",
      "source": [
        "print(list(test_data1))\n",
        "print(list(fin_data))"
      ],
      "execution_count": 13,
      "outputs": [
        {
          "output_type": "stream",
          "text": [
            "['dateCrawled', 'name', 'abtest', 'vehicleType', 'yearOfRegistration', 'gearbox', 'powerPS', 'model', 'kilometer', 'monthOfRegistration', 'fuelType', 'brand', 'notRepairedDamage', 'dateCreated', 'postalCode', 'lastSeen']\n",
            "['dateCrawled', 'name', 'abtest', 'vehicleType', 'yearOfRegistration', 'gearbox', 'powerPS', 'model', 'kilometer', 'monthOfRegistration', 'fuelType', 'brand', 'notRepairedDamage', 'dateCreated', 'postalCode', 'lastSeen', 'price']\n"
          ],
          "name": "stdout"
        }
      ]
    },
    {
      "metadata": {
        "id": "k92_kzT1FH_w",
        "colab_type": "code",
        "colab": {
          "base_uri": "https://localhost:8080/",
          "height": 35
        },
        "outputId": "1af87afd-ac79-43f8-db89-34349351df62"
      },
      "cell_type": "code",
      "source": [
        "#name\n",
        "print(len(fin_data.groupby('name').size()))"
      ],
      "execution_count": 14,
      "outputs": [
        {
          "output_type": "stream",
          "text": [
            "191661\n"
          ],
          "name": "stdout"
        }
      ]
    },
    {
      "metadata": {
        "id": "-PzEi3EVFcwP",
        "colab_type": "code",
        "colab": {}
      },
      "cell_type": "code",
      "source": [
        "#many unique val in name can able to predict conclusions based on this hence drop this too\n",
        "fin_data=fin_data.drop('name',1)\n",
        "test_data1 = test_data1.drop('name',1)\n"
      ],
      "execution_count": 0,
      "outputs": []
    },
    {
      "metadata": {
        "id": "X6OBVmgxFv9U",
        "colab_type": "code",
        "colab": {}
      },
      "cell_type": "code",
      "source": [
        "#none of our buisness\n",
        "fin_data=fin_data.drop('abtest',1)"
      ],
      "execution_count": 0,
      "outputs": []
    },
    {
      "metadata": {
        "id": "iIT6HWUoSOZR",
        "colab_type": "code",
        "colab": {}
      },
      "cell_type": "code",
      "source": [
        "test_data1 = test_data1.drop('abtest',1)\n"
      ],
      "execution_count": 0,
      "outputs": []
    },
    {
      "metadata": {
        "id": "dYssG9keF45A",
        "colab_type": "code",
        "colab": {}
      },
      "cell_type": "code",
      "source": [
        "t_data=fin_data.sample(n=10000, random_state=1)"
      ],
      "execution_count": 0,
      "outputs": []
    },
    {
      "metadata": {
        "id": "6rG-G4IZbazg",
        "colab_type": "code",
        "colab": {
          "base_uri": "https://localhost:8080/",
          "height": 650
        },
        "outputId": "b3f785f2-de84-47c3-d122-49565aed6783"
      },
      "cell_type": "code",
      "source": [
        "t_data['price'].hist(bins=50)\n",
        "plt.title('Original-Histogram price')\n",
        "plt.show()\n",
        "fin_data = fin_data[fin_data.price < 100000]\n",
        "t_data=fin_data.sample(n=10000, random_state=1)\n",
        "\n",
        "plt.subplot(3,1,2)\n",
        "t_data['price'].hist(bins=50)\n",
        "plt.title('Cut-Histogram price')\n",
        "plt.show()\n",
        "\n",
        "print(len(fin_data[fin_data.price == 0]), 'cars with price 0')\n",
        "#The other way round some people are giving their car away for free. Unlikly in such high rates. Remove!\n",
        "fin_data = fin_data[fin_data.price != 0]\n",
        "sample_data=fin_data.sample(n=10000, random_state=1)\n",
        "\n",
        "plt.subplot(3,1,3)\n",
        "sample_data['price'].hist(bins=50)\n",
        "plt.title('Final-Histogram price')\n",
        "plt.show()"
      ],
      "execution_count": 19,
      "outputs": [
        {
          "output_type": "display_data",
          "data": {
            "image/png": "[encoded data removed]",
            "text/plain": [
              "<matplotlib.figure.Figure at 0x7f71faa976d8>"
            ]
          },
          "metadata": {
            "tags": []
          }
        },
        {
          "output_type": "display_data",
          "data": {
            "image/png": "[encoded data removed]",
            "text/plain": [
              "<matplotlib.figure.Figure at 0x7f71fabc7b00>"
            ]
          },
          "metadata": {
            "tags": []
          }
        },
        {
          "output_type": "stream",
          "text": [
            "8649 cars with price 0\n"
          ],
          "name": "stdout"
        },
        {
          "output_type": "display_data",
          "data": {
            "image/png": "[encoded data removed]",
            "text/plain": [
              "<matplotlib.figure.Figure at 0x7f71faa97668>"
            ]
          },
          "metadata": {
            "tags": []
          }
        }
      ]
    },
    {
      "metadata": {
        "id": "cNkDWCzl5kJG",
        "colab_type": "code",
        "colab": {}
      },
      "cell_type": "code",
      "source": [
        "fin_data = fin_data[(fin_data.yearOfRegistration >= 1863) & (fin_data.yearOfRegistration < 2017)]\n",
        "test_data1 = test_data1[(test_data1.yearOfRegistration >= 1863) & (test_data1.yearOfRegistration < 2017)]\n",
        "\n",
        "\n",
        "fin_data.loc[fin_data['monthOfRegistration'] == 0, 'monthOfRegistration'] = 1"
      ],
      "execution_count": 0,
      "outputs": []
    },
    {
      "metadata": {
        "id": "oJvWHLYMSdnz",
        "colab_type": "code",
        "colab": {}
      },
      "cell_type": "code",
      "source": [
        "\n",
        "test_data1.loc[test_data1['monthOfRegistration'] == 0, 'monthOfRegistration'] = 1"
      ],
      "execution_count": 0,
      "outputs": []
    },
    {
      "metadata": {
        "id": "HXA_A-PWrNu1",
        "colab_type": "code",
        "colab": {}
      },
      "cell_type": "code",
      "source": [
        "fin_data['dateRegistered'] = fin_data['yearOfRegistration'].map(str) +\"-\"+fin_data['monthOfRegistration'].map(str)+\"-\"+\"01\"\n",
        "test_data1['dateRegistered'] = test_data1['yearOfRegistration'].map(str) +\"-\"+test_data1['monthOfRegistration'].map(str)+\"-\"+\"01\""
      ],
      "execution_count": 0,
      "outputs": []
    },
    {
      "metadata": {
        "id": "p7UElp6Zp1nn",
        "colab_type": "code",
        "colab": {}
      },
      "cell_type": "code",
      "source": [
        "#hence the dateCRawlen and dateCreated are not diffrent hence drop dateCrawled\n",
        "fin_data = fin_data.drop('dateCrawled',1)\n",
        "fin_data = fin_data.drop('lastSeen',1)\n",
        "fin_data = fin_data.drop('yearOfRegistration',1)\n",
        "fin_data = fin_data.drop('monthOfRegistration',1)\n",
        "test_data1 = test_data1.drop('dateCrawled',1)\n",
        "test_data1 = test_data1.drop('lastSeen',1)\n",
        "test_data1 = test_data1.drop('yearOfRegistration',1)\n",
        "test_data1 = test_data1.drop('monthOfRegistration',1)"
      ],
      "execution_count": 0,
      "outputs": []
    },
    {
      "metadata": {
        "id": "Rg4PXPgY-2rJ",
        "colab_type": "code",
        "colab": {}
      },
      "cell_type": "code",
      "source": [
        "f = pd.to_datetime(fin_data['dateCreated'],format='%Y-%m')\n",
        "g = pd.to_datetime(fin_data['dateRegistered'],format='%Y-%m',infer_datetime_format=True)\n",
        "f1 = pd.to_datetime(test_data1['dateCreated'],format='%Y-%m')\n",
        "g1 = pd.to_datetime(test_data1['dateRegistered'],format='%Y-%m',infer_datetime_format=True)"
      ],
      "execution_count": 0,
      "outputs": []
    },
    {
      "metadata": {
        "id": "hFjHW2DSB9Pl",
        "colab_type": "code",
        "colab": {}
      },
      "cell_type": "code",
      "source": [
        "test_data1['age'] = f1-g1\n",
        "#now no need of date created & dateRegisterred hence drop thosse\n",
        "fin_data['age'] = f-g\n",
        "#now no need of date created & dateRegisterred hence drop thosse"
      ],
      "execution_count": 0,
      "outputs": []
    },
    {
      "metadata": {
        "id": "mZgUN3O8CSAH",
        "colab_type": "code",
        "colab": {}
      },
      "cell_type": "code",
      "source": [
        "fin_data = fin_data.drop('dateCreated',1)\n",
        "fin_data = fin_data.drop('dateRegistered',1)\n",
        "test_data1 = test_data1.drop('dateCreated',1)\n",
        "test_data1 = test_data1.drop('dateRegistered',1)"
      ],
      "execution_count": 0,
      "outputs": []
    },
    {
      "metadata": {
        "id": "scdXKGaOc2I8",
        "colab_type": "code",
        "colab": {
          "base_uri": "https://localhost:8080/",
          "height": 186
        },
        "outputId": "a93b538f-0ab9-46b2-8d82-90a5dcd448ad"
      },
      "cell_type": "code",
      "source": [
        "#inspecting: powerPS\n",
        "print(fin_data['powerPS'].describe())"
      ],
      "execution_count": 27,
      "outputs": [
        {
          "output_type": "stream",
          "text": [
            "count    277179.000000\n",
            "mean        116.996923\n",
            "std         175.674596\n",
            "min           0.000000\n",
            "25%          75.000000\n",
            "50%         109.000000\n",
            "75%         150.000000\n",
            "max       20000.000000\n",
            "Name: powerPS, dtype: float64\n"
          ],
          "name": "stdout"
        }
      ]
    },
    {
      "metadata": {
        "id": "q1bNFW6apjJJ",
        "colab_type": "code",
        "colab": {
          "base_uri": "https://localhost:8080/",
          "height": 197
        },
        "outputId": "64768818-85cd-469c-9c54-1bc654084994"
      },
      "cell_type": "code",
      "source": [
        "fin_data.head()"
      ],
      "execution_count": 28,
      "outputs": [
        {
          "output_type": "execute_result",
          "data": {
            "text/html": [
              "<div>\n",
              "<style scoped>\n",
              "    .dataframe tbody tr th:only-of-type {\n",
              "        vertical-align: middle;\n",
              "    }\n",
              "\n",
              "    .dataframe tbody tr th {\n",
              "        vertical-align: top;\n",
              "    }\n",
              "\n",
              "    .dataframe thead th {\n",
              "        text-align: right;\n",
              "    }\n",
              "</style>\n",
              "<table border=\"1\" class=\"dataframe\">\n",
              "  <thead>\n",
              "    <tr style=\"text-align: right;\">\n",
              "      <th></th>\n",
              "      <th>vehicleType</th>\n",
              "      <th>gearbox</th>\n",
              "      <th>powerPS</th>\n",
              "      <th>model</th>\n",
              "      <th>kilometer</th>\n",
              "      <th>fuelType</th>\n",
              "      <th>brand</th>\n",
              "      <th>notRepairedDamage</th>\n",
              "      <th>postalCode</th>\n",
              "      <th>price</th>\n",
              "      <th>age</th>\n",
              "    </tr>\n",
              "  </thead>\n",
              "  <tbody>\n",
              "    <tr>\n",
              "      <th>0</th>\n",
              "      <td>kombi</td>\n",
              "      <td>manuell</td>\n",
              "      <td>105</td>\n",
              "      <td>golf</td>\n",
              "      <td>150000</td>\n",
              "      <td>diesel</td>\n",
              "      <td>volkswagen</td>\n",
              "      <td>nein</td>\n",
              "      <td>24220</td>\n",
              "      <td>5999</td>\n",
              "      <td>2531 days</td>\n",
              "    </tr>\n",
              "    <tr>\n",
              "      <th>2</th>\n",
              "      <td>kombi</td>\n",
              "      <td>manuell</td>\n",
              "      <td>197</td>\n",
              "      <td>3er</td>\n",
              "      <td>150000</td>\n",
              "      <td>diesel</td>\n",
              "      <td>bmw</td>\n",
              "      <td>ja</td>\n",
              "      <td>74535</td>\n",
              "      <td>6100</td>\n",
              "      <td>3250 days</td>\n",
              "    </tr>\n",
              "    <tr>\n",
              "      <th>3</th>\n",
              "      <td>NaN</td>\n",
              "      <td>manuell</td>\n",
              "      <td>150</td>\n",
              "      <td>NaN</td>\n",
              "      <td>150000</td>\n",
              "      <td>NaN</td>\n",
              "      <td>bmw</td>\n",
              "      <td>NaN</td>\n",
              "      <td>46047</td>\n",
              "      <td>1200</td>\n",
              "      <td>5695 days</td>\n",
              "    </tr>\n",
              "    <tr>\n",
              "      <th>4</th>\n",
              "      <td>limousine</td>\n",
              "      <td>automatik</td>\n",
              "      <td>82</td>\n",
              "      <td>a_klasse</td>\n",
              "      <td>150000</td>\n",
              "      <td>benzin</td>\n",
              "      <td>mercedes_benz</td>\n",
              "      <td>nein</td>\n",
              "      <td>25451</td>\n",
              "      <td>2500</td>\n",
              "      <td>5943 days</td>\n",
              "    </tr>\n",
              "    <tr>\n",
              "      <th>5</th>\n",
              "      <td>kleinwagen</td>\n",
              "      <td>manuell</td>\n",
              "      <td>60</td>\n",
              "      <td>golf</td>\n",
              "      <td>150000</td>\n",
              "      <td>benzin</td>\n",
              "      <td>volkswagen</td>\n",
              "      <td>nein</td>\n",
              "      <td>17379</td>\n",
              "      <td>1680</td>\n",
              "      <td>6066 days</td>\n",
              "    </tr>\n",
              "  </tbody>\n",
              "</table>\n",
              "</div>"
            ],
            "text/plain": [
              "  vehicleType    gearbox  powerPS     model  kilometer fuelType  \\\n",
              "0       kombi    manuell      105      golf     150000   diesel   \n",
              "2       kombi    manuell      197       3er     150000   diesel   \n",
              "3         NaN    manuell      150       NaN     150000      NaN   \n",
              "4   limousine  automatik       82  a_klasse     150000   benzin   \n",
              "5  kleinwagen    manuell       60      golf     150000   benzin   \n",
              "\n",
              "           brand notRepairedDamage  postalCode  price       age  \n",
              "0     volkswagen              nein       24220   5999 2531 days  \n",
              "2            bmw                ja       74535   6100 3250 days  \n",
              "3            bmw               NaN       46047   1200 5695 days  \n",
              "4  mercedes_benz              nein       25451   2500 5943 days  \n",
              "5     volkswagen              nein       17379   1680 6066 days  "
            ]
          },
          "metadata": {
            "tags": []
          },
          "execution_count": 28
        }
      ]
    },
    {
      "metadata": {
        "id": "gAanND_iTQdp",
        "colab_type": "code",
        "colab": {
          "base_uri": "https://localhost:8080/",
          "height": 1906
        },
        "outputId": "a2000818-5570-4e75-c21a-e0f4f5fae632"
      },
      "cell_type": "code",
      "source": [
        "test_data1"
      ],
      "execution_count": 29,
      "outputs": [
        {
          "output_type": "execute_result",
          "data": {
            "text/html": [
              "<div>\n",
              "<style scoped>\n",
              "    .dataframe tbody tr th:only-of-type {\n",
              "        vertical-align: middle;\n",
              "    }\n",
              "\n",
              "    .dataframe tbody tr th {\n",
              "        vertical-align: top;\n",
              "    }\n",
              "\n",
              "    .dataframe thead th {\n",
              "        text-align: right;\n",
              "    }\n",
              "</style>\n",
              "<table border=\"1\" class=\"dataframe\">\n",
              "  <thead>\n",
              "    <tr style=\"text-align: right;\">\n",
              "      <th></th>\n",
              "      <th>vehicleType</th>\n",
              "      <th>gearbox</th>\n",
              "      <th>powerPS</th>\n",
              "      <th>model</th>\n",
              "      <th>kilometer</th>\n",
              "      <th>fuelType</th>\n",
              "      <th>brand</th>\n",
              "      <th>notRepairedDamage</th>\n",
              "      <th>postalCode</th>\n",
              "      <th>age</th>\n",
              "    </tr>\n",
              "  </thead>\n",
              "  <tbody>\n",
              "    <tr>\n",
              "      <th>0</th>\n",
              "      <td>kleinwagen</td>\n",
              "      <td>manuell</td>\n",
              "      <td>68</td>\n",
              "      <td>aygo</td>\n",
              "      <td>70000</td>\n",
              "      <td>benzin</td>\n",
              "      <td>toyota</td>\n",
              "      <td>nein</td>\n",
              "      <td>70567</td>\n",
              "      <td>1492 days</td>\n",
              "    </tr>\n",
              "    <tr>\n",
              "      <th>1</th>\n",
              "      <td>limousine</td>\n",
              "      <td>manuell</td>\n",
              "      <td>265</td>\n",
              "      <td>a3</td>\n",
              "      <td>150000</td>\n",
              "      <td>benzin</td>\n",
              "      <td>audi</td>\n",
              "      <td>nein</td>\n",
              "      <td>95448</td>\n",
              "      <td>6912 days</td>\n",
              "    </tr>\n",
              "    <tr>\n",
              "      <th>2</th>\n",
              "      <td>coupe</td>\n",
              "      <td>manuell</td>\n",
              "      <td>170</td>\n",
              "      <td>3er</td>\n",
              "      <td>150000</td>\n",
              "      <td>benzin</td>\n",
              "      <td>bmw</td>\n",
              "      <td>nein</td>\n",
              "      <td>85467</td>\n",
              "      <td>6647 days</td>\n",
              "    </tr>\n",
              "    <tr>\n",
              "      <th>3</th>\n",
              "      <td>limousine</td>\n",
              "      <td>automatik</td>\n",
              "      <td>102</td>\n",
              "      <td>a_klasse</td>\n",
              "      <td>150000</td>\n",
              "      <td>benzin</td>\n",
              "      <td>mercedes_benz</td>\n",
              "      <td>nein</td>\n",
              "      <td>53757</td>\n",
              "      <td>5407 days</td>\n",
              "    </tr>\n",
              "    <tr>\n",
              "      <th>4</th>\n",
              "      <td>limousine</td>\n",
              "      <td>automatik</td>\n",
              "      <td>252</td>\n",
              "      <td>7er</td>\n",
              "      <td>150000</td>\n",
              "      <td>benzin</td>\n",
              "      <td>bmw</td>\n",
              "      <td>nein</td>\n",
              "      <td>47574</td>\n",
              "      <td>11991 days</td>\n",
              "    </tr>\n",
              "    <tr>\n",
              "      <th>5</th>\n",
              "      <td>kleinwagen</td>\n",
              "      <td>manuell</td>\n",
              "      <td>44</td>\n",
              "      <td>corsa</td>\n",
              "      <td>125000</td>\n",
              "      <td>benzin</td>\n",
              "      <td>opel</td>\n",
              "      <td>nein</td>\n",
              "      <td>53783</td>\n",
              "      <td>4143 days</td>\n",
              "    </tr>\n",
              "    <tr>\n",
              "      <th>6</th>\n",
              "      <td>NaN</td>\n",
              "      <td>NaN</td>\n",
              "      <td>0</td>\n",
              "      <td>NaN</td>\n",
              "      <td>150000</td>\n",
              "      <td>NaN</td>\n",
              "      <td>opel</td>\n",
              "      <td>NaN</td>\n",
              "      <td>51645</td>\n",
              "      <td>4101 days</td>\n",
              "    </tr>\n",
              "    <tr>\n",
              "      <th>7</th>\n",
              "      <td>limousine</td>\n",
              "      <td>manuell</td>\n",
              "      <td>88</td>\n",
              "      <td>NaN</td>\n",
              "      <td>125000</td>\n",
              "      <td>NaN</td>\n",
              "      <td>renault</td>\n",
              "      <td>ja</td>\n",
              "      <td>4329</td>\n",
              "      <td>8331 days</td>\n",
              "    </tr>\n",
              "    <tr>\n",
              "      <th>8</th>\n",
              "      <td>bus</td>\n",
              "      <td>manuell</td>\n",
              "      <td>69</td>\n",
              "      <td>andere</td>\n",
              "      <td>150000</td>\n",
              "      <td>diesel</td>\n",
              "      <td>peugeot</td>\n",
              "      <td>NaN</td>\n",
              "      <td>82211</td>\n",
              "      <td>4763 days</td>\n",
              "    </tr>\n",
              "    <tr>\n",
              "      <th>9</th>\n",
              "      <td>NaN</td>\n",
              "      <td>NaN</td>\n",
              "      <td>0</td>\n",
              "      <td>NaN</td>\n",
              "      <td>5000</td>\n",
              "      <td>NaN</td>\n",
              "      <td>audi</td>\n",
              "      <td>ja</td>\n",
              "      <td>10249</td>\n",
              "      <td>5938 days</td>\n",
              "    </tr>\n",
              "    <tr>\n",
              "      <th>10</th>\n",
              "      <td>limousine</td>\n",
              "      <td>manuell</td>\n",
              "      <td>136</td>\n",
              "      <td>e_klasse</td>\n",
              "      <td>50000</td>\n",
              "      <td>benzin</td>\n",
              "      <td>mercedes_benz</td>\n",
              "      <td>nein</td>\n",
              "      <td>88213</td>\n",
              "      <td>6581 days</td>\n",
              "    </tr>\n",
              "    <tr>\n",
              "      <th>11</th>\n",
              "      <td>NaN</td>\n",
              "      <td>manuell</td>\n",
              "      <td>60</td>\n",
              "      <td>polo</td>\n",
              "      <td>90000</td>\n",
              "      <td>benzin</td>\n",
              "      <td>volkswagen</td>\n",
              "      <td>NaN</td>\n",
              "      <td>79106</td>\n",
              "      <td>-255 days</td>\n",
              "    </tr>\n",
              "    <tr>\n",
              "      <th>12</th>\n",
              "      <td>limousine</td>\n",
              "      <td>manuell</td>\n",
              "      <td>231</td>\n",
              "      <td>3er</td>\n",
              "      <td>150000</td>\n",
              "      <td>diesel</td>\n",
              "      <td>bmw</td>\n",
              "      <td>nein</td>\n",
              "      <td>48599</td>\n",
              "      <td>3745 days</td>\n",
              "    </tr>\n",
              "    <tr>\n",
              "      <th>13</th>\n",
              "      <td>kleinwagen</td>\n",
              "      <td>manuell</td>\n",
              "      <td>156</td>\n",
              "      <td>ibiza</td>\n",
              "      <td>150000</td>\n",
              "      <td>benzin</td>\n",
              "      <td>seat</td>\n",
              "      <td>ja</td>\n",
              "      <td>92249</td>\n",
              "      <td>5935 days</td>\n",
              "    </tr>\n",
              "    <tr>\n",
              "      <th>14</th>\n",
              "      <td>coupe</td>\n",
              "      <td>manuell</td>\n",
              "      <td>170</td>\n",
              "      <td>3er</td>\n",
              "      <td>150000</td>\n",
              "      <td>benzin</td>\n",
              "      <td>bmw</td>\n",
              "      <td>NaN</td>\n",
              "      <td>4509</td>\n",
              "      <td>9585 days</td>\n",
              "    </tr>\n",
              "    <tr>\n",
              "      <th>15</th>\n",
              "      <td>kombi</td>\n",
              "      <td>manuell</td>\n",
              "      <td>165</td>\n",
              "      <td>a4</td>\n",
              "      <td>150000</td>\n",
              "      <td>benzin</td>\n",
              "      <td>audi</td>\n",
              "      <td>ja</td>\n",
              "      <td>79730</td>\n",
              "      <td>6638 days</td>\n",
              "    </tr>\n",
              "    <tr>\n",
              "      <th>16</th>\n",
              "      <td>limousine</td>\n",
              "      <td>manuell</td>\n",
              "      <td>150</td>\n",
              "      <td>a4</td>\n",
              "      <td>150000</td>\n",
              "      <td>benzin</td>\n",
              "      <td>audi</td>\n",
              "      <td>nein</td>\n",
              "      <td>6729</td>\n",
              "      <td>7795 days</td>\n",
              "    </tr>\n",
              "    <tr>\n",
              "      <th>17</th>\n",
              "      <td>suv</td>\n",
              "      <td>manuell</td>\n",
              "      <td>140</td>\n",
              "      <td>tiguan</td>\n",
              "      <td>70000</td>\n",
              "      <td>diesel</td>\n",
              "      <td>volkswagen</td>\n",
              "      <td>nein</td>\n",
              "      <td>86565</td>\n",
              "      <td>1237 days</td>\n",
              "    </tr>\n",
              "    <tr>\n",
              "      <th>18</th>\n",
              "      <td>limousine</td>\n",
              "      <td>manuell</td>\n",
              "      <td>75</td>\n",
              "      <td>ibiza</td>\n",
              "      <td>125000</td>\n",
              "      <td>benzin</td>\n",
              "      <td>seat</td>\n",
              "      <td>nein</td>\n",
              "      <td>57520</td>\n",
              "      <td>4023 days</td>\n",
              "    </tr>\n",
              "    <tr>\n",
              "      <th>19</th>\n",
              "      <td>kleinwagen</td>\n",
              "      <td>manuell</td>\n",
              "      <td>60</td>\n",
              "      <td>corsa</td>\n",
              "      <td>150000</td>\n",
              "      <td>NaN</td>\n",
              "      <td>opel</td>\n",
              "      <td>NaN</td>\n",
              "      <td>16727</td>\n",
              "      <td>7199 days</td>\n",
              "    </tr>\n",
              "    <tr>\n",
              "      <th>20</th>\n",
              "      <td>NaN</td>\n",
              "      <td>manuell</td>\n",
              "      <td>0</td>\n",
              "      <td>golf</td>\n",
              "      <td>150000</td>\n",
              "      <td>NaN</td>\n",
              "      <td>volkswagen</td>\n",
              "      <td>nein</td>\n",
              "      <td>26624</td>\n",
              "      <td>90 days</td>\n",
              "    </tr>\n",
              "    <tr>\n",
              "      <th>21</th>\n",
              "      <td>kleinwagen</td>\n",
              "      <td>manuell</td>\n",
              "      <td>88</td>\n",
              "      <td>clio</td>\n",
              "      <td>125000</td>\n",
              "      <td>benzin</td>\n",
              "      <td>renault</td>\n",
              "      <td>ja</td>\n",
              "      <td>56410</td>\n",
              "      <td>3501 days</td>\n",
              "    </tr>\n",
              "    <tr>\n",
              "      <th>22</th>\n",
              "      <td>limousine</td>\n",
              "      <td>automatik</td>\n",
              "      <td>160</td>\n",
              "      <td>andere</td>\n",
              "      <td>150000</td>\n",
              "      <td>benzin</td>\n",
              "      <td>mercedes_benz</td>\n",
              "      <td>nein</td>\n",
              "      <td>83134</td>\n",
              "      <td>7937 days</td>\n",
              "    </tr>\n",
              "    <tr>\n",
              "      <th>23</th>\n",
              "      <td>bus</td>\n",
              "      <td>manuell</td>\n",
              "      <td>68</td>\n",
              "      <td>transporter</td>\n",
              "      <td>150000</td>\n",
              "      <td>diesel</td>\n",
              "      <td>volkswagen</td>\n",
              "      <td>nein</td>\n",
              "      <td>33397</td>\n",
              "      <td>6335 days</td>\n",
              "    </tr>\n",
              "    <tr>\n",
              "      <th>24</th>\n",
              "      <td>cabrio</td>\n",
              "      <td>manuell</td>\n",
              "      <td>132</td>\n",
              "      <td>3_reihe</td>\n",
              "      <td>125000</td>\n",
              "      <td>NaN</td>\n",
              "      <td>peugeot</td>\n",
              "      <td>NaN</td>\n",
              "      <td>92318</td>\n",
              "      <td>5813 days</td>\n",
              "    </tr>\n",
              "    <tr>\n",
              "      <th>25</th>\n",
              "      <td>kleinwagen</td>\n",
              "      <td>automatik</td>\n",
              "      <td>101</td>\n",
              "      <td>a3</td>\n",
              "      <td>150000</td>\n",
              "      <td>benzin</td>\n",
              "      <td>audi</td>\n",
              "      <td>nein</td>\n",
              "      <td>55597</td>\n",
              "      <td>6351 days</td>\n",
              "    </tr>\n",
              "    <tr>\n",
              "      <th>26</th>\n",
              "      <td>limousine</td>\n",
              "      <td>manuell</td>\n",
              "      <td>150</td>\n",
              "      <td>3er</td>\n",
              "      <td>150000</td>\n",
              "      <td>benzin</td>\n",
              "      <td>bmw</td>\n",
              "      <td>nein</td>\n",
              "      <td>24943</td>\n",
              "      <td>6379 days</td>\n",
              "    </tr>\n",
              "    <tr>\n",
              "      <th>28</th>\n",
              "      <td>kombi</td>\n",
              "      <td>manuell</td>\n",
              "      <td>84</td>\n",
              "      <td>transporter</td>\n",
              "      <td>150000</td>\n",
              "      <td>diesel</td>\n",
              "      <td>volkswagen</td>\n",
              "      <td>nein</td>\n",
              "      <td>51109</td>\n",
              "      <td>3676 days</td>\n",
              "    </tr>\n",
              "    <tr>\n",
              "      <th>29</th>\n",
              "      <td>limousine</td>\n",
              "      <td>automatik</td>\n",
              "      <td>131</td>\n",
              "      <td>a4</td>\n",
              "      <td>150000</td>\n",
              "      <td>benzin</td>\n",
              "      <td>audi</td>\n",
              "      <td>nein</td>\n",
              "      <td>23795</td>\n",
              "      <td>4190 days</td>\n",
              "    </tr>\n",
              "    <tr>\n",
              "      <th>30</th>\n",
              "      <td>coupe</td>\n",
              "      <td>automatik</td>\n",
              "      <td>224</td>\n",
              "      <td>andere</td>\n",
              "      <td>150000</td>\n",
              "      <td>diesel</td>\n",
              "      <td>mercedes_benz</td>\n",
              "      <td>nein</td>\n",
              "      <td>12353</td>\n",
              "      <td>3577 days</td>\n",
              "    </tr>\n",
              "    <tr>\n",
              "      <th>...</th>\n",
              "      <td>...</td>\n",
              "      <td>...</td>\n",
              "      <td>...</td>\n",
              "      <td>...</td>\n",
              "      <td>...</td>\n",
              "      <td>...</td>\n",
              "      <td>...</td>\n",
              "      <td>...</td>\n",
              "      <td>...</td>\n",
              "      <td>...</td>\n",
              "    </tr>\n",
              "    <tr>\n",
              "      <th>74313</th>\n",
              "      <td>kleinwagen</td>\n",
              "      <td>manuell</td>\n",
              "      <td>54</td>\n",
              "      <td>corsa</td>\n",
              "      <td>150000</td>\n",
              "      <td>benzin</td>\n",
              "      <td>opel</td>\n",
              "      <td>nein</td>\n",
              "      <td>44866</td>\n",
              "      <td>6530 days</td>\n",
              "    </tr>\n",
              "    <tr>\n",
              "      <th>74314</th>\n",
              "      <td>kleinwagen</td>\n",
              "      <td>manuell</td>\n",
              "      <td>75</td>\n",
              "      <td>corsa</td>\n",
              "      <td>150000</td>\n",
              "      <td>benzin</td>\n",
              "      <td>opel</td>\n",
              "      <td>NaN</td>\n",
              "      <td>36043</td>\n",
              "      <td>7525 days</td>\n",
              "    </tr>\n",
              "    <tr>\n",
              "      <th>74315</th>\n",
              "      <td>kombi</td>\n",
              "      <td>automatik</td>\n",
              "      <td>122</td>\n",
              "      <td>c_klasse</td>\n",
              "      <td>150000</td>\n",
              "      <td>benzin</td>\n",
              "      <td>mercedes_benz</td>\n",
              "      <td>nein</td>\n",
              "      <td>12683</td>\n",
              "      <td>6128 days</td>\n",
              "    </tr>\n",
              "    <tr>\n",
              "      <th>74316</th>\n",
              "      <td>kleinwagen</td>\n",
              "      <td>manuell</td>\n",
              "      <td>68</td>\n",
              "      <td>fiesta</td>\n",
              "      <td>150000</td>\n",
              "      <td>diesel</td>\n",
              "      <td>ford</td>\n",
              "      <td>nein</td>\n",
              "      <td>85774</td>\n",
              "      <td>4844 days</td>\n",
              "    </tr>\n",
              "    <tr>\n",
              "      <th>74317</th>\n",
              "      <td>kleinwagen</td>\n",
              "      <td>manuell</td>\n",
              "      <td>58</td>\n",
              "      <td>agila</td>\n",
              "      <td>150000</td>\n",
              "      <td>benzin</td>\n",
              "      <td>opel</td>\n",
              "      <td>nein</td>\n",
              "      <td>24640</td>\n",
              "      <td>5641 days</td>\n",
              "    </tr>\n",
              "    <tr>\n",
              "      <th>74318</th>\n",
              "      <td>limousine</td>\n",
              "      <td>automatik</td>\n",
              "      <td>156</td>\n",
              "      <td>c_klasse</td>\n",
              "      <td>50000</td>\n",
              "      <td>benzin</td>\n",
              "      <td>mercedes_benz</td>\n",
              "      <td>nein</td>\n",
              "      <td>12347</td>\n",
              "      <td>1388 days</td>\n",
              "    </tr>\n",
              "    <tr>\n",
              "      <th>74319</th>\n",
              "      <td>bus</td>\n",
              "      <td>NaN</td>\n",
              "      <td>116</td>\n",
              "      <td>sharan</td>\n",
              "      <td>150000</td>\n",
              "      <td>diesel</td>\n",
              "      <td>volkswagen</td>\n",
              "      <td>nein</td>\n",
              "      <td>32547</td>\n",
              "      <td>5855 days</td>\n",
              "    </tr>\n",
              "    <tr>\n",
              "      <th>74320</th>\n",
              "      <td>limousine</td>\n",
              "      <td>manuell</td>\n",
              "      <td>0</td>\n",
              "      <td>scenic</td>\n",
              "      <td>5000</td>\n",
              "      <td>benzin</td>\n",
              "      <td>renault</td>\n",
              "      <td>nein</td>\n",
              "      <td>82515</td>\n",
              "      <td>4492 days</td>\n",
              "    </tr>\n",
              "    <tr>\n",
              "      <th>74321</th>\n",
              "      <td>kleinwagen</td>\n",
              "      <td>manuell</td>\n",
              "      <td>90</td>\n",
              "      <td>fiesta</td>\n",
              "      <td>150000</td>\n",
              "      <td>NaN</td>\n",
              "      <td>ford</td>\n",
              "      <td>nein</td>\n",
              "      <td>29308</td>\n",
              "      <td>7208 days</td>\n",
              "    </tr>\n",
              "    <tr>\n",
              "      <th>74322</th>\n",
              "      <td>kleinwagen</td>\n",
              "      <td>manuell</td>\n",
              "      <td>125</td>\n",
              "      <td>polo</td>\n",
              "      <td>150000</td>\n",
              "      <td>NaN</td>\n",
              "      <td>volkswagen</td>\n",
              "      <td>nein</td>\n",
              "      <td>34132</td>\n",
              "      <td>6338 days</td>\n",
              "    </tr>\n",
              "    <tr>\n",
              "      <th>74323</th>\n",
              "      <td>limousine</td>\n",
              "      <td>manuell</td>\n",
              "      <td>150</td>\n",
              "      <td>a6</td>\n",
              "      <td>150000</td>\n",
              "      <td>diesel</td>\n",
              "      <td>audi</td>\n",
              "      <td>NaN</td>\n",
              "      <td>1744</td>\n",
              "      <td>6068 days</td>\n",
              "    </tr>\n",
              "    <tr>\n",
              "      <th>74324</th>\n",
              "      <td>suv</td>\n",
              "      <td>automatik</td>\n",
              "      <td>224</td>\n",
              "      <td>m_klasse</td>\n",
              "      <td>125000</td>\n",
              "      <td>diesel</td>\n",
              "      <td>mercedes_benz</td>\n",
              "      <td>nein</td>\n",
              "      <td>10115</td>\n",
              "      <td>2451 days</td>\n",
              "    </tr>\n",
              "    <tr>\n",
              "      <th>74325</th>\n",
              "      <td>NaN</td>\n",
              "      <td>manuell</td>\n",
              "      <td>45</td>\n",
              "      <td>NaN</td>\n",
              "      <td>150000</td>\n",
              "      <td>NaN</td>\n",
              "      <td>volkswagen</td>\n",
              "      <td>NaN</td>\n",
              "      <td>37327</td>\n",
              "      <td>7738 days</td>\n",
              "    </tr>\n",
              "    <tr>\n",
              "      <th>74326</th>\n",
              "      <td>cabrio</td>\n",
              "      <td>manuell</td>\n",
              "      <td>105</td>\n",
              "      <td>astra</td>\n",
              "      <td>150000</td>\n",
              "      <td>benzin</td>\n",
              "      <td>opel</td>\n",
              "      <td>NaN</td>\n",
              "      <td>70794</td>\n",
              "      <td>3358 days</td>\n",
              "    </tr>\n",
              "    <tr>\n",
              "      <th>74327</th>\n",
              "      <td>kleinwagen</td>\n",
              "      <td>manuell</td>\n",
              "      <td>50</td>\n",
              "      <td>arosa</td>\n",
              "      <td>150000</td>\n",
              "      <td>benzin</td>\n",
              "      <td>seat</td>\n",
              "      <td>ja</td>\n",
              "      <td>57439</td>\n",
              "      <td>6863 days</td>\n",
              "    </tr>\n",
              "    <tr>\n",
              "      <th>74328</th>\n",
              "      <td>NaN</td>\n",
              "      <td>automatik</td>\n",
              "      <td>61</td>\n",
              "      <td>NaN</td>\n",
              "      <td>150000</td>\n",
              "      <td>NaN</td>\n",
              "      <td>smart</td>\n",
              "      <td>NaN</td>\n",
              "      <td>22041</td>\n",
              "      <td>4094 days</td>\n",
              "    </tr>\n",
              "    <tr>\n",
              "      <th>74329</th>\n",
              "      <td>kombi</td>\n",
              "      <td>automatik</td>\n",
              "      <td>150</td>\n",
              "      <td>a4</td>\n",
              "      <td>150000</td>\n",
              "      <td>diesel</td>\n",
              "      <td>audi</td>\n",
              "      <td>ja</td>\n",
              "      <td>76764</td>\n",
              "      <td>6278 days</td>\n",
              "    </tr>\n",
              "    <tr>\n",
              "      <th>74330</th>\n",
              "      <td>kombi</td>\n",
              "      <td>automatik</td>\n",
              "      <td>218</td>\n",
              "      <td>5er</td>\n",
              "      <td>150000</td>\n",
              "      <td>diesel</td>\n",
              "      <td>bmw</td>\n",
              "      <td>nein</td>\n",
              "      <td>67227</td>\n",
              "      <td>3902 days</td>\n",
              "    </tr>\n",
              "    <tr>\n",
              "      <th>74331</th>\n",
              "      <td>kleinwagen</td>\n",
              "      <td>manuell</td>\n",
              "      <td>90</td>\n",
              "      <td>polo</td>\n",
              "      <td>10000</td>\n",
              "      <td>benzin</td>\n",
              "      <td>volkswagen</td>\n",
              "      <td>nein</td>\n",
              "      <td>91550</td>\n",
              "      <td>553 days</td>\n",
              "    </tr>\n",
              "    <tr>\n",
              "      <th>74332</th>\n",
              "      <td>limousine</td>\n",
              "      <td>manuell</td>\n",
              "      <td>101</td>\n",
              "      <td>golf</td>\n",
              "      <td>150000</td>\n",
              "      <td>benzin</td>\n",
              "      <td>volkswagen</td>\n",
              "      <td>nein</td>\n",
              "      <td>90513</td>\n",
              "      <td>6387 days</td>\n",
              "    </tr>\n",
              "    <tr>\n",
              "      <th>74333</th>\n",
              "      <td>limousine</td>\n",
              "      <td>manuell</td>\n",
              "      <td>125</td>\n",
              "      <td>a4</td>\n",
              "      <td>150000</td>\n",
              "      <td>benzin</td>\n",
              "      <td>audi</td>\n",
              "      <td>nein</td>\n",
              "      <td>9355</td>\n",
              "      <td>6776 days</td>\n",
              "    </tr>\n",
              "    <tr>\n",
              "      <th>74334</th>\n",
              "      <td>limousine</td>\n",
              "      <td>manuell</td>\n",
              "      <td>102</td>\n",
              "      <td>a3</td>\n",
              "      <td>50000</td>\n",
              "      <td>benzin</td>\n",
              "      <td>audi</td>\n",
              "      <td>nein</td>\n",
              "      <td>21717</td>\n",
              "      <td>4578 days</td>\n",
              "    </tr>\n",
              "    <tr>\n",
              "      <th>74335</th>\n",
              "      <td>limousine</td>\n",
              "      <td>manuell</td>\n",
              "      <td>109</td>\n",
              "      <td>focus</td>\n",
              "      <td>90000</td>\n",
              "      <td>diesel</td>\n",
              "      <td>ford</td>\n",
              "      <td>nein</td>\n",
              "      <td>33699</td>\n",
              "      <td>1882 days</td>\n",
              "    </tr>\n",
              "    <tr>\n",
              "      <th>74336</th>\n",
              "      <td>NaN</td>\n",
              "      <td>manuell</td>\n",
              "      <td>101</td>\n",
              "      <td>3er</td>\n",
              "      <td>150000</td>\n",
              "      <td>benzin</td>\n",
              "      <td>bmw</td>\n",
              "      <td>nein</td>\n",
              "      <td>45721</td>\n",
              "      <td>5632 days</td>\n",
              "    </tr>\n",
              "    <tr>\n",
              "      <th>74337</th>\n",
              "      <td>NaN</td>\n",
              "      <td>manuell</td>\n",
              "      <td>0</td>\n",
              "      <td>kaefer</td>\n",
              "      <td>5000</td>\n",
              "      <td>benzin</td>\n",
              "      <td>volkswagen</td>\n",
              "      <td>ja</td>\n",
              "      <td>46282</td>\n",
              "      <td>13222 days</td>\n",
              "    </tr>\n",
              "    <tr>\n",
              "      <th>74338</th>\n",
              "      <td>kleinwagen</td>\n",
              "      <td>manuell</td>\n",
              "      <td>60</td>\n",
              "      <td>punto</td>\n",
              "      <td>150000</td>\n",
              "      <td>benzin</td>\n",
              "      <td>fiat</td>\n",
              "      <td>nein</td>\n",
              "      <td>58791</td>\n",
              "      <td>5542 days</td>\n",
              "    </tr>\n",
              "    <tr>\n",
              "      <th>74339</th>\n",
              "      <td>bus</td>\n",
              "      <td>manuell</td>\n",
              "      <td>120</td>\n",
              "      <td>scenic</td>\n",
              "      <td>150000</td>\n",
              "      <td>diesel</td>\n",
              "      <td>renault</td>\n",
              "      <td>nein</td>\n",
              "      <td>63303</td>\n",
              "      <td>3945 days</td>\n",
              "    </tr>\n",
              "    <tr>\n",
              "      <th>74340</th>\n",
              "      <td>suv</td>\n",
              "      <td>automatik</td>\n",
              "      <td>86</td>\n",
              "      <td>jimny</td>\n",
              "      <td>20000</td>\n",
              "      <td>benzin</td>\n",
              "      <td>suzuki</td>\n",
              "      <td>nein</td>\n",
              "      <td>3046</td>\n",
              "      <td>1865 days</td>\n",
              "    </tr>\n",
              "    <tr>\n",
              "      <th>74341</th>\n",
              "      <td>bus</td>\n",
              "      <td>manuell</td>\n",
              "      <td>82</td>\n",
              "      <td>andere</td>\n",
              "      <td>150000</td>\n",
              "      <td>diesel</td>\n",
              "      <td>renault</td>\n",
              "      <td>nein</td>\n",
              "      <td>86156</td>\n",
              "      <td>4762 days</td>\n",
              "    </tr>\n",
              "    <tr>\n",
              "      <th>74342</th>\n",
              "      <td>kombi</td>\n",
              "      <td>automatik</td>\n",
              "      <td>140</td>\n",
              "      <td>golf</td>\n",
              "      <td>150000</td>\n",
              "      <td>diesel</td>\n",
              "      <td>volkswagen</td>\n",
              "      <td>nein</td>\n",
              "      <td>56843</td>\n",
              "      <td>2484 days</td>\n",
              "    </tr>\n",
              "  </tbody>\n",
              "</table>\n",
              "<p>71402 rows × 10 columns</p>\n",
              "</div>"
            ],
            "text/plain": [
              "      vehicleType    gearbox  powerPS        model  kilometer fuelType  \\\n",
              "0      kleinwagen    manuell       68         aygo      70000   benzin   \n",
              "1       limousine    manuell      265           a3     150000   benzin   \n",
              "2           coupe    manuell      170          3er     150000   benzin   \n",
              "3       limousine  automatik      102     a_klasse     150000   benzin   \n",
              "4       limousine  automatik      252          7er     150000   benzin   \n",
              "5      kleinwagen    manuell       44        corsa     125000   benzin   \n",
              "6             NaN        NaN        0          NaN     150000      NaN   \n",
              "7       limousine    manuell       88          NaN     125000      NaN   \n",
              "8             bus    manuell       69       andere     150000   diesel   \n",
              "9             NaN        NaN        0          NaN       5000      NaN   \n",
              "10      limousine    manuell      136     e_klasse      50000   benzin   \n",
              "11            NaN    manuell       60         polo      90000   benzin   \n",
              "12      limousine    manuell      231          3er     150000   diesel   \n",
              "13     kleinwagen    manuell      156        ibiza     150000   benzin   \n",
              "14          coupe    manuell      170          3er     150000   benzin   \n",
              "15          kombi    manuell      165           a4     150000   benzin   \n",
              "16      limousine    manuell      150           a4     150000   benzin   \n",
              "17            suv    manuell      140       tiguan      70000   diesel   \n",
              "18      limousine    manuell       75        ibiza     125000   benzin   \n",
              "19     kleinwagen    manuell       60        corsa     150000      NaN   \n",
              "20            NaN    manuell        0         golf     150000      NaN   \n",
              "21     kleinwagen    manuell       88         clio     125000   benzin   \n",
              "22      limousine  automatik      160       andere     150000   benzin   \n",
              "23            bus    manuell       68  transporter     150000   diesel   \n",
              "24         cabrio    manuell      132      3_reihe     125000      NaN   \n",
              "25     kleinwagen  automatik      101           a3     150000   benzin   \n",
              "26      limousine    manuell      150          3er     150000   benzin   \n",
              "28          kombi    manuell       84  transporter     150000   diesel   \n",
              "29      limousine  automatik      131           a4     150000   benzin   \n",
              "30          coupe  automatik      224       andere     150000   diesel   \n",
              "...           ...        ...      ...          ...        ...      ...   \n",
              "74313  kleinwagen    manuell       54        corsa     150000   benzin   \n",
              "74314  kleinwagen    manuell       75        corsa     150000   benzin   \n",
              "74315       kombi  automatik      122     c_klasse     150000   benzin   \n",
              "74316  kleinwagen    manuell       68       fiesta     150000   diesel   \n",
              "74317  kleinwagen    manuell       58        agila     150000   benzin   \n",
              "74318   limousine  automatik      156     c_klasse      50000   benzin   \n",
              "74319         bus        NaN      116       sharan     150000   diesel   \n",
              "74320   limousine    manuell        0       scenic       5000   benzin   \n",
              "74321  kleinwagen    manuell       90       fiesta     150000      NaN   \n",
              "74322  kleinwagen    manuell      125         polo     150000      NaN   \n",
              "74323   limousine    manuell      150           a6     150000   diesel   \n",
              "74324         suv  automatik      224     m_klasse     125000   diesel   \n",
              "74325         NaN    manuell       45          NaN     150000      NaN   \n",
              "74326      cabrio    manuell      105        astra     150000   benzin   \n",
              "74327  kleinwagen    manuell       50        arosa     150000   benzin   \n",
              "74328         NaN  automatik       61          NaN     150000      NaN   \n",
              "74329       kombi  automatik      150           a4     150000   diesel   \n",
              "74330       kombi  automatik      218          5er     150000   diesel   \n",
              "74331  kleinwagen    manuell       90         polo      10000   benzin   \n",
              "74332   limousine    manuell      101         golf     150000   benzin   \n",
              "74333   limousine    manuell      125           a4     150000   benzin   \n",
              "74334   limousine    manuell      102           a3      50000   benzin   \n",
              "74335   limousine    manuell      109        focus      90000   diesel   \n",
              "74336         NaN    manuell      101          3er     150000   benzin   \n",
              "74337         NaN    manuell        0       kaefer       5000   benzin   \n",
              "74338  kleinwagen    manuell       60        punto     150000   benzin   \n",
              "74339         bus    manuell      120       scenic     150000   diesel   \n",
              "74340         suv  automatik       86        jimny      20000   benzin   \n",
              "74341         bus    manuell       82       andere     150000   diesel   \n",
              "74342       kombi  automatik      140         golf     150000   diesel   \n",
              "\n",
              "               brand notRepairedDamage  postalCode        age  \n",
              "0             toyota              nein       70567  1492 days  \n",
              "1               audi              nein       95448  6912 days  \n",
              "2                bmw              nein       85467  6647 days  \n",
              "3      mercedes_benz              nein       53757  5407 days  \n",
              "4                bmw              nein       47574 11991 days  \n",
              "5               opel              nein       53783  4143 days  \n",
              "6               opel               NaN       51645  4101 days  \n",
              "7            renault                ja        4329  8331 days  \n",
              "8            peugeot               NaN       82211  4763 days  \n",
              "9               audi                ja       10249  5938 days  \n",
              "10     mercedes_benz              nein       88213  6581 days  \n",
              "11        volkswagen               NaN       79106  -255 days  \n",
              "12               bmw              nein       48599  3745 days  \n",
              "13              seat                ja       92249  5935 days  \n",
              "14               bmw               NaN        4509  9585 days  \n",
              "15              audi                ja       79730  6638 days  \n",
              "16              audi              nein        6729  7795 days  \n",
              "17        volkswagen              nein       86565  1237 days  \n",
              "18              seat              nein       57520  4023 days  \n",
              "19              opel               NaN       16727  7199 days  \n",
              "20        volkswagen              nein       26624    90 days  \n",
              "21           renault                ja       56410  3501 days  \n",
              "22     mercedes_benz              nein       83134  7937 days  \n",
              "23        volkswagen              nein       33397  6335 days  \n",
              "24           peugeot               NaN       92318  5813 days  \n",
              "25              audi              nein       55597  6351 days  \n",
              "26               bmw              nein       24943  6379 days  \n",
              "28        volkswagen              nein       51109  3676 days  \n",
              "29              audi              nein       23795  4190 days  \n",
              "30     mercedes_benz              nein       12353  3577 days  \n",
              "...              ...               ...         ...        ...  \n",
              "74313           opel              nein       44866  6530 days  \n",
              "74314           opel               NaN       36043  7525 days  \n",
              "74315  mercedes_benz              nein       12683  6128 days  \n",
              "74316           ford              nein       85774  4844 days  \n",
              "74317           opel              nein       24640  5641 days  \n",
              "74318  mercedes_benz              nein       12347  1388 days  \n",
              "74319     volkswagen              nein       32547  5855 days  \n",
              "74320        renault              nein       82515  4492 days  \n",
              "74321           ford              nein       29308  7208 days  \n",
              "74322     volkswagen              nein       34132  6338 days  \n",
              "74323           audi               NaN        1744  6068 days  \n",
              "74324  mercedes_benz              nein       10115  2451 days  \n",
              "74325     volkswagen               NaN       37327  7738 days  \n",
              "74326           opel               NaN       70794  3358 days  \n",
              "74327           seat                ja       57439  6863 days  \n",
              "74328          smart               NaN       22041  4094 days  \n",
              "74329           audi                ja       76764  6278 days  \n",
              "74330            bmw              nein       67227  3902 days  \n",
              "74331     volkswagen              nein       91550   553 days  \n",
              "74332     volkswagen              nein       90513  6387 days  \n",
              "74333           audi              nein        9355  6776 days  \n",
              "74334           audi              nein       21717  4578 days  \n",
              "74335           ford              nein       33699  1882 days  \n",
              "74336            bmw              nein       45721  5632 days  \n",
              "74337     volkswagen                ja       46282 13222 days  \n",
              "74338           fiat              nein       58791  5542 days  \n",
              "74339        renault              nein       63303  3945 days  \n",
              "74340         suzuki              nein        3046  1865 days  \n",
              "74341        renault              nein       86156  4762 days  \n",
              "74342     volkswagen              nein       56843  2484 days  \n",
              "\n",
              "[71402 rows x 10 columns]"
            ]
          },
          "metadata": {
            "tags": []
          },
          "execution_count": 29
        }
      ]
    },
    {
      "metadata": {
        "id": "MmlDKTi4c_d8",
        "colab_type": "code",
        "colab": {}
      },
      "cell_type": "code",
      "source": [
        "#We'll remove the so-called cars with 0 PS.\n",
        "#More than 1000 PS are suspicious too. \n",
        "fin_data = fin_data[(fin_data.powerPS > 0) & (fin_data.powerPS < 1000)]\n",
        "test_data1 = test_data1[(test_data1.powerPS > 0) & (test_data1.powerPS < 1000)]"
      ],
      "execution_count": 0,
      "outputs": []
    },
    {
      "metadata": {
        "id": "BGAsL7rRphi9",
        "colab_type": "code",
        "colab": {
          "base_uri": "https://localhost:8080/",
          "height": 224
        },
        "outputId": "f2e26ffe-b67c-4dd6-cbd8-a4e2362fb8a3"
      },
      "cell_type": "code",
      "source": [
        "for x in list(fin_data):\n",
        "  print(type(fin_data[x][0]))"
      ],
      "execution_count": 31,
      "outputs": [
        {
          "output_type": "stream",
          "text": [
            "<class 'str'>\n",
            "<class 'str'>\n",
            "<class 'numpy.int64'>\n",
            "<class 'str'>\n",
            "<class 'numpy.int64'>\n",
            "<class 'str'>\n",
            "<class 'str'>\n",
            "<class 'str'>\n",
            "<class 'numpy.int64'>\n",
            "<class 'numpy.int64'>\n",
            "<class 'pandas._libs.tslib.Timedelta'>\n"
          ],
          "name": "stdout"
        }
      ]
    },
    {
      "metadata": {
        "id": "sbUGRUPpIgI_",
        "colab_type": "code",
        "colab": {
          "base_uri": "https://localhost:8080/",
          "height": 130
        },
        "outputId": "07f5906a-ac39-4ca3-bcc9-686981562bdd"
      },
      "cell_type": "code",
      "source": [
        "fin_data['age'] = fin_data['age'].dt.days\n",
        "test_data1['age'] = test_data1['age'].dt.days"
      ],
      "execution_count": 32,
      "outputs": [
        {
          "output_type": "stream",
          "text": [
            "/usr/local/lib/python3.6/dist-packages/ipykernel_launcher.py:2: SettingWithCopyWarning: \n",
            "A value is trying to be set on a copy of a slice from a DataFrame.\n",
            "Try using .loc[row_indexer,col_indexer] = value instead\n",
            "\n",
            "See the caveats in the documentation: http://pandas.pydata.org/pandas-docs/stable/indexing.html#indexing-view-versus-copy\n",
            "  \n"
          ],
          "name": "stderr"
        }
      ]
    },
    {
      "metadata": {
        "id": "uMrQGUz_LebV",
        "colab_type": "code",
        "colab": {}
      },
      "cell_type": "code",
      "source": [
        "cleaned_data = fin_data"
      ],
      "execution_count": 0,
      "outputs": []
    },
    {
      "metadata": {
        "id": "Aqt6ZzCTdN1k",
        "colab_type": "code",
        "colab": {
          "base_uri": "https://localhost:8080/",
          "height": 375
        },
        "outputId": "ba39a674-d7a4-4eb4-8d8e-58e3de386490"
      },
      "cell_type": "code",
      "source": [
        "#clean, let's make it superclean by removing all rows with missing values\n",
        "superclean_data = cleaned_data.dropna()\n",
        "test_data1 = test_data1.dropna()\n",
        "print(superclean_data.describe())"
      ],
      "execution_count": 34,
      "outputs": [
        {
          "output_type": "stream",
          "text": [
            "             powerPS      kilometer     postalCode          price  \\\n",
            "count  198280.000000  198280.000000  198280.000000  198280.000000   \n",
            "mean      129.232510  123671.752068   52153.503319    6785.720945   \n",
            "std        61.967013   39862.865721   25823.146392    8027.715077   \n",
            "min         1.000000    5000.000000    1067.000000       1.000000   \n",
            "25%        86.000000  100000.000000   31582.000000    1690.000000   \n",
            "50%       116.000000  150000.000000   51467.000000    3999.000000   \n",
            "75%       158.000000  150000.000000   73072.000000    8900.000000   \n",
            "max       998.000000  150000.000000   99998.000000   99999.000000   \n",
            "\n",
            "                 age  \n",
            "count  198280.000000  \n",
            "mean     4488.058090  \n",
            "std      2344.135547  \n",
            "min      -245.000000  \n",
            "25%      2830.000000  \n",
            "50%      4324.000000  \n",
            "75%      5921.000000  \n",
            "max     38776.000000  \n"
          ],
          "name": "stdout"
        }
      ]
    },
    {
      "metadata": {
        "id": "GViLQ_qXQiwc",
        "colab_type": "text"
      },
      "cell_type": "markdown",
      "source": [
        "**Time for One Hot Encoding**"
      ]
    },
    {
      "metadata": {
        "id": "7kNUSf1VQyb5",
        "colab_type": "code",
        "colab": {}
      },
      "cell_type": "code",
      "source": [
        "test = pd.get_dummies(superclean_data)\n",
        "test_data1 = pd.get_dummies(test_data1)"
      ],
      "execution_count": 0,
      "outputs": []
    },
    {
      "metadata": {
        "id": "qxafDKYDVqLG",
        "colab_type": "code",
        "colab": {}
      },
      "cell_type": "code",
      "source": [
        "y = test['price']\n",
        "test = test.drop('price',1)\n",
        "x = test"
      ],
      "execution_count": 0,
      "outputs": []
    },
    {
      "metadata": {
        "id": "BowaZFWedc5R",
        "colab_type": "code",
        "colab": {}
      },
      "cell_type": "code",
      "source": [
        "x_train,x_test,y_train,y_test = train_test_split(x,y,test_size=0.33, random_state=42)"
      ],
      "execution_count": 0,
      "outputs": []
    },
    {
      "metadata": {
        "id": "_XqM8sxQM4vm",
        "colab_type": "code",
        "colab": {
          "base_uri": "https://localhost:8080/",
          "height": 74
        },
        "outputId": "602dac1c-f997-487c-e4be-2373c70223ca"
      },
      "cell_type": "code",
      "source": [
        "print(list(x_train))\n",
        "print(list(test_data1))"
      ],
      "execution_count": 38,
      "outputs": [
        {
          "output_type": "stream",
          "text": [
            "['powerPS', 'kilometer', 'postalCode', 'age', 'vehicleType_andere', 'vehicleType_bus', 'vehicleType_cabrio', 'vehicleType_coupe', 'vehicleType_kleinwagen', 'vehicleType_kombi', 'vehicleType_limousine', 'vehicleType_suv', 'gearbox_automatik', 'gearbox_manuell', 'model_100', 'model_145', 'model_147', 'model_156', 'model_159', 'model_1_reihe', 'model_1er', 'model_200', 'model_2_reihe', 'model_300c', 'model_3_reihe', 'model_3er', 'model_4_reihe', 'model_500', 'model_5_reihe', 'model_5er', 'model_601', 'model_6_reihe', 'model_6er', 'model_7er', 'model_80', 'model_850', 'model_90', 'model_900', 'model_9000', 'model_911', 'model_a1', 'model_a2', 'model_a3', 'model_a4', 'model_a5', 'model_a6', 'model_a8', 'model_a_klasse', 'model_accord', 'model_agila', 'model_alhambra', 'model_almera', 'model_altea', 'model_amarok', 'model_andere', 'model_antara', 'model_arosa', 'model_astra', 'model_auris', 'model_avensis', 'model_aveo', 'model_aygo', 'model_b_klasse', 'model_b_max', 'model_beetle', 'model_berlingo', 'model_bora', 'model_boxster', 'model_bravo', 'model_c1', 'model_c2', 'model_c3', 'model_c4', 'model_c5', 'model_c_klasse', 'model_c_max', 'model_c_reihe', 'model_caddy', 'model_calibra', 'model_captiva', 'model_carisma', 'model_carnival', 'model_cayenne', 'model_cc', 'model_ceed', 'model_charade', 'model_cherokee', 'model_citigo', 'model_civic', 'model_cl', 'model_clio', 'model_clk', 'model_clubman', 'model_colt', 'model_combo', 'model_cooper', 'model_cordoba', 'model_corolla', 'model_corsa', 'model_cr_reihe', 'model_croma', 'model_crossfire', 'model_cuore', 'model_cx_reihe', 'model_defender', 'model_delta', 'model_discovery', 'model_doblo', 'model_ducato', 'model_duster', 'model_e_klasse', 'model_elefantino', 'model_eos', 'model_escort', 'model_espace', 'model_exeo', 'model_fabia', 'model_fiesta', 'model_focus', 'model_forester', 'model_forfour', 'model_fortwo', 'model_fox', 'model_freelander', 'model_fusion', 'model_g_klasse', 'model_galant', 'model_galaxy', 'model_getz', 'model_gl', 'model_glk', 'model_golf', 'model_grand', 'model_i3', 'model_i_reihe', 'model_ibiza', 'model_impreza', 'model_insignia', 'model_jazz', 'model_jetta', 'model_jimny', 'model_juke', 'model_justy', 'model_ka', 'model_kadett', 'model_kaefer', 'model_kalina', 'model_kalos', 'model_kangoo', 'model_kappa', 'model_kuga', 'model_laguna', 'model_lancer', 'model_lanos', 'model_legacy', 'model_leon', 'model_lodgy', 'model_logan', 'model_lupo', 'model_lybra', 'model_m_klasse', 'model_m_reihe', 'model_materia', 'model_matiz', 'model_megane', 'model_meriva', 'model_micra', 'model_mii', 'model_modus', 'model_mondeo', 'model_move', 'model_musa', 'model_mustang', 'model_mx_reihe', 'model_navara', 'model_niva', 'model_note', 'model_nubira', 'model_octavia', 'model_omega', 'model_one', 'model_outlander', 'model_pajero', 'model_panda', 'model_passat', 'model_phaeton', 'model_picanto', 'model_polo', 'model_primera', 'model_ptcruiser', 'model_punto', 'model_q3', 'model_q5', 'model_q7', 'model_qashqai', 'model_r19', 'model_range_rover', 'model_range_rover_evoque', 'model_range_rover_sport', 'model_rangerover', 'model_rav', 'model_rio', 'model_roadster', 'model_roomster', 'model_rx_reihe', 'model_s60', 'model_s_klasse', 'model_s_max', 'model_s_type', 'model_samara', 'model_sandero', 'model_santa', 'model_scenic', 'model_scirocco', 'model_seicento', 'model_serie_2', 'model_serie_3', 'model_sharan', 'model_signum', 'model_sirion', 'model_sl', 'model_slk', 'model_sorento', 'model_spark', 'model_spider', 'model_sportage', 'model_sprinter', 'model_stilo', 'model_superb', 'model_swift', 'model_terios', 'model_tigra', 'model_tiguan', 'model_toledo', 'model_touareg', 'model_touran', 'model_transit', 'model_transporter', 'model_tt', 'model_tucson', 'model_twingo', 'model_up', 'model_v40', 'model_v50', 'model_v60', 'model_v70', 'model_v_klasse', 'model_vectra', 'model_verso', 'model_viano', 'model_vito', 'model_vivaro', 'model_voyager', 'model_wrangler', 'model_x_reihe', 'model_x_trail', 'model_x_type', 'model_xc_reihe', 'model_yaris', 'model_yeti', 'model_ypsilon', 'model_z_reihe', 'model_zafira', 'fuelType_andere', 'fuelType_benzin', 'fuelType_cng', 'fuelType_diesel', 'fuelType_elektro', 'fuelType_hybrid', 'fuelType_lpg', 'brand_alfa_romeo', 'brand_audi', 'brand_bmw', 'brand_chevrolet', 'brand_chrysler', 'brand_citroen', 'brand_dacia', 'brand_daewoo', 'brand_daihatsu', 'brand_fiat', 'brand_ford', 'brand_honda', 'brand_hyundai', 'brand_jaguar', 'brand_jeep', 'brand_kia', 'brand_lada', 'brand_lancia', 'brand_land_rover', 'brand_mazda', 'brand_mercedes_benz', 'brand_mini', 'brand_mitsubishi', 'brand_nissan', 'brand_opel', 'brand_peugeot', 'brand_porsche', 'brand_renault', 'brand_rover', 'brand_saab', 'brand_seat', 'brand_skoda', 'brand_smart', 'brand_subaru', 'brand_suzuki', 'brand_toyota', 'brand_trabant', 'brand_volkswagen', 'brand_volvo', 'notRepairedDamage_ja', 'notRepairedDamage_nein']\n",
            "['powerPS', 'kilometer', 'postalCode', 'age', 'vehicleType_andere', 'vehicleType_bus', 'vehicleType_cabrio', 'vehicleType_coupe', 'vehicleType_kleinwagen', 'vehicleType_kombi', 'vehicleType_limousine', 'vehicleType_suv', 'gearbox_automatik', 'gearbox_manuell', 'model_100', 'model_145', 'model_147', 'model_156', 'model_159', 'model_1_reihe', 'model_1er', 'model_200', 'model_2_reihe', 'model_300c', 'model_3_reihe', 'model_3er', 'model_4_reihe', 'model_500', 'model_5_reihe', 'model_5er', 'model_601', 'model_6_reihe', 'model_6er', 'model_7er', 'model_80', 'model_850', 'model_90', 'model_900', 'model_9000', 'model_911', 'model_a1', 'model_a2', 'model_a3', 'model_a4', 'model_a5', 'model_a6', 'model_a8', 'model_a_klasse', 'model_accord', 'model_agila', 'model_alhambra', 'model_almera', 'model_altea', 'model_amarok', 'model_andere', 'model_antara', 'model_arosa', 'model_astra', 'model_auris', 'model_avensis', 'model_aveo', 'model_aygo', 'model_b_klasse', 'model_b_max', 'model_beetle', 'model_berlingo', 'model_bora', 'model_boxster', 'model_bravo', 'model_c1', 'model_c2', 'model_c3', 'model_c4', 'model_c5', 'model_c_klasse', 'model_c_max', 'model_c_reihe', 'model_caddy', 'model_calibra', 'model_captiva', 'model_carisma', 'model_carnival', 'model_cayenne', 'model_cc', 'model_ceed', 'model_charade', 'model_cherokee', 'model_citigo', 'model_civic', 'model_cl', 'model_clio', 'model_clk', 'model_clubman', 'model_colt', 'model_combo', 'model_cooper', 'model_cordoba', 'model_corolla', 'model_corsa', 'model_cr_reihe', 'model_croma', 'model_crossfire', 'model_cuore', 'model_cx_reihe', 'model_defender', 'model_delta', 'model_discovery', 'model_discovery_sport', 'model_doblo', 'model_ducato', 'model_duster', 'model_e_klasse', 'model_elefantino', 'model_eos', 'model_escort', 'model_espace', 'model_exeo', 'model_fabia', 'model_fiesta', 'model_focus', 'model_forester', 'model_forfour', 'model_fortwo', 'model_fox', 'model_freelander', 'model_fusion', 'model_g_klasse', 'model_galant', 'model_galaxy', 'model_getz', 'model_gl', 'model_glk', 'model_golf', 'model_grand', 'model_i3', 'model_i_reihe', 'model_ibiza', 'model_impreza', 'model_insignia', 'model_jazz', 'model_jetta', 'model_jimny', 'model_juke', 'model_justy', 'model_ka', 'model_kadett', 'model_kaefer', 'model_kalina', 'model_kalos', 'model_kangoo', 'model_kuga', 'model_laguna', 'model_lancer', 'model_lanos', 'model_legacy', 'model_leon', 'model_lodgy', 'model_logan', 'model_lupo', 'model_lybra', 'model_m_klasse', 'model_m_reihe', 'model_materia', 'model_matiz', 'model_megane', 'model_meriva', 'model_micra', 'model_mii', 'model_modus', 'model_mondeo', 'model_move', 'model_musa', 'model_mustang', 'model_mx_reihe', 'model_navara', 'model_niva', 'model_note', 'model_nubira', 'model_octavia', 'model_omega', 'model_one', 'model_outlander', 'model_pajero', 'model_panda', 'model_passat', 'model_phaeton', 'model_picanto', 'model_polo', 'model_primera', 'model_ptcruiser', 'model_punto', 'model_q3', 'model_q5', 'model_q7', 'model_qashqai', 'model_r19', 'model_range_rover', 'model_range_rover_evoque', 'model_range_rover_sport', 'model_rav', 'model_rio', 'model_roadster', 'model_roomster', 'model_rx_reihe', 'model_s60', 'model_s_klasse', 'model_s_max', 'model_s_type', 'model_sandero', 'model_santa', 'model_scenic', 'model_scirocco', 'model_seicento', 'model_sharan', 'model_signum', 'model_sirion', 'model_sl', 'model_slk', 'model_sorento', 'model_spark', 'model_spider', 'model_sportage', 'model_sprinter', 'model_stilo', 'model_superb', 'model_swift', 'model_terios', 'model_tigra', 'model_tiguan', 'model_toledo', 'model_touareg', 'model_touran', 'model_transit', 'model_transporter', 'model_tt', 'model_tucson', 'model_twingo', 'model_up', 'model_v40', 'model_v50', 'model_v60', 'model_v70', 'model_v_klasse', 'model_vectra', 'model_verso', 'model_viano', 'model_vito', 'model_vivaro', 'model_voyager', 'model_wrangler', 'model_x_reihe', 'model_x_trail', 'model_x_type', 'model_xc_reihe', 'model_yaris', 'model_yeti', 'model_ypsilon', 'model_z_reihe', 'model_zafira', 'fuelType_andere', 'fuelType_benzin', 'fuelType_cng', 'fuelType_diesel', 'fuelType_elektro', 'fuelType_hybrid', 'fuelType_lpg', 'brand_alfa_romeo', 'brand_audi', 'brand_bmw', 'brand_chevrolet', 'brand_chrysler', 'brand_citroen', 'brand_dacia', 'brand_daewoo', 'brand_daihatsu', 'brand_fiat', 'brand_ford', 'brand_honda', 'brand_hyundai', 'brand_jaguar', 'brand_jeep', 'brand_kia', 'brand_lada', 'brand_lancia', 'brand_land_rover', 'brand_mazda', 'brand_mercedes_benz', 'brand_mini', 'brand_mitsubishi', 'brand_nissan', 'brand_opel', 'brand_peugeot', 'brand_porsche', 'brand_renault', 'brand_rover', 'brand_saab', 'brand_seat', 'brand_skoda', 'brand_smart', 'brand_subaru', 'brand_suzuki', 'brand_toyota', 'brand_trabant', 'brand_volkswagen', 'brand_volvo', 'notRepairedDamage_ja', 'notRepairedDamage_nein']\n"
          ],
          "name": "stdout"
        }
      ]
    },
    {
      "metadata": {
        "id": "i7pprjWsSPwd",
        "colab_type": "code",
        "colab": {}
      },
      "cell_type": "code",
      "source": [
        "a = list(x_train)\n",
        "b = list(test_data1)"
      ],
      "execution_count": 0,
      "outputs": []
    },
    {
      "metadata": {
        "id": "-YWYNxLPTCmN",
        "colab_type": "code",
        "colab": {
          "base_uri": "https://localhost:8080/",
          "height": 35
        },
        "outputId": "7583a718-7582-4b1a-f727-0ffd939d33f4"
      },
      "cell_type": "code",
      "source": [
        "list(set(b) - set(a))"
      ],
      "execution_count": 75,
      "outputs": [
        {
          "output_type": "execute_result",
          "data": {
            "text/plain": [
              "['model_discovery_sport']"
            ]
          },
          "metadata": {
            "tags": []
          },
          "execution_count": 75
        }
      ]
    },
    {
      "metadata": {
        "id": "MIUZa444VyBp",
        "colab_type": "code",
        "colab": {}
      },
      "cell_type": "code",
      "source": [
        "test_data1 = test_data1.drop('model_discovery_sport',1)"
      ],
      "execution_count": 0,
      "outputs": []
    },
    {
      "metadata": {
        "id": "FIJ7BczcTKIO",
        "colab_type": "code",
        "colab": {}
      },
      "cell_type": "code",
      "source": [
        "test_data1['model_samara'] = 0\n",
        "test_data1['model_kappa'] = 0\n",
        "test_data1[ 'model_serie_3'] = 0\n",
        "test_data1[ 'model_serie_2'] = 0\n",
        "test_data1[ 'model_rangerover'] = 0"
      ],
      "execution_count": 0,
      "outputs": []
    },
    {
      "metadata": {
        "id": "-aaHTptJUBMN",
        "colab_type": "code",
        "colab": {
          "base_uri": "https://localhost:8080/",
          "height": 35
        },
        "outputId": "f2ef503b-2596-4e2e-976d-1cedf3b06e3c"
      },
      "cell_type": "code",
      "source": [
        "test_data1.shape,x_train.shape"
      ],
      "execution_count": 80,
      "outputs": [
        {
          "output_type": "execute_result",
          "data": {
            "text/plain": [
              "((50318, 311), (132847, 311))"
            ]
          },
          "metadata": {
            "tags": []
          },
          "execution_count": 80
        }
      ]
    },
    {
      "metadata": {
        "id": "8f5-SUYvDmEG",
        "colab_type": "text"
      },
      "cell_type": "markdown",
      "source": [
        "**Regression Algorithms**"
      ]
    },
    {
      "metadata": {
        "id": "SoZGhGEeEsUy",
        "colab_type": "code",
        "colab": {}
      },
      "cell_type": "code",
      "source": [
        "from sklearn.linear_model import LinearRegression\n",
        "from sklearn import linear_model\n",
        "from sklearn.tree import DecisionTreeRegressor\n",
        "from sklearn.neighbors import KNeighborsRegressor\n",
        "from sklearn.metrics import r2_score\n",
        "from sklearn.ensemble import RandomForestRegressor\n",
        "from sklearn.svm import SVR\n",
        "from google.colab import files as filess"
      ],
      "execution_count": 0,
      "outputs": []
    },
    {
      "metadata": {
        "id": "Xg745eo5DrDR",
        "colab_type": "code",
        "colab": {}
      },
      "cell_type": "code",
      "source": [
        "#linear_regression\n",
        "algo1 = LinearRegression()\n",
        "algo1.fit(x_train,y_train)  \n",
        "y_pred = algo1.predict(x_test)"
      ],
      "execution_count": 0,
      "outputs": []
    },
    {
      "metadata": {
        "id": "jqhLyl1-WU9b",
        "colab_type": "code",
        "colab": {
          "base_uri": "https://localhost:8080/",
          "height": 54
        },
        "outputId": "ed2db2d3-54f7-4ffe-fa94-1589062a290f"
      },
      "cell_type": "code",
      "source": [
        "print(algo1.score(x_test,y_test))\n",
        "print(r2_score(y_test, y_pred)  )"
      ],
      "execution_count": 83,
      "outputs": [
        {
          "output_type": "stream",
          "text": [
            "0.7258343838932384\n",
            "0.7258343838932384\n"
          ],
          "name": "stdout"
        }
      ]
    },
    {
      "metadata": {
        "id": "lskH59tBFR6O",
        "colab_type": "code",
        "colab": {
          "base_uri": "https://localhost:8080/",
          "height": 74
        },
        "outputId": "d7d2a332-a1e2-402c-bfce-c97350ce8c86"
      },
      "cell_type": "code",
      "source": [
        "#SGDRegressor \n",
        "algo2 =linear_model.SGDRegressor()\n",
        "algo2.fit(x_train, y_train)\n",
        "y_pred2 = algo2.predict(x_test)"
      ],
      "execution_count": 84,
      "outputs": [
        {
          "output_type": "stream",
          "text": [
            "/usr/local/lib/python3.6/dist-packages/sklearn/linear_model/stochastic_gradient.py:128: FutureWarning: max_iter and tol parameters have been added in <class 'sklearn.linear_model.stochastic_gradient.SGDRegressor'> in 0.19. If both are left unset, they default to max_iter=5 and tol=None. If tol is not None, max_iter defaults to max_iter=1000. From 0.21, default max_iter will be 1000, and default tol will be 1e-3.\n",
            "  \"and default tol will be 1e-3.\" % type(self), FutureWarning)\n"
          ],
          "name": "stderr"
        }
      ]
    },
    {
      "metadata": {
        "id": "kCKTZ7v9Wy-F",
        "colab_type": "code",
        "colab": {
          "base_uri": "https://localhost:8080/",
          "height": 35
        },
        "outputId": "421719ff-9998-4486-f7f1-ab5befa55e9c"
      },
      "cell_type": "code",
      "source": [
        "print(r2_score(y_test,y_pred2))"
      ],
      "execution_count": 85,
      "outputs": [
        {
          "output_type": "stream",
          "text": [
            "-2.8734376693409767e+29\n"
          ],
          "name": "stdout"
        }
      ]
    },
    {
      "metadata": {
        "id": "xpGgdZc8Dkyq",
        "colab_type": "code",
        "colab": {}
      },
      "cell_type": "code",
      "source": [
        "#Decision tree Regressor\n",
        "algo3 = DecisionTreeRegressor(random_state=0)\n",
        "algo3.fit(x_train,y_train)\n",
        "y_pred3 = algo3.predict(x_test)"
      ],
      "execution_count": 0,
      "outputs": []
    },
    {
      "metadata": {
        "id": "wyEsC3QrXZ0F",
        "colab_type": "code",
        "colab": {
          "base_uri": "https://localhost:8080/",
          "height": 35
        },
        "outputId": "9e4682e9-b1ad-4b06-9946-ad0262c52de8"
      },
      "cell_type": "code",
      "source": [
        "print(r2_score(y_test,y_pred3))"
      ],
      "execution_count": 87,
      "outputs": [
        {
          "output_type": "stream",
          "text": [
            "0.8283935103838346\n"
          ],
          "name": "stdout"
        }
      ]
    },
    {
      "metadata": {
        "id": "wGWuraNAIaNq",
        "colab_type": "code",
        "colab": {}
      },
      "cell_type": "code",
      "source": [
        "#random forest regressor\n",
        "algo4 = RandomForestRegressor()\n",
        "algo4.fit(x_train, y_train)\n",
        "y_pred4 = algo4.predict(x_test)"
      ],
      "execution_count": 0,
      "outputs": []
    },
    {
      "metadata": {
        "id": "ivqZ9mfkXlP0",
        "colab_type": "code",
        "colab": {
          "base_uri": "https://localhost:8080/",
          "height": 35
        },
        "outputId": "962774c3-1443-4247-8f69-82a0dcbcbf6e"
      },
      "cell_type": "code",
      "source": [
        "print(r2_score(y_test,y_pred4))"
      ],
      "execution_count": 89,
      "outputs": [
        {
          "output_type": "stream",
          "text": [
            "0.8952588581094697\n"
          ],
          "name": "stdout"
        }
      ]
    },
    {
      "metadata": {
        "id": "iVYN_QqBML2-",
        "colab_type": "code",
        "colab": {}
      },
      "cell_type": "code",
      "source": [
        "# #SVR\n",
        "# algo5 = SVR(C=1.0, epsilon=0.2)\n",
        "# algo5.fit(x_train, y_train) \n",
        "# y_pred5 = algo5.predict(x_test)"
      ],
      "execution_count": 0,
      "outputs": []
    },
    {
      "metadata": {
        "id": "hWscXyA6YOqC",
        "colab_type": "code",
        "colab": {}
      },
      "cell_type": "code",
      "source": [
        "#print(r2_score(y_test,y_pred5))"
      ],
      "execution_count": 0,
      "outputs": []
    },
    {
      "metadata": {
        "id": "9SeDiMgWQaID",
        "colab_type": "code",
        "colab": {}
      },
      "cell_type": "code",
      "source": [
        "#KNN Regressor\n",
        "algo6 = KNeighborsRegressor(n_neighbors=2)\n",
        "algo6.fit(x_train, y_train)\n",
        "y_pred6 = algo6.predict(x_test)"
      ],
      "execution_count": 0,
      "outputs": []
    },
    {
      "metadata": {
        "id": "tecJJDckOSK9",
        "colab_type": "code",
        "colab": {
          "base_uri": "https://localhost:8080/",
          "height": 35
        },
        "outputId": "da760eb4-c8ca-4d6a-930a-1a4b7df93dd4"
      },
      "cell_type": "code",
      "source": [
        "print(r2_score(y_test,y_pred6))"
      ],
      "execution_count": 93,
      "outputs": [
        {
          "output_type": "stream",
          "text": [
            "0.43186511662633875\n"
          ],
          "name": "stdout"
        }
      ]
    },
    {
      "metadata": {
        "id": "K42nKzJuVM5c",
        "colab_type": "code",
        "colab": {}
      },
      "cell_type": "code",
      "source": [
        "y_predtest1 = algo1.predict(test_data1)\n",
        "y_predtest2 = algo2.predict(test_data1)\n",
        "y_predtest3 = algo3.predict(test_data1)\n",
        "y_predtest4 = algo4.predict(test_data1)\n",
        "y_predtest6 = algo4.predict(test_data1)\n"
      ],
      "execution_count": 0,
      "outputs": []
    },
    {
      "metadata": {
        "id": "a-5ycfqJWFtD",
        "colab_type": "code",
        "colab": {}
      },
      "cell_type": "code",
      "source": [
        "for x in range(len(y_predtest4)):\n",
        "  print(type(y_predtest4[x]))"
      ],
      "execution_count": 0,
      "outputs": []
    },
    {
      "metadata": {
        "id": "W40P2nvEY7AK",
        "colab_type": "code",
        "colab": {}
      },
      "cell_type": "code",
      "source": [
        "np.savetxt('data.csv',y_predtest4, delimiter=',')"
      ],
      "execution_count": 0,
      "outputs": []
    },
    {
      "metadata": {
        "id": "Om0wDYiRYc7S",
        "colab_type": "code",
        "colab": {}
      },
      "cell_type": "code",
      "source": [
        "filess.download('data.csv')"
      ],
      "execution_count": 0,
      "outputs": []
    }
  ]
}