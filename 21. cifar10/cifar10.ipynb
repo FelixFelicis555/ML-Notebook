{
  "nbformat": 4,
  "nbformat_minor": 0,
  "metadata": {
    "colab": {
      "name": "cifar10.ipynb",
      "version": "0.3.2",
      "provenance": [],
      "collapsed_sections": []
    },
    "kernelspec": {
      "name": "python3",
      "display_name": "Python 3"
    },
    "accelerator": "GPU"
  },
  "cells": [
    {
      "cell_type": "markdown",
      "metadata": {
        "id": "view-in-github",
        "colab_type": "text"
      },
      "source": [
        "[View in Colaboratory](https://colab.research.google.com/github/getmrinal/ML-Notebook/blob/master/21.%20cifar10/cifar10.ipynb)"
      ]
    },
    {
      "metadata": {
        "id": "lrJkUXsbf_ZK",
        "colab_type": "text"
      },
      "cell_type": "markdown",
      "source": [
        "**Loading Required Libraries and Files**"
      ]
    },
    {
      "metadata": {
        "id": "gWPxLijQCBJk",
        "colab_type": "code",
        "colab": {}
      },
      "cell_type": "code",
      "source": [
        "import cifar10\n",
        "import matplotlib.pyplot as plt\n",
        "import numpy as np\n",
        "from sklearn.decomposition import PCA\n",
        "from sklearn.metrics import classification_report, confusion_matrix, accuracy_score\n",
        "from sklearn.decomposition import PCA\n",
        "\n",
        "from sklearn import svm\n",
        "from sklearn.ensemble import RandomForestClassifier\n",
        "from sklearn.neighbors import KNeighborsClassifier\n",
        "from sklearn.linear_model import LogisticRegression"
      ],
      "execution_count": 0,
      "outputs": []
    },
    {
      "metadata": {
        "id": "bSDOAXEUCBJq",
        "colab_type": "code",
        "colab": {}
      },
      "cell_type": "code",
      "source": [
        "cifar10.data_path = \"data/CIFAR-10/\""
      ],
      "execution_count": 0,
      "outputs": []
    },
    {
      "metadata": {
        "id": "_taW_jZOCBJw",
        "colab_type": "code",
        "colab": {}
      },
      "cell_type": "code",
      "source": [
        "cifar10.maybe_download_and_extract()"
      ],
      "execution_count": 0,
      "outputs": []
    },
    {
      "metadata": {
        "id": "lST_9MvECBJ4",
        "colab_type": "code",
        "colab": {}
      },
      "cell_type": "code",
      "source": [
        "class_names = cifar10.load_class_names()\n",
        "class_names"
      ],
      "execution_count": 0,
      "outputs": []
    },
    {
      "metadata": {
        "id": "nqZQehSuCBJ8",
        "colab_type": "code",
        "colab": {}
      },
      "cell_type": "code",
      "source": [
        "images_train, cls_train, labels_train = cifar10.load_training_data()\n",
        "images_test, cls_test, labels_test = cifar10.load_test_data()"
      ],
      "execution_count": 0,
      "outputs": []
    },
    {
      "metadata": {
        "id": "sPj06ytUTEoI",
        "colab_type": "code",
        "colab": {}
      },
      "cell_type": "code",
      "source": [
        "x_train = images_train.reshape(images_train.shape[0],-1)\n",
        "x_test = images_test.reshape(images_test.shape[0], -1)"
      ],
      "execution_count": 0,
      "outputs": []
    },
    {
      "metadata": {
        "id": "LNI3TtIeTKeU",
        "colab_type": "code",
        "colab": {}
      },
      "cell_type": "code",
      "source": [
        "y_train = cls_train \n",
        "y_test = cls_test"
      ],
      "execution_count": 0,
      "outputs": []
    },
    {
      "metadata": {
        "id": "0KDNaY7rgJRR",
        "colab_type": "text"
      },
      "cell_type": "markdown",
      "source": [
        "**Applied PCA to the Features of Cifar**"
      ]
    },
    {
      "metadata": {
        "id": "aOaaKHXtTOXi",
        "colab_type": "code",
        "colab": {}
      },
      "cell_type": "code",
      "source": [
        "pca = PCA()\n",
        "pca.fit_transform(x_train)"
      ],
      "execution_count": 0,
      "outputs": []
    },
    {
      "metadata": {
        "id": "_tw6ULt_TdKJ",
        "colab_type": "code",
        "colab": {}
      },
      "cell_type": "code",
      "source": [
        "pca.explained_variance_.shape"
      ],
      "execution_count": 0,
      "outputs": []
    },
    {
      "metadata": {
        "id": "nJswFII4gXpS",
        "colab_type": "text"
      },
      "cell_type": "markdown",
      "source": [
        "**the optimal value of K  decided **"
      ]
    },
    {
      "metadata": {
        "id": "h2zX8zaOVMBL",
        "colab_type": "code",
        "colab": {}
      },
      "cell_type": "code",
      "source": [
        "# Calculating optimal k\n",
        "\n",
        "k = 0\n",
        "total = sum(pca.explained_variance_)\n",
        "current_sum = 0\n",
        "\n",
        "while(current_sum / total < 0.98):\n",
        "    current_sum += pca.explained_variance_[k]\n",
        "    k += 1\n",
        "k"
      ],
      "execution_count": 0,
      "outputs": []
    },
    {
      "metadata": {
        "id": "F2ZQir9FVSYu",
        "colab_type": "code",
        "colab": {}
      },
      "cell_type": "code",
      "source": [
        "## Applying PCA with k calcuated above\n",
        "\n",
        "pca = PCA(n_components=k, whiten=True, svd_solver='randomized')\n",
        "\n",
        "x_train_pca = pca.fit_transform(x_train)\n",
        "x_test_pca = pca.transform(x_test)"
      ],
      "execution_count": 0,
      "outputs": []
    },
    {
      "metadata": {
        "id": "xrDONQSigyhs",
        "colab_type": "text"
      },
      "cell_type": "markdown",
      "source": [
        "### Using Randomforest Classifier on the Cifar data !"
      ]
    },
    {
      "metadata": {
        "id": "zTRLWWSyVltK",
        "colab_type": "code",
        "colab": {}
      },
      "cell_type": "code",
      "source": [
        "rf = RandomForestClassifier()\n",
        "rf.fit(x_train_pca, y_train)\n",
        "\n",
        "y_pred_rf = rf.predict(x_test_pca)\n",
        "\n",
        "random_forest_score = accuracy_score(y_test, y_pred_rf)\n",
        "print(random_forest_score)"
      ],
      "execution_count": 0,
      "outputs": []
    },
    {
      "metadata": {
        "id": "L38fX-F3g_Yp",
        "colab_type": "text"
      },
      "cell_type": "markdown",
      "source": [
        "### Using LogisticsRegression classifier"
      ]
    },
    {
      "metadata": {
        "id": "Bjy8AljtZCI0",
        "colab_type": "code",
        "colab": {}
      },
      "cell_type": "code",
      "source": [
        "## Training ## Train \n",
        "lr = LogisticRegression()\n",
        "lr.fit(x_train_pca, y_train)"
      ],
      "execution_count": 0,
      "outputs": []
    },
    {
      "metadata": {
        "id": "R3I1_vU1ZENt",
        "colab_type": "code",
        "colab": {}
      },
      "cell_type": "code",
      "source": [
        "## Predicting## Predi \n",
        "y_pred_lr = lr.predict(x_test_pca)\n",
        "logistic_regression_score = accuracy_score(y_test, y_pred_lr)\n",
        "logistic_regression_score"
      ],
      "execution_count": 0,
      "outputs": []
    },
    {
      "metadata": {
        "id": "ArqwhzGyhMqB",
        "colab_type": "text"
      },
      "cell_type": "markdown",
      "source": [
        "### Using Support Vector Machine"
      ]
    },
    {
      "metadata": {
        "id": "TP5TF-TEZwi1",
        "colab_type": "code",
        "colab": {}
      },
      "cell_type": "code",
      "source": [
        "## Training\n",
        "svc = svm.SVC()\n",
        "svc.fit(x_train_pca, y_train)"
      ],
      "execution_count": 0,
      "outputs": []
    },
    {
      "metadata": {
        "id": "rvzdF6DLcjxz",
        "colab_type": "code",
        "colab": {}
      },
      "cell_type": "code",
      "source": [
        "# Predi \n",
        "y_pred_svm = svc.predict(x_test_pca)\n",
        "svc_score = accuracy_score(y_test, y_pred_svm)\n",
        "svc_score"
      ],
      "execution_count": 0,
      "outputs": []
    },
    {
      "metadata": {
        "id": "6BHHbcQ2hU6i",
        "colab_type": "text"
      },
      "cell_type": "markdown",
      "source": [
        "### Using K-neighbours clf"
      ]
    },
    {
      "metadata": {
        "id": "XAb3mkCBdqUt",
        "colab_type": "code",
        "colab": {}
      },
      "cell_type": "code",
      "source": [
        "# Train \n",
        "knn = KNeighborsClassifier()\n",
        "knn.fit(x_train_pca, y_train)"
      ],
      "execution_count": 0,
      "outputs": []
    },
    {
      "metadata": {
        "id": "rgXwvUUUdti8",
        "colab_type": "code",
        "colab": {}
      },
      "cell_type": "code",
      "source": [
        "# Predi \n",
        "y_pred_knn = knn.predict(x_test_pca)\n",
        "\n",
        "knn_score = accuracy_score(y_test, y_pred_knn)\n",
        "knn_score"
      ],
      "execution_count": 0,
      "outputs": []
    },
    {
      "metadata": {
        "id": "UjYGMk1Chc4p",
        "colab_type": "text"
      },
      "cell_type": "markdown",
      "source": [
        "## Comparing All the classifier"
      ]
    },
    {
      "metadata": {
        "id": "escVocuSdjl_",
        "colab_type": "code",
        "colab": {}
      },
      "cell_type": "code",
      "source": [
        "print(\"RandomForest \", random_forest_score)\n",
        "print(\"SVM : \", svc_score)\n",
        "print(\"KNN \", knn_score)\n",
        "print(\"Logistic Regression : \", logistic_regression_score)"
      ],
      "execution_count": 0,
      "outputs": []
    },
    {
      "metadata": {
        "id": "XlSCiT0_e1uR",
        "colab_type": "code",
        "colab": {}
      },
      "cell_type": "code",
      "source": [
        "name = []\n",
        "for i in range(len(y_pred_svm)):\n",
        "    name.append(class_names[y_pred_svm[i]])"
      ],
      "execution_count": 0,
      "outputs": []
    },
    {
      "metadata": {
        "id": "y-Az0p4ue8D-",
        "colab_type": "code",
        "colab": {}
      },
      "cell_type": "code",
      "source": [
        "np.savetxt(\"svmPred.csv\", name, fmt = '%s')"
      ],
      "execution_count": 0,
      "outputs": []
    },
    {
      "metadata": {
        "id": "NvP8tEbQpNoh",
        "colab_type": "code",
        "colab": {}
      },
      "cell_type": "code",
      "source": [
        "# memory footprint support libraries/code\n",
        "!ln -sf /opt/bin/nvidia-smi /usr/bin/nvidia-smi\n",
        "!pip install gputil\n",
        "!pip install psutil\n",
        "!pip install humanize\n",
        "import psutil\n",
        "import humanize\n",
        "import os\n",
        "import GPUtil as GPU\n",
        "GPUs = GPU.getGPUs()\n",
        "# XXX: only one GPU on Colab and isn’t guaranteed\n",
        "gpu = GPUs[0]\n",
        "def printm():\n",
        " process = psutil.Process(os.getpid())\n",
        " print(\"Gen RAM Free: \" + humanize.naturalsize( psutil.virtual_memory().available ), \" I Proc size: \" + humanize.naturalsize( process.memory_info().rss))\n",
        " print(\"GPU RAM Free: {0:.0f}MB | Used: {1:.0f}MB | Util {2:3.0f}% | Total {3:.0f}MB\".format(gpu.memoryFree, gpu.memoryUsed, gpu.memoryUtil*100, gpu.memoryTotal))\n",
        "printm()"
      ],
      "execution_count": 0,
      "outputs": []
    }
  ]
}