{
  "nbformat": 4,
  "nbformat_minor": 0,
  "metadata": {
    "colab": {
      "name": "TextClassification & MultinomialScratch.ipynb",
      "version": "0.3.2",
      "provenance": []
    },
    "kernelspec": {
      "name": "python3",
      "display_name": "Python 3"
    },
    "accelerator": "GPU"
  },
  "cells": [
    {
      "cell_type": "markdown",
      "metadata": {
        "id": "view-in-github",
        "colab_type": "text"
      },
      "source": [
        "[View in Colaboratory](https://colab.research.google.com/github/getmrinal/ML-Notebook/blob/master/17.%20textClassificationProject/TextClassification_&_MultinomialScratch.ipynb)"
      ]
    },
    {
      "metadata": {
        "id": "o7la39IT8niG",
        "colab_type": "code",
        "colab": {}
      },
      "cell_type": "code",
      "source": [
        ""
      ],
      "execution_count": 0,
      "outputs": []
    },
    {
      "metadata": {
        "id": "bOy0Yzvxko84",
        "colab_type": "code",
        "colab": {}
      },
      "cell_type": "code",
      "source": [
        "from nltk.corpus import stopwords\n",
        "import os\n",
        "import re\n",
        "import pandas as pd\n",
        "import numpy as np\n",
        "import time\n",
        "from google.colab import files as filess"
      ],
      "execution_count": 0,
      "outputs": []
    },
    {
      "metadata": {
        "id": "w-5j-1Aako89",
        "colab_type": "code",
        "colab": {
          "base_uri": "https://localhost:8080/",
          "height": 71
        },
        "outputId": "6930ff1f-e3a3-474a-acfe-797663397454"
      },
      "cell_type": "code",
      "source": [
        "import nltk\n",
        "nltk.download('stopwords')"
      ],
      "execution_count": 3,
      "outputs": [
        {
          "output_type": "stream",
          "text": [
            "[nltk_data] Downloading package stopwords to /content/nltk_data...\n",
            "[nltk_data]   Package stopwords is already up-to-date!\n"
          ],
          "name": "stdout"
        },
        {
          "output_type": "execute_result",
          "data": {
            "text/plain": [
              "True"
            ]
          },
          "metadata": {
            "tags": []
          },
          "execution_count": 3
        }
      ]
    },
    {
      "metadata": {
        "id": "BSrm1Dw_ko9E",
        "colab_type": "code",
        "colab": {
          "base_uri": "https://localhost:8080/",
          "height": 35
        },
        "outputId": "b30d2564-80f5-4206-8668-c7f86bf15cb0"
      },
      "cell_type": "code",
      "source": [
        "import urllib.request\n",
        "urllib.request.urlretrieve (\"https://archive.ics.uci.edu/ml/machine-learning-databases/20newsgroups-mld/20_newsgroups.tar.gz\", \"a.tar.gz\")\n",
        "urllib.request.urlretrieve (\"http://archive.ics.uci.edu/ml/machine-learning-databases/20newsgroups-mld/mini_newsgroups.tar.gz\", \"b.tar.gz\")"
      ],
      "execution_count": 4,
      "outputs": [
        {
          "output_type": "execute_result",
          "data": {
            "text/plain": [
              "('b.tar.gz', <http.client.HTTPMessage at 0x7f43b3b8c9e8>)"
            ]
          },
          "metadata": {
            "tags": []
          },
          "execution_count": 4
        }
      ]
    },
    {
      "metadata": {
        "id": "mZdjZLIEko9J",
        "colab_type": "code",
        "colab": {}
      },
      "cell_type": "code",
      "source": [
        "import tarfile\n",
        "tar = tarfile.open(\"a.tar.gz\")\n",
        "tar2 = tarfile.open(\"b.tar.gz\")\n",
        "tar.extractall()\n",
        "tar2.extractall()\n",
        "tar.close()\n",
        "tar2.close()"
      ],
      "execution_count": 0,
      "outputs": []
    },
    {
      "metadata": {
        "id": "6Y5q55a9ko9Q",
        "colab_type": "code",
        "colab": {
          "base_uri": "https://localhost:8080/",
          "height": 35
        },
        "outputId": "1bf4f723-7bb9-482c-ca26-173fb74adff3"
      },
      "cell_type": "code",
      "source": [
        "stop_words = set(stopwords.words('english'))\n",
        "block_wrds = ['sender:','subject:','writes:','references:','organization:','from:','date:','>i','22','|>','>>','reply-to:','xref:','newsgroups:','>in','>the','message-id:','lines:','path:','re:','--','sender:','last','better','never','every','even','two','good','used','first','need','going','must','really','might','well','without','made','give','look','try','far','less','seem','new','make','many','way','since','using','take','help','thanks','send','free','may','see','much','want','find','would','one','like','get','use','also','could','say','us','go','please','said','set','got','sure','come','lot','seems','able','anything','put']\n",
        "\"writes\" in block_wrds"
      ],
      "execution_count": 6,
      "outputs": [
        {
          "output_type": "execute_result",
          "data": {
            "text/plain": [
              "False"
            ]
          },
          "metadata": {
            "tags": []
          },
          "execution_count": 6
        }
      ]
    },
    {
      "metadata": {
        "id": "fl967rpjko9W",
        "colab_type": "text"
      },
      "cell_type": "markdown",
      "source": [
        "strip the documents and take into dictionary after the header only!"
      ]
    },
    {
      "metadata": {
        "id": "XsiIOY21ko9X",
        "colab_type": "code",
        "colab": {}
      },
      "cell_type": "code",
      "source": [
        "dictionary = {}\n",
        "type(dictionary)\n",
        "count=0\n",
        "for file in os.listdir(\"mini_newsgroups\"): # making the features list by finding the frequency of each word in the docs \n",
        "    for files in os.listdir(\"mini_newsgroups/\"+file):\n",
        "        #print(file,files)\n",
        "        f = open(\"mini_newsgroups/\"+file+\"/\"+files,'r',errors='ignore')\n",
        "        message = f.read()\n",
        "        message = message.split()\n",
        "        k =1\n",
        "        for i in message:\n",
        "            count +=1\n",
        "            if(len(i) > 1):\n",
        "                if not i.lower() in stop_words:\n",
        "                    if not i.lower() in block_wrds:\n",
        "                        if(i.lower() in dictionary.keys()):\n",
        "                            dictionary[i.lower()] = dictionary[i.lower()] +1\n",
        "                        else:\n",
        "                            dictionary[i.lower()] = 1\n",
        "\n",
        "\n",
        "        f.close()"
      ],
      "execution_count": 0,
      "outputs": []
    },
    {
      "metadata": {
        "id": "7DqLUmzVko9a",
        "colab_type": "code",
        "colab": {}
      },
      "cell_type": "code",
      "source": [
        "import operator\n",
        "sorted_vocab = sorted(dictionary.items(), key= operator.itemgetter(1), reverse= True)   # sort the vocab based on frequency\n",
        "# sorted_vocab"
      ],
      "execution_count": 0,
      "outputs": []
    },
    {
      "metadata": {
        "id": "z-5xaivUko9f",
        "colab_type": "code",
        "colab": {}
      },
      "cell_type": "code",
      "source": [
        "top_val = []\n",
        "sorted_vocab[1000][1]\n",
        "size = len(sorted_vocab)\n",
        "for i in range(size):\n",
        "    if(sorted_vocab[1000][1] <= sorted_vocab[i][1]):\n",
        "        top_val.append(sorted_vocab[i][0])"
      ],
      "execution_count": 0,
      "outputs": []
    },
    {
      "metadata": {
        "id": "9XKbg8Zmko9k",
        "colab_type": "code",
        "colab": {
          "base_uri": "https://localhost:8080/",
          "height": 1817
        },
        "outputId": "23eb4c68-3a4e-4f1a-8695-d8e97ef341c2"
      },
      "cell_type": "code",
      "source": [
        "top_val[0:100]"
      ],
      "execution_count": 10,
      "outputs": [
        {
          "output_type": "execute_result",
          "data": {
            "text/plain": [
              "['apr',\n",
              " 'gmt',\n",
              " '1993',\n",
              " 'article',\n",
              " 'know',\n",
              " 'people',\n",
              " 'nntp-posting-host:',\n",
              " '93',\n",
              " 'university',\n",
              " 'think',\n",
              " 'cantaloupe.srv.cs.cmu.edu',\n",
              " \"i'm\",\n",
              " 'time',\n",
              " 'distribution:',\n",
              " 'it.',\n",
              " 'anyone',\n",
              " 'system',\n",
              " 'world',\n",
              " '25',\n",
              " 'still',\n",
              " 'image',\n",
              " 'computer',\n",
              " '20',\n",
              " 'problem',\n",
              " 'believe',\n",
              " 'data',\n",
              " \"i've\",\n",
              " '16',\n",
              " 'work',\n",
              " 'something',\n",
              " \"can't\",\n",
              " '21',\n",
              " \"that's\",\n",
              " 'state',\n",
              " 'news',\n",
              " 'another',\n",
              " 'back',\n",
              " 'right',\n",
              " '15',\n",
              " 'information',\n",
              " '23',\n",
              " 'windows',\n",
              " 'number',\n",
              " 'available',\n",
              " 'usa',\n",
              " 'government',\n",
              " 'program',\n",
              " 'power',\n",
              " 'god',\n",
              " 'file',\n",
              " 'software',\n",
              " 'least',\n",
              " 'someone',\n",
              " 'tue,',\n",
              " 'point',\n",
              " 'part',\n",
              " 'space',\n",
              " 'fri,',\n",
              " 'run',\n",
              " 'probably',\n",
              " 'different',\n",
              " 'read',\n",
              " 'drive',\n",
              " 'things',\n",
              " 'years',\n",
              " '(usenet',\n",
              " 'mr.',\n",
              " 'it,',\n",
              " 'little',\n",
              " '19',\n",
              " '17',\n",
              " 'case',\n",
              " 'best',\n",
              " 'enough',\n",
              " 'tell',\n",
              " 'public',\n",
              " 'around',\n",
              " 'question',\n",
              " '10',\n",
              " 'long',\n",
              " 'however,',\n",
              " 'mon,',\n",
              " 'support',\n",
              " 'rather',\n",
              " 'access',\n",
              " 'thing',\n",
              " 'science',\n",
              " 'let',\n",
              " 'group',\n",
              " 'version',\n",
              " '24',\n",
              " 'either',\n",
              " 'inc.',\n",
              " \"i'd\",\n",
              " 'real',\n",
              " 'ever',\n",
              " '18',\n",
              " 'thu,',\n",
              " 'called',\n",
              " '26']"
            ]
          },
          "metadata": {
            "tags": []
          },
          "execution_count": 10
        }
      ]
    },
    {
      "metadata": {
        "id": "NKN-U6wFko9q",
        "colab_type": "code",
        "colab": {
          "base_uri": "https://localhost:8080/",
          "height": 35
        },
        "outputId": "26e5ca40-0504-46c9-b7af-3da648bfba1b"
      },
      "cell_type": "code",
      "source": [
        "df = pd.DataFrame(columns = top_val)\n",
        "df.columns\n",
        "start_time = time.time()\n",
        "start_time"
      ],
      "execution_count": 11,
      "outputs": [
        {
          "output_type": "execute_result",
          "data": {
            "text/plain": [
              "1527716075.3212986"
            ]
          },
          "metadata": {
            "tags": []
          },
          "execution_count": 11
        }
      ]
    },
    {
      "metadata": {
        "id": "ijr8ig6Pko9u",
        "colab_type": "code",
        "colab": {
          "base_uri": "https://localhost:8080/",
          "height": 35
        },
        "outputId": "1b365984-6a80-4479-99c9-5b5821b95c1f"
      },
      "cell_type": "code",
      "source": [
        "#@ use to make the \n",
        "df = pd.DataFrame(columns = top_val)\n",
        "df.columns\n",
        "count=0\n",
        "for file in os.listdir(\"20_newsgroups\"):\n",
        "    for files in os.listdir(\"20_newsgroups/\"+file):\n",
        "        count=count+1\n",
        "        #print(file,files)\n",
        "        df.loc[len(df)] = np.zeros(len(top_val))\n",
        "        f = open(\"20_newsgroups/\"+file+\"/\"+files,'r',errors='ignore')\n",
        "        message = f.read()\n",
        "        message = message.split()\n",
        "        k =0\n",
        "        for i in message:\n",
        "            if(i.lower() in df.columns):\n",
        "                df[i.lower()][len(df)-1] += 1\n",
        "        f.close()\n",
        "count"
      ],
      "execution_count": 12,
      "outputs": [
        {
          "output_type": "execute_result",
          "data": {
            "text/plain": [
              "19997"
            ]
          },
          "metadata": {
            "tags": []
          },
          "execution_count": 12
        }
      ]
    },
    {
      "metadata": {
        "id": "hiEEemn9ko90",
        "colab_type": "code",
        "colab": {
          "base_uri": "https://localhost:8080/",
          "height": 35
        },
        "outputId": "7ac91caa-e3a8-4aa5-c5bc-3319c7b718de"
      },
      "cell_type": "code",
      "source": [
        "df.shape"
      ],
      "execution_count": 13,
      "outputs": [
        {
          "output_type": "execute_result",
          "data": {
            "text/plain": [
              "(19997, 1007)"
            ]
          },
          "metadata": {
            "tags": []
          },
          "execution_count": 13
        }
      ]
    },
    {
      "metadata": {
        "id": "wLOg4Tm6ko95",
        "colab_type": "code",
        "colab": {}
      },
      "cell_type": "code",
      "source": [
        "y=[]\n",
        "i=0\n",
        "count=0\n",
        "for file in os.listdir(\"20_newsgroups\"):\n",
        "    for files in os.listdir(\"20_newsgroups/\"+file):\n",
        "        #print(file,files)\n",
        "        count+=1\n",
        "        y.append(i)\n",
        "    i=i+1"
      ],
      "execution_count": 0,
      "outputs": []
    },
    {
      "metadata": {
        "id": "r--3MW5bko9-",
        "colab_type": "code",
        "colab": {
          "base_uri": "https://localhost:8080/",
          "height": 35
        },
        "outputId": "5a3539e4-9f9f-45c7-9979-501b1f2d08e0"
      },
      "cell_type": "code",
      "source": [
        "y = np.array(y)\n",
        "y.shape,df.shape\n",
        "x = df.values\n",
        "count"
      ],
      "execution_count": 15,
      "outputs": [
        {
          "output_type": "execute_result",
          "data": {
            "text/plain": [
              "19997"
            ]
          },
          "metadata": {
            "tags": []
          },
          "execution_count": 15
        }
      ]
    },
    {
      "metadata": {
        "id": "uXN1658wko-D",
        "colab_type": "code",
        "colab": {}
      },
      "cell_type": "code",
      "source": [
        "from sklearn import model_selection\n",
        "x_train, x_test, y_train, y_test = model_selection.train_test_split(x, y, test_size = 0.25, random_state = 0)"
      ],
      "execution_count": 0,
      "outputs": []
    },
    {
      "metadata": {
        "id": "1AaYbzniko-H",
        "colab_type": "code",
        "colab": {
          "base_uri": "https://localhost:8080/",
          "height": 35
        },
        "outputId": "65b7094f-aaf1-47d1-e8f6-a21a3c6844d3"
      },
      "cell_type": "code",
      "source": [
        "from sklearn.naive_bayes import MultinomialNB\n",
        "clf = MultinomialNB()\n",
        "clf.fit(x_train, y_train)\n",
        "y_pred = clf.predict(x_test)\n",
        "\n",
        "train_score = clf.score(x_train, y_train)\n",
        "test_score = clf.score(x_test, y_test)\n",
        "\n",
        "train_score, test_score"
      ],
      "execution_count": 17,
      "outputs": [
        {
          "output_type": "execute_result",
          "data": {
            "text/plain": [
              "(0.8555044342201774, 0.8198)"
            ]
          },
          "metadata": {
            "tags": []
          },
          "execution_count": 17
        }
      ]
    },
    {
      "metadata": {
        "id": "jysYIi8wko-K",
        "colab_type": "code",
        "colab": {
          "base_uri": "https://localhost:8080/",
          "height": 35
        },
        "outputId": "70f8c2fe-2dc0-4073-bd34-4e3d3bd964cf"
      },
      "cell_type": "code",
      "source": [
        "newData = df\n",
        "newData['out'] = y\n",
        "newData.to_csv(\"textClassification.csv\")\n",
        "end_time = time.time()\n",
        "total_time = end_time - start_time\n",
        "total_time"
      ],
      "execution_count": 18,
      "outputs": [
        {
          "output_type": "execute_result",
          "data": {
            "text/plain": [
              "1195.6771864891052"
            ]
          },
          "metadata": {
            "tags": []
          },
          "execution_count": 18
        }
      ]
    },
    {
      "metadata": {
        "id": "WgGRXdwhjcff",
        "colab_type": "code",
        "colab": {}
      },
      "cell_type": "code",
      "source": [
        "filess.download('textClassification.csv')"
      ],
      "execution_count": 0,
      "outputs": []
    },
    {
      "metadata": {
        "id": "hXmOm3U_2ShU",
        "colab_type": "code",
        "colab": {}
      },
      "cell_type": "code",
      "source": [
        "!pip install -U -q PyDrive\n",
        " \n",
        "from pydrive.auth import GoogleAuth\n",
        "from pydrive.drive import GoogleDrive\n",
        "from google.colab import auth\n",
        "from oauth2client.client import GoogleCredentials\n",
        " \n",
        "# 1. Authenticate and create the PyDrive client.\n",
        "auth.authenticate_user()\n",
        "gauth = GoogleAuth()\n",
        "gauth.credentials = GoogleCredentials.get_application_default()\n",
        "drive = GoogleDrive(gauth)"
      ],
      "execution_count": 0,
      "outputs": []
    },
    {
      "metadata": {
        "id": "nSw8kiTY4YhS",
        "colab_type": "text"
      },
      "cell_type": "markdown",
      "source": [
        "these are the codes for connecting && authenticating the GDrive for getting the CSV file into .pynb file"
      ]
    },
    {
      "metadata": {
        "id": "GafJsc4K4Kc9",
        "colab_type": "code",
        "colab": {
          "base_uri": "https://localhost:8080/",
          "height": 125
        },
        "outputId": "344dac92-0f21-49a9-a3eb-612d773a1bed"
      },
      "cell_type": "code",
      "source": [
        "file_list = drive.ListFile({'q': \"'1vrFHzEYTZkF_vJvn7KYh6OhYLphLvzsX' in parents and trashed=false\"}).GetList()\n",
        "for file1 in file_list:\n",
        "  print('title: %s, id: %s' % (file1['title'], file1['id']))"
      ],
      "execution_count": 21,
      "outputs": [
        {
          "output_type": "stream",
          "text": [
            "title: MultinomailScratch.ipynb, id: 1sF1QO54CTko6yG19c7vMY0BfopeiJaDh\n",
            "title: Copy of textClassification.ipynb, id: 1LigqoQQ4coVPfNbDVAFYThOUmgAmblau\n",
            "title: textClassification.csv, id: 1lQPcPwbGsxvrtWi5vl4PnQS5VbC-VCoX\n",
            "title: Copy of External data: Drive, Sheets, and Cloud Storage, id: 1yof-7pUy4uANLIM1w-i706ue8qnfPuzv\n",
            "title: textClassification.ipynb, id: 14djjX_9u2H0ddxx5lYIta22W-Ts97irM\n",
            "title: Copy of Hello, Colaboratory, id: 1xfu43LZcWHSV1Qwiv0MDl9S314ODhvT9\n"
          ],
          "name": "stdout"
        }
      ]
    },
    {
      "metadata": {
        "id": "HHumiRgC4nyX",
        "colab_type": "text"
      },
      "cell_type": "markdown",
      "source": [
        "main code starts from below"
      ]
    },
    {
      "metadata": {
        "id": "mz7HhKBP42Sc",
        "colab_type": "code",
        "colab": {}
      },
      "cell_type": "code",
      "source": [
        "import pandas as pd\n",
        "import numpy as np\n",
        "import time\n",
        "from google.colab import files as filess"
      ],
      "execution_count": 0,
      "outputs": []
    },
    {
      "metadata": {
        "id": "3RXCqVo54_5b",
        "colab_type": "code",
        "colab": {}
      },
      "cell_type": "code",
      "source": [
        "data = drive.CreateFile({'id': '1lQPcPwbGsxvrtWi5vl4PnQS5VbC-VCoX'})\n",
        "data.GetContentFile('textClassification.csv')"
      ],
      "execution_count": 0,
      "outputs": []
    },
    {
      "metadata": {
        "id": "P2Oyr5Y75KLY",
        "colab_type": "code",
        "colab": {
          "base_uri": "https://localhost:8080/",
          "height": 35
        },
        "outputId": "9dc0a145-2108-4824-9309-203a5626a2c5"
      },
      "cell_type": "code",
      "source": [
        "data = pd.read_csv(\"textClassification.csv\")\n",
        "Y = data[\"out\"]\n",
        "print(data.shape)\n",
        "data.drop(['out'], axis = 1, inplace = True)\n",
        "data.drop(['Unnamed: 0'], axis = 1, inplace = True)"
      ],
      "execution_count": 33,
      "outputs": [
        {
          "output_type": "stream",
          "text": [
            "(19997, 1020)\n"
          ],
          "name": "stdout"
        }
      ]
    },
    {
      "metadata": {
        "id": "9YrTnWGp5OvQ",
        "colab_type": "code",
        "colab": {
          "base_uri": "https://localhost:8080/",
          "height": 18035
        },
        "outputId": "0173cd62-79b1-432f-a201-a9e477589e94"
      },
      "cell_type": "code",
      "source": [
        "from sklearn import model_selection\n",
        "X_train, X_test, Y_train, Y_test = model_selection.train_test_split(data, Y, test_size = 0.30,shuffle=True, random_state = 0)\n",
        "f_list = list(data)\n",
        "f_list"
      ],
      "execution_count": 34,
      "outputs": [
        {
          "output_type": "execute_result",
          "data": {
            "text/plain": [
              "['apr',\n",
              " 'organization:',\n",
              " 'gmt',\n",
              " '1993',\n",
              " 'writes:',\n",
              " 'references:',\n",
              " 'article',\n",
              " '|>',\n",
              " '>>',\n",
              " 'know',\n",
              " 'people',\n",
              " 'nntp-posting-host:',\n",
              " '93',\n",
              " 'university',\n",
              " 'think',\n",
              " 'xref:',\n",
              " 'cantaloupe.srv.cs.cmu.edu',\n",
              " \"i'm\",\n",
              " 'time',\n",
              " 'distribution:',\n",
              " 'it.',\n",
              " 'anyone',\n",
              " 'system',\n",
              " 'world',\n",
              " '25',\n",
              " 'still',\n",
              " 'image',\n",
              " 'computer',\n",
              " '20',\n",
              " 'problem',\n",
              " 'believe',\n",
              " 'data',\n",
              " \"i've\",\n",
              " '16',\n",
              " 'work',\n",
              " 'something',\n",
              " \"can't\",\n",
              " '>in',\n",
              " '>the',\n",
              " 'reply-to:',\n",
              " '21',\n",
              " \"that's\",\n",
              " 'state',\n",
              " 'news',\n",
              " 'another',\n",
              " 'back',\n",
              " 'right',\n",
              " '15',\n",
              " 'information',\n",
              " '23',\n",
              " 'windows',\n",
              " 'number',\n",
              " 'available',\n",
              " 'usa',\n",
              " 'program',\n",
              " 'government',\n",
              " '>i',\n",
              " '22',\n",
              " 'power',\n",
              " 'god',\n",
              " 'file',\n",
              " 'software',\n",
              " 'someone',\n",
              " 'least',\n",
              " 'tue,',\n",
              " 'part',\n",
              " 'point',\n",
              " 'space',\n",
              " 'fri,',\n",
              " 'run',\n",
              " 'probably',\n",
              " 'different',\n",
              " 'read',\n",
              " 'drive',\n",
              " 'things',\n",
              " 'years',\n",
              " '(usenet',\n",
              " 'it,',\n",
              " 'mr.',\n",
              " 'little',\n",
              " '19',\n",
              " '17',\n",
              " 'case',\n",
              " 'best',\n",
              " 'tell',\n",
              " 'public',\n",
              " 'enough',\n",
              " 'around',\n",
              " 'question',\n",
              " '10',\n",
              " 'long',\n",
              " 'mon,',\n",
              " 'however,',\n",
              " 'support',\n",
              " 'rather',\n",
              " 'access',\n",
              " 'thing',\n",
              " 'science',\n",
              " 'let',\n",
              " 'group',\n",
              " 'version',\n",
              " '24',\n",
              " 'either',\n",
              " \"i'd\",\n",
              " 'real',\n",
              " 'inc.',\n",
              " 'ever',\n",
              " '18',\n",
              " '26',\n",
              " 'thu,',\n",
              " 'called',\n",
              " 'national',\n",
              " 'hard',\n",
              " 'found',\n",
              " 'several',\n",
              " 'old',\n",
              " 'bit',\n",
              " 'next',\n",
              " 'looking',\n",
              " 'following',\n",
              " 'quite',\n",
              " 'trying',\n",
              " 'line',\n",
              " 'great',\n",
              " 'whether',\n",
              " 'getting',\n",
              " 'simply',\n",
              " 'jpeg',\n",
              " 'always',\n",
              " 'systems',\n",
              " 'law',\n",
              " 'fact',\n",
              " 'keywords:',\n",
              " 'possible',\n",
              " 'call',\n",
              " 'them.',\n",
              " '...',\n",
              " 'seen',\n",
              " 'wed,',\n",
              " 'keep',\n",
              " 'heard',\n",
              " 'based',\n",
              " 'research',\n",
              " 'means',\n",
              " 'dos',\n",
              " 'key',\n",
              " 'start',\n",
              " 'game',\n",
              " 'actually',\n",
              " 'list',\n",
              " 'system)',\n",
              " 'files',\n",
              " 'stephanopoulos:',\n",
              " 'second',\n",
              " 'reason',\n",
              " 'local',\n",
              " \"i'll\",\n",
              " 'nothing',\n",
              " '---',\n",
              " '(or',\n",
              " '(and',\n",
              " 'color',\n",
              " 'post',\n",
              " 'code',\n",
              " 'evidence',\n",
              " 'given',\n",
              " 'order',\n",
              " 'makes',\n",
              " 'three',\n",
              " 'maybe',\n",
              " 'gun',\n",
              " 'high',\n",
              " 'well,',\n",
              " 'followup-to:',\n",
              " 'year',\n",
              " '(the',\n",
              " 'end',\n",
              " 'place',\n",
              " 'full',\n",
              " 'etc.',\n",
              " '27',\n",
              " 'david',\n",
              " 'president',\n",
              " 'person',\n",
              " 'ca',\n",
              " 'so,',\n",
              " 'source',\n",
              " 'day',\n",
              " 'disk',\n",
              " '>|>',\n",
              " 'already',\n",
              " 'done',\n",
              " 'general',\n",
              " 'encryption',\n",
              " 'perhaps',\n",
              " '14',\n",
              " 'name',\n",
              " 'mean',\n",
              " 'team',\n",
              " 'control',\n",
              " 'current',\n",
              " 'john',\n",
              " 'else',\n",
              " 'thought',\n",
              " 'large',\n",
              " 'big',\n",
              " 'video',\n",
              " 'human',\n",
              " 'standard',\n",
              " 'message',\n",
              " 'technology',\n",
              " 'graphics',\n",
              " 'network',\n",
              " 'christian',\n",
              " \"there's\",\n",
              " 'window',\n",
              " 'small',\n",
              " 'problems',\n",
              " 'claim',\n",
              " 'cannot',\n",
              " 'health',\n",
              " '30',\n",
              " 'kind',\n",
              " 'true',\n",
              " 'idea',\n",
              " 'university,',\n",
              " 'email',\n",
              " 'display',\n",
              " 'whole',\n",
              " 'though',\n",
              " 'working',\n",
              " 'original',\n",
              " 'center',\n",
              " 'pretty',\n",
              " 'info',\n",
              " 'pay',\n",
              " '\"the',\n",
              " 'saying',\n",
              " 'opinions',\n",
              " 'buy',\n",
              " 'sort',\n",
              " 'often',\n",
              " 'san',\n",
              " 'mac',\n",
              " 'card',\n",
              " 'usually',\n",
              " 'agree',\n",
              " 'me.',\n",
              " 'remember',\n",
              " 'april',\n",
              " 'is,',\n",
              " 'approved:',\n",
              " 'car',\n",
              " 'provide',\n",
              " 'church',\n",
              " 'ftp',\n",
              " 'says',\n",
              " 'yet',\n",
              " 'interested',\n",
              " 'word',\n",
              " 'play',\n",
              " 'jesus',\n",
              " 'note',\n",
              " 'told',\n",
              " 'left',\n",
              " 'bad',\n",
              " 'unless',\n",
              " 'times',\n",
              " 'instead',\n",
              " '13',\n",
              " 'x-newsreader:',\n",
              " '11',\n",
              " 'chip',\n",
              " 'change',\n",
              " 'feel',\n",
              " '12',\n",
              " 'issue',\n",
              " 'others',\n",
              " 'making',\n",
              " 'ask',\n",
              " 'similar',\n",
              " 'life',\n",
              " 'now,',\n",
              " 'wrote:',\n",
              " 'price',\n",
              " 'pc',\n",
              " 'major',\n",
              " 'came',\n",
              " 'check',\n",
              " 'anybody',\n",
              " 'book',\n",
              " 'works',\n",
              " 'canada',\n",
              " 'cause',\n",
              " 'higher',\n",
              " 'private',\n",
              " 'rec.sport.hockey',\n",
              " 'show',\n",
              " 'department',\n",
              " 'guess',\n",
              " \"he's\",\n",
              " 'understand',\n",
              " 'ibm',\n",
              " 'certainly',\n",
              " 'running',\n",
              " '(i',\n",
              " 'box',\n",
              " 'j.',\n",
              " 'medical',\n",
              " 'via',\n",
              " 'started',\n",
              " 'mail',\n",
              " 'type',\n",
              " 'questions',\n",
              " 'hope',\n",
              " 'course',\n",
              " \"we're\",\n",
              " 'live',\n",
              " 'talking',\n",
              " 'security',\n",
              " 'this.',\n",
              " 'images',\n",
              " 'soc.religion.christian',\n",
              " 'almost',\n",
              " 'paul',\n",
              " 'open',\n",
              " 'programs',\n",
              " 'rec.sport.baseball',\n",
              " 'rec.motorcycles',\n",
              " 'include',\n",
              " '(david',\n",
              " 'user',\n",
              " 'sat,',\n",
              " 'known',\n",
              " 'fbi',\n",
              " 'wanted',\n",
              " 'you,',\n",
              " 'money',\n",
              " 'bill',\n",
              " 'away',\n",
              " 'including',\n",
              " 'jewish',\n",
              " 'christian@aramis.rutgers.edu',\n",
              " 'course,',\n",
              " 'likely',\n",
              " 'couple',\n",
              " 'na',\n",
              " 'that.',\n",
              " 'everyone',\n",
              " 'institute',\n",
              " 'launch',\n",
              " 'within',\n",
              " 'u.s.',\n",
              " 'wire',\n",
              " 'posted',\n",
              " ':-)',\n",
              " 'single',\n",
              " 'fire',\n",
              " 'sun,',\n",
              " 'view',\n",
              " 'members',\n",
              " '>to',\n",
              " 'also,',\n",
              " 'a.',\n",
              " 'school',\n",
              " 'test',\n",
              " 'answer',\n",
              " 'american',\n",
              " 'machine',\n",
              " 'server',\n",
              " 'turkish',\n",
              " 'study',\n",
              " 'address',\n",
              " 'scsi',\n",
              " 'college',\n",
              " 'e-mail',\n",
              " 'unix',\n",
              " 'sun',\n",
              " 'dept.',\n",
              " 'copy',\n",
              " 'entry',\n",
              " 'man',\n",
              " 'special',\n",
              " 'comp.sys.mac.hardware',\n",
              " 'area',\n",
              " 'engineering',\n",
              " 'police',\n",
              " 'home',\n",
              " '(john',\n",
              " 'that,',\n",
              " 'common',\n",
              " 'it?',\n",
              " 'certain',\n",
              " 'christians',\n",
              " 'care',\n",
              " 'comes',\n",
              " 'hear',\n",
              " 'specific',\n",
              " 'speed',\n",
              " 'tin',\n",
              " 'this,',\n",
              " 'package',\n",
              " '>>>',\n",
              " 'comp.sys.ibm.pc.hardware',\n",
              " 'consider',\n",
              " '(news',\n",
              " '1.1',\n",
              " 'turn',\n",
              " 'white',\n",
              " 'sometimes',\n",
              " 'matter',\n",
              " 'subject',\n",
              " 'p,#',\n",
              " 'write',\n",
              " 'important',\n",
              " 'light',\n",
              " 'wrong',\n",
              " 'article-i.d.:',\n",
              " 'needed',\n",
              " 'later',\n",
              " 'ms',\n",
              " 'israel',\n",
              " 'love',\n",
              " 'clear',\n",
              " 'body',\n",
              " 'hardware',\n",
              " 'taking',\n",
              " 'cost',\n",
              " 'expect',\n",
              " '>and',\n",
              " 'morality',\n",
              " 'news)',\n",
              " 'everything',\n",
              " 'stop',\n",
              " 'here.',\n",
              " 'western',\n",
              " 'black',\n",
              " 'sci.space',\n",
              " 'among',\n",
              " 'you.',\n",
              " 'yes,',\n",
              " 'saw',\n",
              " 'time.',\n",
              " 'tried',\n",
              " '28',\n",
              " 'sci.electronics',\n",
              " '29',\n",
              " 'simple',\n",
              " 'various',\n",
              " 'board',\n",
              " 'position',\n",
              " 'fax:',\n",
              " 'text',\n",
              " 'alt.atheism',\n",
              " 'low',\n",
              " 'house',\n",
              " 'upon',\n",
              " 'memory',\n",
              " 'nice',\n",
              " 'size',\n",
              " 'california',\n",
              " 'build',\n",
              " 'killed',\n",
              " 'uses',\n",
              " 'clipper',\n",
              " 'clinton',\n",
              " 'went',\n",
              " 'posting',\n",
              " 'previous',\n",
              " 'rec.autos',\n",
              " 'side',\n",
              " 'effect',\n",
              " 'front',\n",
              " 'wiring',\n",
              " 'early',\n",
              " 'taken',\n",
              " 'doubt',\n",
              " 'legal',\n",
              " 'difference',\n",
              " 'latest',\n",
              " 'quality',\n",
              " 'phone',\n",
              " 'strong',\n",
              " 'thus',\n",
              " 'needs',\n",
              " 'ground',\n",
              " 'except',\n",
              " 'mike',\n",
              " 'earth',\n",
              " 'reference',\n",
              " 'faith',\n",
              " 'looks',\n",
              " '(michael',\n",
              " '>of',\n",
              " 'add',\n",
              " 'rights',\n",
              " 'monitor',\n",
              " 'truth',\n",
              " 'gif',\n",
              " 'gets',\n",
              " '32',\n",
              " 'particular',\n",
              " 'men',\n",
              " 'communications',\n",
              " 'all.',\n",
              " 'according',\n",
              " 'mind',\n",
              " 'history',\n",
              " 'exactly',\n",
              " 'sound',\n",
              " 'asked',\n",
              " 'talk',\n",
              " 'michael',\n",
              " 'comp.windows.x',\n",
              " 'again,',\n",
              " 'hit',\n",
              " 'example,',\n",
              " 'goes',\n",
              " 'services',\n",
              " \"they're\",\n",
              " 'internet:',\n",
              " 'reading',\n",
              " 'discussion',\n",
              " 'written',\n",
              " 'screen',\n",
              " 'accept',\n",
              " 'sci.med',\n",
              " 'religious',\n",
              " 'too.',\n",
              " 'due',\n",
              " 'become',\n",
              " 'format',\n",
              " '(mark',\n",
              " 'third',\n",
              " 'computing',\n",
              " 'way,',\n",
              " 'took',\n",
              " 'insurance',\n",
              " 'federal',\n",
              " 'company',\n",
              " 'longer',\n",
              " 'personal',\n",
              " 'lines',\n",
              " 'win',\n",
              " 'well.',\n",
              " 'apple',\n",
              " 'service',\n",
              " 'drug',\n",
              " 'israeli',\n",
              " 'easy',\n",
              " 'mark',\n",
              " 'protect',\n",
              " 'project',\n",
              " 'time,',\n",
              " 'although',\n",
              " 'interesting',\n",
              " 'technical',\n",
              " 'per',\n",
              " 'considered',\n",
              " 'station',\n",
              " 'c.',\n",
              " 'happy',\n",
              " 'wants',\n",
              " 'plus',\n",
              " 'stuff',\n",
              " 'allow',\n",
              " 'dr.',\n",
              " 'shuttle',\n",
              " 'cable',\n",
              " 'moral',\n",
              " 'bible',\n",
              " 'takes',\n",
              " 'shall',\n",
              " 'days',\n",
              " 'ago',\n",
              " 'sell',\n",
              " 'today',\n",
              " 'air',\n",
              " 'international',\n",
              " 'women',\n",
              " 'books',\n",
              " 'summary:',\n",
              " 'model',\n",
              " 'top',\n",
              " '(was',\n",
              " 'built',\n",
              " 'drivers',\n",
              " '[version',\n",
              " 'cut',\n",
              " 'require',\n",
              " 'years,',\n",
              " 'application',\n",
              " 'hp',\n",
              " 'not.',\n",
              " 'suggest',\n",
              " 'theory',\n",
              " 'provides',\n",
              " 'l.',\n",
              " 'talk.politics.guns',\n",
              " '>a',\n",
              " 'no,',\n",
              " 'runs',\n",
              " 'sale',\n",
              " '40',\n",
              " 'me,',\n",
              " 'especially',\n",
              " 'press',\n",
              " 'example',\n",
              " 'design',\n",
              " 'd.',\n",
              " 'form',\n",
              " 'jim',\n",
              " 'manager',\n",
              " 'tools',\n",
              " 'four',\n",
              " 'fact,',\n",
              " 'knows',\n",
              " 'includes',\n",
              " '(jim',\n",
              " '-0400',\n",
              " 'children',\n",
              " 'device',\n",
              " 'steve',\n",
              " 'level',\n",
              " '\"i',\n",
              " 'assume',\n",
              " 'contact',\n",
              " 'parts',\n",
              " 'year.',\n",
              " 'james',\n",
              " 'armenian',\n",
              " 'comp.graphics',\n",
              " 'experience',\n",
              " 'mentioned',\n",
              " 'speak',\n",
              " 'objective',\n",
              " 'sources',\n",
              " 'tape',\n",
              " 'keys',\n",
              " 'short',\n",
              " 'states',\n",
              " 'sense',\n",
              " 'ones',\n",
              " '||',\n",
              " 'applications',\n",
              " 'sent',\n",
              " 'york',\n",
              " 'digital',\n",
              " 'directly',\n",
              " '50',\n",
              " 'behind',\n",
              " 'nasa',\n",
              " \"what's\",\n",
              " 'hell',\n",
              " 'easily',\n",
              " 'system.',\n",
              " 'mouse',\n",
              " 'requires',\n",
              " 'equipment',\n",
              " \"god's\",\n",
              " 'save',\n",
              " 'result',\n",
              " 'complete',\n",
              " 'driver',\n",
              " 'close',\n",
              " 'amount',\n",
              " 'response',\n",
              " 'comments',\n",
              " 'willing',\n",
              " 'required',\n",
              " 'force',\n",
              " 'games',\n",
              " 'ii',\n",
              " 'together',\n",
              " 'all,',\n",
              " 'guy',\n",
              " 'total',\n",
              " '1)',\n",
              " 'necessarily',\n",
              " 'main',\n",
              " 'serious',\n",
              " 'series',\n",
              " 'basic',\n",
              " 'operating',\n",
              " 'groups',\n",
              " 'say,',\n",
              " 'along',\n",
              " 'media',\n",
              " 'koresh',\n",
              " 'baseball',\n",
              " 'follow',\n",
              " 'them,',\n",
              " 'out.',\n",
              " 'know,',\n",
              " 'actual',\n",
              " 'tel:',\n",
              " '>:',\n",
              " 'one.',\n",
              " 'w.',\n",
              " 'leave',\n",
              " 'p.',\n",
              " 'political',\n",
              " 'argument',\n",
              " 'work.',\n",
              " 'explain',\n",
              " 'tax',\n",
              " 'past',\n",
              " 'laws',\n",
              " 'ny',\n",
              " 'results',\n",
              " 'problem.',\n",
              " '>that',\n",
              " 'interest',\n",
              " 'designed',\n",
              " '1.',\n",
              " 'comp.os.ms-windows.misc',\n",
              " 'supposed',\n",
              " 'north',\n",
              " 'neither',\n",
              " 'electrical',\n",
              " 'process',\n",
              " 'term',\n",
              " 'candida',\n",
              " 'jews',\n",
              " 'figure',\n",
              " 'words',\n",
              " 'coming',\n",
              " 'in-reply-to:',\n",
              " 'red',\n",
              " 'job',\n",
              " 'death',\n",
              " 'circuit',\n",
              " 'currently',\n",
              " 'this?',\n",
              " 'people,',\n",
              " 'page',\n",
              " 'faq',\n",
              " 'option',\n",
              " 'clock',\n",
              " 'no.',\n",
              " 'scientific',\n",
              " 'processing',\n",
              " 'algorithm',\n",
              " 'picture',\n",
              " 'input',\n",
              " 'lead',\n",
              " 'events',\n",
              " 'half',\n",
              " 'kill',\n",
              " 'statement',\n",
              " 'users',\n",
              " 'appropriate',\n",
              " 'originator:',\n",
              " 'multiple',\n",
              " 'individual',\n",
              " 'responsible',\n",
              " 'radar',\n",
              " 'situation',\n",
              " 'armenians',\n",
              " 'there.',\n",
              " 'hot',\n",
              " 'lower',\n",
              " 'move',\n",
              " 'internet',\n",
              " 'carry',\n",
              " 'wonder',\n",
              " 'lots',\n",
              " 'russian',\n",
              " '_/',\n",
              " 'rules',\n",
              " 'freedom',\n",
              " 'whatever',\n",
              " '??',\n",
              " 'way.',\n",
              " 'final',\n",
              " 'commercial',\n",
              " 'os/2',\n",
              " 'ram',\n",
              " 'caused',\n",
              " 'rest',\n",
              " 'entire',\n",
              " 'greek',\n",
              " 'misc.forsale',\n",
              " 'e.',\n",
              " '>is',\n",
              " 'looked',\n",
              " '>if',\n",
              " 'up.',\n",
              " 'choice',\n",
              " 'section',\n",
              " 'volume',\n",
              " 'difficult',\n",
              " 'modem',\n",
              " 'request',\n",
              " 'present',\n",
              " 'water',\n",
              " 'one,',\n",
              " '(as',\n",
              " 'offer',\n",
              " 'sounds',\n",
              " 'gm',\n",
              " 'gives',\n",
              " 'guns',\n",
              " 'convert',\n",
              " 'radio',\n",
              " \"let's\",\n",
              " 'recent',\n",
              " 'de',\n",
              " 'society',\n",
              " 'city',\n",
              " 'language',\n",
              " 'players',\n",
              " 'title',\n",
              " 'avoid',\n",
              " 'fast',\n",
              " 'office',\n",
              " 'r.',\n",
              " 'wrong.',\n",
              " 'united',\n",
              " 'recently',\n",
              " 'so.',\n",
              " 'performance',\n",
              " 'not,',\n",
              " 'useful',\n",
              " '(not',\n",
              " 'months',\n",
              " 'analysis',\n",
              " 'output',\n",
              " 'hold',\n",
              " 'suppose',\n",
              " 'create',\n",
              " 'clearly',\n",
              " '100',\n",
              " 'building',\n",
              " '00',\n",
              " 'community',\n",
              " 'batf',\n",
              " 'ability',\n",
              " 'dave',\n",
              " 'to:',\n",
              " 'limited',\n",
              " 'advice',\n",
              " 'trade',\n",
              " 'happened',\n",
              " 'inc.,',\n",
              " 'bob',\n",
              " 'ten',\n",
              " 'value',\n",
              " 'm.',\n",
              " 'bbs',\n",
              " 'system,',\n",
              " 'million',\n",
              " 'bring',\n",
              " 'christianity',\n",
              " 'hedrick@geneva.rutgers.edu',\n",
              " 'sci.crypt',\n",
              " 'cubs',\n",
              " 'net',\n",
              " 'range',\n",
              " '2)',\n",
              " 'attempt',\n",
              " 'handle',\n",
              " 'court',\n",
              " 'thinking',\n",
              " 'food',\n",
              " 'head',\n",
              " 'terms',\n",
              " 'corporation',\n",
              " 'vs',\n",
              " 's.',\n",
              " 'anonymous',\n",
              " 'do.',\n",
              " 'author',\n",
              " 'worth',\n",
              " 'cheap',\n",
              " 'requests',\n",
              " 'values',\n",
              " 'washington',\n",
              " 'colors',\n",
              " 'completely',\n",
              " 'war',\n",
              " 'involved',\n",
              " 'compatible',\n",
              " 'policy',\n",
              " 'pin',\n",
              " 'port',\n",
              " 'mode',\n",
              " 'fine',\n",
              " '(for',\n",
              " 'case,',\n",
              " 'average',\n",
              " 'numbers',\n",
              " 'choose',\n",
              " 'issues',\n",
              " 'deal',\n",
              " 'illinois',\n",
              " 'development',\n",
              " 'companies',\n",
              " 'signal',\n",
              " 'supports',\n",
              " 'appreciated.',\n",
              " 'lost',\n",
              " 'purpose',\n",
              " 'cars',\n",
              " 'buying',\n",
              " 'setting',\n",
              " 'texas',\n",
              " 'hand,',\n",
              " 'oh',\n",
              " 'nec',\n",
              " '>--',\n",
              " 'robert',\n",
              " 'correct',\n",
              " 'mention',\n",
              " 'toronto',\n",
              " 'remove',\n",
              " 'printer',\n",
              " 'appear',\n",
              " 'george',\n",
              " 'developed',\n",
              " 'again.',\n",
              " 'period',\n",
              " 'venus',\n",
              " 'devices',\n",
              " 'fans',\n",
              " 'future',\n",
              " 'understanding',\n",
              " 'generally',\n",
              " 'bike',\n",
              " '>this',\n",
              " '(robert',\n",
              " 'asking',\n",
              " 'hours',\n",
              " 'heart',\n",
              " '31',\n",
              " 'five',\n",
              " 'administration',\n",
              " 'ways',\n",
              " '2.',\n",
              " 'names',\n",
              " 'b.',\n",
              " 'usenet',\n",
              " 'weapons',\n",
              " 'social',\n",
              " 'mb',\n",
              " 'talk.politics.mideast',\n",
              " 'technology,',\n",
              " 'forget',\n",
              " 'install',\n",
              " 'suspect',\n",
              " 'worked',\n",
              " 'then,',\n",
              " '(in',\n",
              " 'act',\n",
              " '>for',\n",
              " 'right.',\n",
              " 'online',\n",
              " 'object',\n",
              " 'led',\n",
              " '>you',\n",
              " 'decided',\n",
              " 'apply',\n",
              " '>>the',\n",
              " 'none',\n",
              " 'inside',\n",
              " 'young',\n",
              " 'changes',\n",
              " 'organization',\n",
              " 'mission',\n",
              " 'provided',\n",
              " 'cases',\n",
              " 'muslim',\n",
              " 'road',\n",
              " 'finally',\n",
              " 'noise',\n",
              " 'action',\n",
              " 'otherwise',\n",
              " 'proper',\n",
              " 'email:',\n",
              " \"who's\",\n",
              " 'knew',\n",
              " '>it',\n",
              " 'night',\n",
              " '>what',\n",
              " 'particularly',\n",
              " 'gave',\n",
              " 'serial',\n",
              " 'cards',\n",
              " 'years.',\n",
              " 'allowed',\n",
              " 'civil',\n",
              " 'tv',\n",
              " 'percent',\n",
              " 'regarding',\n",
              " 'enforcement',\n",
              " 'hockey',\n",
              " 'near',\n",
              " 'education',\n",
              " 'trouble',\n",
              " 'chance',\n",
              " ...]"
            ]
          },
          "metadata": {
            "tags": []
          },
          "execution_count": 34
        }
      ]
    },
    {
      "metadata": {
        "id": "56AlSmEM5P3V",
        "colab_type": "code",
        "colab": {}
      },
      "cell_type": "code",
      "source": [
        "def train(X_train,Y_train):\n",
        "    result = {}\n",
        "    set_class = set(Y_train)\n",
        "    for curr_class in set_class:\n",
        "        result[curr_class] = {}\n",
        "        result[\"total_data\"] = len(Y_train)\n",
        "        #all the x_train rows whose Y is curr_class\n",
        "        curr_class_rows = (Y_train == curr_class)\n",
        "        X_train_curr = X_train[curr_class_rows]\n",
        "        Y_train_curr = Y_train[curr_class_rows]\n",
        "        #traverse through all the features of X_train and get the sum of each word and save it in the dict\n",
        "        #i.e result[class][word] = count of word appearance in the doc\n",
        "        sums = 0\n",
        "        for x in f_list:\n",
        "            result[curr_class][x] = X_train_curr[x].sum()\n",
        "            sums = sums+result[curr_class][x]\n",
        "        result[curr_class][\"total_count\"] = sums\n",
        "    return result"
      ],
      "execution_count": 0,
      "outputs": []
    },
    {
      "metadata": {
        "id": "PBSbDU9e5S5K",
        "colab_type": "code",
        "colab": {
          "base_uri": "https://localhost:8080/",
          "height": 35
        },
        "outputId": "61ca4358-6015-43d6-ecfa-87215ddcb9f8"
      },
      "cell_type": "code",
      "source": [
        "dictionary = train(X_train,Y_train)\n",
        "len(dictionary[0]),len(f_list)"
      ],
      "execution_count": 36,
      "outputs": [
        {
          "output_type": "execute_result",
          "data": {
            "text/plain": [
              "(1019, 1018)"
            ]
          },
          "metadata": {
            "tags": []
          },
          "execution_count": 36
        }
      ]
    },
    {
      "metadata": {
        "id": "chPBCY9p5eRB",
        "colab_type": "code",
        "colab": {}
      },
      "cell_type": "code",
      "source": [
        "def probablity(dictionary,doc,current_class):\n",
        "    output= np.log(dictionary[current_class][\"total_count\"])-np.log(dictionary[\"total_data\"]) # P(wrd_cunt_curr_clss/total_words)\n",
        "   # print(\"output1\",output)\n",
        "    for index,count in doc.iteritems():\n",
        "      f_name = index\n",
        "      f_count = count\n",
        "      freq_count = dictionary[current_class][f_name] + 1\n",
        "      total_count = dictionary[current_class]['total_count'] + len(f_list) #handling 0 probablity\n",
        "      curr_prob = np.log(freq_count) - np.log(total_count)\n",
        "      for i in range(int(count)):\n",
        "        output = output + curr_prob\n",
        "    return output"
      ],
      "execution_count": 0,
      "outputs": []
    },
    {
      "metadata": {
        "id": "bBwLJjt75kJz",
        "colab_type": "code",
        "colab": {}
      },
      "cell_type": "code",
      "source": [
        "def predictSinglePoint(dictionary,doc):\n",
        "    classes = dictionary.keys()\n",
        "    best_p = -1000\n",
        "    best_class = -1\n",
        "    first_run = True\n",
        "    for current_class in classes: # comapare each classes and find the best one\n",
        "        if(current_class == \"total_data\"):\n",
        "            continue\n",
        "        p_curr_class = probablity(dictionary,doc,current_class)\n",
        "#         print(current_class,\" \",p_curr_class)\n",
        "        if(first_run or p_curr_class > best_p):\n",
        "            best_p = p_curr_class\n",
        "            best_class = current_class\n",
        "        first_run = False\n",
        "    return best_class"
      ],
      "execution_count": 0,
      "outputs": []
    },
    {
      "metadata": {
        "id": "Ll5wtS535mn9",
        "colab_type": "code",
        "colab": {}
      },
      "cell_type": "code",
      "source": [
        "def predict(dictionary,X_test):\n",
        "    Y_pred = []\n",
        "    for j in X_test.iterrows():\n",
        "    \n",
        "        x_class = predictSinglePoint(dictionary,j[1]) # pass each document (row) to the predictSinglept function\n",
        "        Y_pred.append(x_class)\n",
        "#         break\n",
        "    return Y_pred"
      ],
      "execution_count": 0,
      "outputs": []
    },
    {
      "metadata": {
        "id": "IQU9vB-l5seT",
        "colab_type": "code",
        "colab": {}
      },
      "cell_type": "code",
      "source": [
        " Y_pred = predict(dictionary,X_test)"
      ],
      "execution_count": 0,
      "outputs": []
    },
    {
      "metadata": {
        "id": "_fnndVqc5um8",
        "colab_type": "code",
        "colab": {
          "base_uri": "https://localhost:8080/",
          "height": 35
        },
        "outputId": "ef2e1fda-30dc-41df-e7c0-81f345bbf53f"
      },
      "cell_type": "code",
      "source": [
        "from sklearn.metrics import accuracy_score\n",
        "accuracy_score(Y_test,Y_pred),test_score"
      ],
      "execution_count": 43,
      "outputs": [
        {
          "output_type": "execute_result",
          "data": {
            "text/plain": [
              "(0.8103333333333333, 0.8198)"
            ]
          },
          "metadata": {
            "tags": []
          },
          "execution_count": 43
        }
      ]
    }
  ]
}