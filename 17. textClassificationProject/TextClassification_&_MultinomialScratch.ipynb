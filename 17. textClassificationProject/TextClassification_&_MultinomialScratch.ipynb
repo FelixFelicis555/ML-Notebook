{
  "nbformat": 4,
  "nbformat_minor": 0,
  "metadata": {
    "colab": {
      "name": "TextClassification & MultinomialScratch.ipynb",
      "version": "0.3.2",
      "views": {},
      "default_view": {},
      "provenance": []
    },
    "kernelspec": {
      "name": "python3",
      "display_name": "Python 3"
    },
    "accelerator": "GPU"
  },
  "cells": [
    {
      "metadata": {
        "id": "bOy0Yzvxko84",
        "colab_type": "code",
        "colab": {
          "autoexec": {
            "startup": false,
            "wait_interval": 0
          }
        }
      },
      "cell_type": "code",
      "source": [
        "from nltk.corpus import stopwords\n",
        "import os\n",
        "import re\n",
        "import pandas as pd\n",
        "import numpy as np\n",
        "import time\n",
        "from google.colab import files as filess"
      ],
      "execution_count": 0,
      "outputs": []
    },
    {
      "metadata": {
        "id": "w-5j-1Aako89",
        "colab_type": "code",
        "colab": {
          "autoexec": {
            "startup": false,
            "wait_interval": 0
          },
          "base_uri": "https://localhost:8080/",
          "height": 91
        },
        "outputId": "5d233f1a-face-49fa-8121-77c47b14a0e4",
        "executionInfo": {
          "status": "ok",
          "timestamp": 1527791823015,
          "user_tz": -330,
          "elapsed": 1224,
          "user": {
            "displayName": "Mrinal CHANDRA",
            "photoUrl": "//lh3.googleusercontent.com/-nA_l2grZDGM/AAAAAAAAAAI/AAAAAAAACVM/-QI2KTqKvUQ/s50-c-k-no/photo.jpg",
            "userId": "108936117855089212060"
          }
        }
      },
      "cell_type": "code",
      "source": [
        "import nltk\n",
        "nltk.download('stopwords')"
      ],
      "execution_count": 2,
      "outputs": [
        {
          "output_type": "stream",
          "text": [
            "[nltk_data] Downloading package stopwords to /content/nltk_data...\n",
            "[nltk_data]   Unzipping corpora/stopwords.zip.\n"
          ],
          "name": "stdout"
        },
        {
          "output_type": "execute_result",
          "data": {
            "text/plain": [
              "True"
            ]
          },
          "metadata": {
            "tags": []
          },
          "execution_count": 2
        }
      ]
    },
    {
      "metadata": {
        "id": "BSrm1Dw_ko9E",
        "colab_type": "code",
        "colab": {
          "autoexec": {
            "startup": false,
            "wait_interval": 0
          },
          "base_uri": "https://localhost:8080/",
          "height": 35
        },
        "outputId": "a5b16715-80ed-4436-af99-5f62d738177e",
        "executionInfo": {
          "status": "ok",
          "timestamp": 1527791828436,
          "user_tz": -330,
          "elapsed": 3402,
          "user": {
            "displayName": "Mrinal CHANDRA",
            "photoUrl": "//lh3.googleusercontent.com/-nA_l2grZDGM/AAAAAAAAAAI/AAAAAAAACVM/-QI2KTqKvUQ/s50-c-k-no/photo.jpg",
            "userId": "108936117855089212060"
          }
        }
      },
      "cell_type": "code",
      "source": [
        "import urllib.request\n",
        "urllib.request.urlretrieve (\"https://archive.ics.uci.edu/ml/machine-learning-databases/20newsgroups-mld/20_newsgroups.tar.gz\", \"a.tar.gz\")\n",
        "urllib.request.urlretrieve (\"http://archive.ics.uci.edu/ml/machine-learning-databases/20newsgroups-mld/mini_newsgroups.tar.gz\", \"b.tar.gz\")"
      ],
      "execution_count": 3,
      "outputs": [
        {
          "output_type": "execute_result",
          "data": {
            "text/plain": [
              "('b.tar.gz', <http.client.HTTPMessage at 0x7f36a65eba58>)"
            ]
          },
          "metadata": {
            "tags": []
          },
          "execution_count": 3
        }
      ]
    },
    {
      "metadata": {
        "id": "mZdjZLIEko9J",
        "colab_type": "code",
        "colab": {
          "autoexec": {
            "startup": false,
            "wait_interval": 0
          }
        }
      },
      "cell_type": "code",
      "source": [
        "import tarfile\n",
        "tar = tarfile.open(\"a.tar.gz\")\n",
        "tar2 = tarfile.open(\"b.tar.gz\")\n",
        "tar.extractall()\n",
        "tar2.extractall()\n",
        "tar.close()\n",
        "tar2.close()"
      ],
      "execution_count": 0,
      "outputs": []
    },
    {
      "metadata": {
        "id": "6Y5q55a9ko9Q",
        "colab_type": "code",
        "colab": {
          "autoexec": {
            "startup": false,
            "wait_interval": 0
          },
          "base_uri": "https://localhost:8080/",
          "height": 35
        },
        "outputId": "3dac4ccf-7592-46d3-9823-29dda86ead55",
        "executionInfo": {
          "status": "ok",
          "timestamp": 1527791839102,
          "user_tz": -330,
          "elapsed": 957,
          "user": {
            "displayName": "Mrinal CHANDRA",
            "photoUrl": "//lh3.googleusercontent.com/-nA_l2grZDGM/AAAAAAAAAAI/AAAAAAAACVM/-QI2KTqKvUQ/s50-c-k-no/photo.jpg",
            "userId": "108936117855089212060"
          }
        }
      },
      "cell_type": "code",
      "source": [
        "stop_words = set(stopwords.words('english'))\n",
        "block_wrds = ['sender:','subject:','writes:','references:','organization:','from:','date:','>i','22','|>','>>','reply-to:','xref:','newsgroups:','>in','>the','message-id:','lines:','path:','re:','--','sender:','last','better','never','every','even','two','good','used','first','need','going','must','really','might','well','without','made','give','look','try','far','less','seem','new','make','many','way','since','using','take','help','thanks','send','free','may','see','much','want','find','would','one','like','get','use','also','could','say','us','go','please','said','set','got','sure','come','lot','seems','able','anything','put']\n",
        "\"writes\" in block_wrds"
      ],
      "execution_count": 5,
      "outputs": [
        {
          "output_type": "execute_result",
          "data": {
            "text/plain": [
              "False"
            ]
          },
          "metadata": {
            "tags": []
          },
          "execution_count": 5
        }
      ]
    },
    {
      "metadata": {
        "id": "fl967rpjko9W",
        "colab_type": "text"
      },
      "cell_type": "markdown",
      "source": [
        "strip the documents and take into dictionary after the header only!"
      ]
    },
    {
      "metadata": {
        "id": "XsiIOY21ko9X",
        "colab_type": "code",
        "colab": {
          "autoexec": {
            "startup": false,
            "wait_interval": 0
          }
        }
      },
      "cell_type": "code",
      "source": [
        "dictionary = {}\n",
        "type(dictionary)\n",
        "count=0\n",
        "for file in os.listdir(\"mini_newsgroups\"): # making the features list by finding the frequency of each word in the docs \n",
        "    for files in os.listdir(\"mini_newsgroups/\"+file):\n",
        "        #print(file,files)\n",
        "        f = open(\"mini_newsgroups/\"+file+\"/\"+files,'r',errors='ignore')\n",
        "        message = f.read()\n",
        "        message = message.split()\n",
        "        k =1\n",
        "        for i in message:\n",
        "            count +=1\n",
        "            if(len(i) > 1):\n",
        "                if not i.lower() in stop_words:\n",
        "                    if not i.lower() in block_wrds:\n",
        "                        if(i.lower() in dictionary.keys()):\n",
        "                            dictionary[i.lower()] = dictionary[i.lower()] +1\n",
        "                        else:\n",
        "                            dictionary[i.lower()] = 1\n",
        "\n",
        "\n",
        "        f.close()"
      ],
      "execution_count": 0,
      "outputs": []
    },
    {
      "metadata": {
        "id": "7DqLUmzVko9a",
        "colab_type": "code",
        "colab": {
          "autoexec": {
            "startup": false,
            "wait_interval": 0
          }
        }
      },
      "cell_type": "code",
      "source": [
        "import operator\n",
        "sorted_vocab = sorted(dictionary.items(), key= operator.itemgetter(1), reverse= True)   # sort the vocab based on frequency\n",
        "# sorted_vocab"
      ],
      "execution_count": 0,
      "outputs": []
    },
    {
      "metadata": {
        "id": "z-5xaivUko9f",
        "colab_type": "code",
        "colab": {
          "autoexec": {
            "startup": false,
            "wait_interval": 0
          }
        }
      },
      "cell_type": "code",
      "source": [
        "top_val = []\n",
        "sorted_vocab[1000][1]\n",
        "size = len(sorted_vocab)\n",
        "for i in range(size):\n",
        "    if(sorted_vocab[1000][1] <= sorted_vocab[i][1]):\n",
        "        top_val.append(sorted_vocab[i][0])"
      ],
      "execution_count": 0,
      "outputs": []
    },
    {
      "metadata": {
        "id": "9XKbg8Zmko9k",
        "colab_type": "code",
        "colab": {
          "autoexec": {
            "startup": false,
            "wait_interval": 0
          },
          "base_uri": "https://localhost:8080/",
          "height": 1817
        },
        "outputId": "23eb4c68-3a4e-4f1a-8695-d8e97ef341c2",
        "executionInfo": {
          "status": "ok",
          "timestamp": 1527716063652,
          "user_tz": -330,
          "elapsed": 982,
          "user": {
            "displayName": "Mrinal CHANDRA",
            "photoUrl": "//lh3.googleusercontent.com/-nA_l2grZDGM/AAAAAAAAAAI/AAAAAAAACVM/-QI2KTqKvUQ/s50-c-k-no/photo.jpg",
            "userId": "108936117855089212060"
          }
        }
      },
      "cell_type": "code",
      "source": [
        "top_val[0:100]"
      ],
      "execution_count": 10,
      "outputs": [
        {
          "output_type": "execute_result",
          "data": {
            "text/plain": [
              "['apr',\n",
              " 'gmt',\n",
              " '1993',\n",
              " 'article',\n",
              " 'know',\n",
              " 'people',\n",
              " 'nntp-posting-host:',\n",
              " '93',\n",
              " 'university',\n",
              " 'think',\n",
              " 'cantaloupe.srv.cs.cmu.edu',\n",
              " \"i'm\",\n",
              " 'time',\n",
              " 'distribution:',\n",
              " 'it.',\n",
              " 'anyone',\n",
              " 'system',\n",
              " 'world',\n",
              " '25',\n",
              " 'still',\n",
              " 'image',\n",
              " 'computer',\n",
              " '20',\n",
              " 'problem',\n",
              " 'believe',\n",
              " 'data',\n",
              " \"i've\",\n",
              " '16',\n",
              " 'work',\n",
              " 'something',\n",
              " \"can't\",\n",
              " '21',\n",
              " \"that's\",\n",
              " 'state',\n",
              " 'news',\n",
              " 'another',\n",
              " 'back',\n",
              " 'right',\n",
              " '15',\n",
              " 'information',\n",
              " '23',\n",
              " 'windows',\n",
              " 'number',\n",
              " 'available',\n",
              " 'usa',\n",
              " 'government',\n",
              " 'program',\n",
              " 'power',\n",
              " 'god',\n",
              " 'file',\n",
              " 'software',\n",
              " 'least',\n",
              " 'someone',\n",
              " 'tue,',\n",
              " 'point',\n",
              " 'part',\n",
              " 'space',\n",
              " 'fri,',\n",
              " 'run',\n",
              " 'probably',\n",
              " 'different',\n",
              " 'read',\n",
              " 'drive',\n",
              " 'things',\n",
              " 'years',\n",
              " '(usenet',\n",
              " 'mr.',\n",
              " 'it,',\n",
              " 'little',\n",
              " '19',\n",
              " '17',\n",
              " 'case',\n",
              " 'best',\n",
              " 'enough',\n",
              " 'tell',\n",
              " 'public',\n",
              " 'around',\n",
              " 'question',\n",
              " '10',\n",
              " 'long',\n",
              " 'however,',\n",
              " 'mon,',\n",
              " 'support',\n",
              " 'rather',\n",
              " 'access',\n",
              " 'thing',\n",
              " 'science',\n",
              " 'let',\n",
              " 'group',\n",
              " 'version',\n",
              " '24',\n",
              " 'either',\n",
              " 'inc.',\n",
              " \"i'd\",\n",
              " 'real',\n",
              " 'ever',\n",
              " '18',\n",
              " 'thu,',\n",
              " 'called',\n",
              " '26']"
            ]
          },
          "metadata": {
            "tags": []
          },
          "execution_count": 10
        }
      ]
    },
    {
      "metadata": {
        "id": "NKN-U6wFko9q",
        "colab_type": "code",
        "colab": {
          "autoexec": {
            "startup": false,
            "wait_interval": 0
          },
          "base_uri": "https://localhost:8080/",
          "height": 35
        },
        "outputId": "28012314-e1a8-4a0a-fbb9-2dc9f26f5f4b",
        "executionInfo": {
          "status": "ok",
          "timestamp": 1527791860031,
          "user_tz": -330,
          "elapsed": 901,
          "user": {
            "displayName": "Mrinal CHANDRA",
            "photoUrl": "//lh3.googleusercontent.com/-nA_l2grZDGM/AAAAAAAAAAI/AAAAAAAACVM/-QI2KTqKvUQ/s50-c-k-no/photo.jpg",
            "userId": "108936117855089212060"
          }
        }
      },
      "cell_type": "code",
      "source": [
        "df = pd.DataFrame(columns = top_val)\n",
        "df.columns\n",
        "start_time = time.time()\n",
        "start_time"
      ],
      "execution_count": 9,
      "outputs": [
        {
          "output_type": "execute_result",
          "data": {
            "text/plain": [
              "1527791859.973811"
            ]
          },
          "metadata": {
            "tags": []
          },
          "execution_count": 9
        }
      ]
    },
    {
      "metadata": {
        "id": "ijr8ig6Pko9u",
        "colab_type": "code",
        "colab": {
          "autoexec": {
            "startup": false,
            "wait_interval": 0
          },
          "base_uri": "https://localhost:8080/",
          "height": 35
        },
        "cellView": "code",
        "outputId": "0e484cef-390b-4ca0-85a2-43f6cb1be061",
        "executionInfo": {
          "status": "ok",
          "timestamp": 1527792673990,
          "user_tz": -330,
          "elapsed": 811206,
          "user": {
            "displayName": "Mrinal CHANDRA",
            "photoUrl": "//lh3.googleusercontent.com/-nA_l2grZDGM/AAAAAAAAAAI/AAAAAAAACVM/-QI2KTqKvUQ/s50-c-k-no/photo.jpg",
            "userId": "108936117855089212060"
          }
        }
      },
      "cell_type": "code",
      "source": [
        "#@ use to make the \n",
        "df = pd.DataFrame(columns = top_val)\n",
        "df.columns\n",
        "count=0\n",
        "for file in os.listdir(\"20_newsgroups\"):\n",
        "    for files in os.listdir(\"20_newsgroups/\"+file):\n",
        "        count=count+1\n",
        "        #print(file,files)\n",
        "        df.loc[len(df)] = np.zeros(len(top_val))\n",
        "        f = open(\"20_newsgroups/\"+file+\"/\"+files,'r',errors='ignore')\n",
        "        message = f.read()\n",
        "        message = message.split()\n",
        "        k =0\n",
        "        for i in message:\n",
        "            if(i.lower() in df.columns):\n",
        "                df[i.lower()][len(df)-1] += 1\n",
        "        f.close()\n",
        "count"
      ],
      "execution_count": 10,
      "outputs": [
        {
          "output_type": "execute_result",
          "data": {
            "text/plain": [
              "19997"
            ]
          },
          "metadata": {
            "tags": []
          },
          "execution_count": 10
        }
      ]
    },
    {
      "metadata": {
        "id": "hiEEemn9ko90",
        "colab_type": "code",
        "colab": {
          "autoexec": {
            "startup": false,
            "wait_interval": 0
          },
          "base_uri": "https://localhost:8080/",
          "height": 35
        },
        "outputId": "c6676547-22c9-4fba-87aa-758c495590fc",
        "executionInfo": {
          "status": "ok",
          "timestamp": 1527793783965,
          "user_tz": -330,
          "elapsed": 951,
          "user": {
            "displayName": "Mrinal CHANDRA",
            "photoUrl": "//lh3.googleusercontent.com/-nA_l2grZDGM/AAAAAAAAAAI/AAAAAAAACVM/-QI2KTqKvUQ/s50-c-k-no/photo.jpg",
            "userId": "108936117855089212060"
          }
        }
      },
      "cell_type": "code",
      "source": [
        "df.shape"
      ],
      "execution_count": 11,
      "outputs": [
        {
          "output_type": "execute_result",
          "data": {
            "text/plain": [
              "(19997, 1007)"
            ]
          },
          "metadata": {
            "tags": []
          },
          "execution_count": 11
        }
      ]
    },
    {
      "metadata": {
        "id": "wLOg4Tm6ko95",
        "colab_type": "code",
        "colab": {
          "autoexec": {
            "startup": false,
            "wait_interval": 0
          }
        }
      },
      "cell_type": "code",
      "source": [
        "y=[]\n",
        "i=0\n",
        "count=0\n",
        "for file in os.listdir(\"20_newsgroups\"):\n",
        "    for files in os.listdir(\"20_newsgroups/\"+file):\n",
        "        #print(file,files)\n",
        "        count+=1\n",
        "        y.append(i)\n",
        "    i=i+1"
      ],
      "execution_count": 0,
      "outputs": []
    },
    {
      "metadata": {
        "id": "r--3MW5bko9-",
        "colab_type": "code",
        "colab": {
          "autoexec": {
            "startup": false,
            "wait_interval": 0
          },
          "base_uri": "https://localhost:8080/",
          "height": 35
        },
        "outputId": "03d539ad-741e-4f28-8092-bd74a031dcee",
        "executionInfo": {
          "status": "ok",
          "timestamp": 1527793789392,
          "user_tz": -330,
          "elapsed": 923,
          "user": {
            "displayName": "Mrinal CHANDRA",
            "photoUrl": "//lh3.googleusercontent.com/-nA_l2grZDGM/AAAAAAAAAAI/AAAAAAAACVM/-QI2KTqKvUQ/s50-c-k-no/photo.jpg",
            "userId": "108936117855089212060"
          }
        }
      },
      "cell_type": "code",
      "source": [
        "y = np.array(y)\n",
        "y.shape,df.shape\n",
        "x = df.values\n",
        "count"
      ],
      "execution_count": 13,
      "outputs": [
        {
          "output_type": "execute_result",
          "data": {
            "text/plain": [
              "19997"
            ]
          },
          "metadata": {
            "tags": []
          },
          "execution_count": 13
        }
      ]
    },
    {
      "metadata": {
        "id": "uXN1658wko-D",
        "colab_type": "code",
        "colab": {
          "autoexec": {
            "startup": false,
            "wait_interval": 0
          }
        }
      },
      "cell_type": "code",
      "source": [
        "from sklearn import model_selection\n",
        "x_train, x_test, y_train, y_test = model_selection.train_test_split(x, y, test_size = 0.25, random_state = 0)"
      ],
      "execution_count": 0,
      "outputs": []
    },
    {
      "metadata": {
        "id": "1AaYbzniko-H",
        "colab_type": "code",
        "colab": {
          "autoexec": {
            "startup": false,
            "wait_interval": 0
          },
          "base_uri": "https://localhost:8080/",
          "height": 35
        },
        "outputId": "3bdcecd9-8d3c-40b5-cac6-05316a67d5da",
        "executionInfo": {
          "status": "ok",
          "timestamp": 1527795282812,
          "user_tz": -330,
          "elapsed": 955,
          "user": {
            "displayName": "Mrinal CHANDRA",
            "photoUrl": "//lh3.googleusercontent.com/-nA_l2grZDGM/AAAAAAAAAAI/AAAAAAAACVM/-QI2KTqKvUQ/s50-c-k-no/photo.jpg",
            "userId": "108936117855089212060"
          }
        }
      },
      "cell_type": "code",
      "source": [
        "from sklearn.naive_bayes import MultinomialNB\n",
        "clf = MultinomialNB()\n",
        "clf.fit(x_train, y_train)\n",
        "y_pred = clf.predict(x_test)\n",
        "\n",
        "train_score = clf.score(x_train, y_train)\n",
        "test_score = clf.score(x_test, y_test)\n",
        "\n",
        "train_score, test_score"
      ],
      "execution_count": 33,
      "outputs": [
        {
          "output_type": "execute_result",
          "data": {
            "text/plain": [
              "(0.8589717943588717, 0.824)"
            ]
          },
          "metadata": {
            "tags": []
          },
          "execution_count": 33
        }
      ]
    },
    {
      "metadata": {
        "id": "jysYIi8wko-K",
        "colab_type": "code",
        "colab": {
          "autoexec": {
            "startup": false,
            "wait_interval": 0
          },
          "base_uri": "https://localhost:8080/",
          "height": 35
        },
        "outputId": "ffde7b26-ac48-462f-886e-4f26ebb6d124",
        "executionInfo": {
          "status": "ok",
          "timestamp": 1527793825781,
          "user_tz": -330,
          "elapsed": 18126,
          "user": {
            "displayName": "Mrinal CHANDRA",
            "photoUrl": "//lh3.googleusercontent.com/-nA_l2grZDGM/AAAAAAAAAAI/AAAAAAAACVM/-QI2KTqKvUQ/s50-c-k-no/photo.jpg",
            "userId": "108936117855089212060"
          }
        }
      },
      "cell_type": "code",
      "source": [
        "newData = df\n",
        "newData['out'] = y\n",
        "newData.to_csv(\"textClassification.csv\")\n",
        "end_time = time.time()\n",
        "total_time = end_time - start_time\n",
        "total_time"
      ],
      "execution_count": 16,
      "outputs": [
        {
          "output_type": "execute_result",
          "data": {
            "text/plain": [
              "1965.1254787445068"
            ]
          },
          "metadata": {
            "tags": []
          },
          "execution_count": 16
        }
      ]
    },
    {
      "metadata": {
        "id": "WgGRXdwhjcff",
        "colab_type": "code",
        "colab": {
          "autoexec": {
            "startup": false,
            "wait_interval": 0
          }
        }
      },
      "cell_type": "code",
      "source": [
        "filess.download('textClassification.csv') #colaboratory notebook stuff ignore!"
      ],
      "execution_count": 0,
      "outputs": []
    },
    {
      "metadata": {
        "id": "hXmOm3U_2ShU",
        "colab_type": "code",
        "colab": {
          "autoexec": {
            "startup": false,
            "wait_interval": 0
          }
        }
      },
      "cell_type": "code",
      "source": [
        "!pip install -U -q PyDrive\n",
        " \n",
        "from pydrive.auth import GoogleAuth\n",
        "from pydrive.drive import GoogleDrive\n",
        "from google.colab import auth\n",
        "from oauth2client.client import GoogleCredentials\n",
        " \n",
        "# 1. Authenticate and create the PyDrive client.\n",
        "auth.authenticate_user()\n",
        "gauth = GoogleAuth()\n",
        "gauth.credentials = GoogleCredentials.get_application_default()\n",
        "drive = GoogleDrive(gauth)"
      ],
      "execution_count": 0,
      "outputs": []
    },
    {
      "metadata": {
        "id": "nSw8kiTY4YhS",
        "colab_type": "text"
      },
      "cell_type": "markdown",
      "source": [
        "## these are the codes for connecting && authenticating the GDrive for getting the CSV file into .pynb file"
      ]
    },
    {
      "metadata": {
        "id": "GafJsc4K4Kc9",
        "colab_type": "code",
        "colab": {
          "autoexec": {
            "startup": false,
            "wait_interval": 0
          },
          "base_uri": "https://localhost:8080/",
          "height": 145
        },
        "outputId": "cbaab0ff-4339-46e6-8d89-ac67d68dba3f",
        "executionInfo": {
          "status": "ok",
          "timestamp": 1527794040927,
          "user_tz": -330,
          "elapsed": 1298,
          "user": {
            "displayName": "Mrinal CHANDRA",
            "photoUrl": "//lh3.googleusercontent.com/-nA_l2grZDGM/AAAAAAAAAAI/AAAAAAAACVM/-QI2KTqKvUQ/s50-c-k-no/photo.jpg",
            "userId": "108936117855089212060"
          }
        }
      },
      "cell_type": "code",
      "source": [
        "file_list = drive.ListFile({'q': \"'1vrFHzEYTZkF_vJvn7KYh6OhYLphLvzsX' in parents and trashed=false\"}).GetList()\n",
        "for file1 in file_list:\n",
        "  print('title: %s, id: %s' % (file1['title'], file1['id']))"
      ],
      "execution_count": 19,
      "outputs": [
        {
          "output_type": "stream",
          "text": [
            "title: TextClassification & MultinomialScratch.ipynb, id: 1sF1QO54CTko6yG19c7vMY0BfopeiJaDh\n",
            "title: textClassification.csv, id: 1lQPcPwbGsxvrtWi5vl4PnQS5VbC-VCoX\n",
            "title: Copy of textClassification.ipynb, id: 1LigqoQQ4coVPfNbDVAFYThOUmgAmblau\n",
            "title: Copy of External data: Drive, Sheets, and Cloud Storage, id: 1yof-7pUy4uANLIM1w-i706ue8qnfPuzv\n",
            "title: textClassification.ipynb, id: 14djjX_9u2H0ddxx5lYIta22W-Ts97irM\n",
            "title: Copy of Hello, Colaboratory, id: 1xfu43LZcWHSV1Qwiv0MDl9S314ODhvT9\n"
          ],
          "name": "stdout"
        }
      ]
    },
    {
      "metadata": {
        "id": "HHumiRgC4nyX",
        "colab_type": "text"
      },
      "cell_type": "markdown",
      "source": [
        "## main code starts Multinomial Implementation starts from below"
      ]
    },
    {
      "metadata": {
        "id": "mz7HhKBP42Sc",
        "colab_type": "code",
        "colab": {
          "autoexec": {
            "startup": false,
            "wait_interval": 0
          }
        }
      },
      "cell_type": "code",
      "source": [
        "import pandas as pd\n",
        "import numpy as np\n",
        "import time\n",
        "from google.colab import files as filess"
      ],
      "execution_count": 0,
      "outputs": []
    },
    {
      "metadata": {
        "id": "3RXCqVo54_5b",
        "colab_type": "code",
        "colab": {
          "autoexec": {
            "startup": false,
            "wait_interval": 0
          }
        }
      },
      "cell_type": "code",
      "source": [
        "data = drive.CreateFile({'id': '1lQPcPwbGsxvrtWi5vl4PnQS5VbC-VCoX'})\n",
        "data.GetContentFile('textClassification.csv')"
      ],
      "execution_count": 0,
      "outputs": []
    },
    {
      "metadata": {
        "id": "P2Oyr5Y75KLY",
        "colab_type": "code",
        "colab": {
          "autoexec": {
            "startup": false,
            "wait_interval": 0
          },
          "base_uri": "https://localhost:8080/",
          "height": 35
        },
        "outputId": "546019e6-e058-4289-efeb-97e2bc9b03ea",
        "executionInfo": {
          "status": "ok",
          "timestamp": 1527794064645,
          "user_tz": -330,
          "elapsed": 4627,
          "user": {
            "displayName": "Mrinal CHANDRA",
            "photoUrl": "//lh3.googleusercontent.com/-nA_l2grZDGM/AAAAAAAAAAI/AAAAAAAACVM/-QI2KTqKvUQ/s50-c-k-no/photo.jpg",
            "userId": "108936117855089212060"
          }
        }
      },
      "cell_type": "code",
      "source": [
        "data = pd.read_csv(\"textClassification.csv\")\n",
        "Y = data[\"out\"]\n",
        "print(data.shape)\n",
        "data.drop(['out'], axis = 1, inplace = True)\n",
        "data.drop(['Unnamed: 0'], axis = 1, inplace = True)"
      ],
      "execution_count": 22,
      "outputs": [
        {
          "output_type": "stream",
          "text": [
            "(19997, 1009)\n"
          ],
          "name": "stdout"
        }
      ]
    },
    {
      "metadata": {
        "id": "9YrTnWGp5OvQ",
        "colab_type": "code",
        "colab": {
          "autoexec": {
            "startup": false,
            "wait_interval": 0
          }
        }
      },
      "cell_type": "code",
      "source": [
        "from sklearn import model_selection\n",
        "X_train, X_test, Y_train, Y_test = model_selection.train_test_split(data, Y, test_size = 0.30,shuffle=True, random_state = 0)\n",
        "f_list = list(data)\n",
        "f_list"
      ],
      "execution_count": 0,
      "outputs": []
    },
    {
      "metadata": {
        "id": "56AlSmEM5P3V",
        "colab_type": "code",
        "colab": {
          "autoexec": {
            "startup": false,
            "wait_interval": 0
          }
        }
      },
      "cell_type": "code",
      "source": [
        "def train(X_train,Y_train):\n",
        "    result = {}\n",
        "    set_class = set(Y_train)\n",
        "    for curr_class in set_class:\n",
        "        result[curr_class] = {}\n",
        "        result[\"total_data\"] = len(Y_train)\n",
        "        #all the x_train rows whose Y is curr_class\n",
        "        curr_class_rows = (Y_train == curr_class)\n",
        "        X_train_curr = X_train[curr_class_rows]\n",
        "        Y_train_curr = Y_train[curr_class_rows]\n",
        "        #traverse through all the features of X_train and get the sum of each word and save it in the dict\n",
        "        #i.e result[class][word] = count of word appearance in the doc\n",
        "        sums = 0\n",
        "        for x in f_list:\n",
        "            result[curr_class][x] = X_train_curr[x].sum()\n",
        "            sums = sums+result[curr_class][x]\n",
        "        result[curr_class][\"total_count\"] = sums\n",
        "    return result"
      ],
      "execution_count": 0,
      "outputs": []
    },
    {
      "metadata": {
        "id": "PBSbDU9e5S5K",
        "colab_type": "code",
        "colab": {
          "autoexec": {
            "startup": false,
            "wait_interval": 0
          },
          "base_uri": "https://localhost:8080/",
          "height": 35
        },
        "outputId": "85b24724-7a54-4565-cb12-7d35ddf96c51",
        "executionInfo": {
          "status": "ok",
          "timestamp": 1527794094385,
          "user_tz": -330,
          "elapsed": 4266,
          "user": {
            "displayName": "Mrinal CHANDRA",
            "photoUrl": "//lh3.googleusercontent.com/-nA_l2grZDGM/AAAAAAAAAAI/AAAAAAAACVM/-QI2KTqKvUQ/s50-c-k-no/photo.jpg",
            "userId": "108936117855089212060"
          }
        }
      },
      "cell_type": "code",
      "source": [
        "dictionary = train(X_train,Y_train)\n",
        "len(dictionary[0]),len(f_list)"
      ],
      "execution_count": 25,
      "outputs": [
        {
          "output_type": "execute_result",
          "data": {
            "text/plain": [
              "(1008, 1007)"
            ]
          },
          "metadata": {
            "tags": []
          },
          "execution_count": 25
        }
      ]
    },
    {
      "metadata": {
        "id": "dbmaglhSwIIh",
        "colab_type": "text"
      },
      "cell_type": "markdown",
      "source": [
        "in below function i have to pass the current class(selected) and the word which is passed and find the probability accordingly"
      ]
    },
    {
      "metadata": {
        "id": "chPBCY9p5eRB",
        "colab_type": "code",
        "colab": {
          "autoexec": {
            "startup": false,
            "wait_interval": 0
          }
        }
      },
      "cell_type": "code",
      "source": [
        "def probablity(dictionary,doc,current_class):\n",
        "    output= np.log(dictionary[current_class][\"total_count\"])-np.log(dictionary[\"total_data\"]) # P(wrd_cunt_curr_clss/total_words)\n",
        "   # print(\"output1\",output)\n",
        "    for index,count in doc.iteritems():\n",
        "      f_name = index\n",
        "      f_count = count\n",
        "      freq_count = dictionary[current_class][f_name] + 1\n",
        "      total_count = dictionary[current_class]['total_count'] + len(f_list) #handling 0 probablity\n",
        "      curr_prob = np.log(freq_count) - np.log(total_count)\n",
        "      for i in range(int(count)):\n",
        "        output = output + curr_prob\n",
        "    return output"
      ],
      "execution_count": 0,
      "outputs": []
    },
    {
      "metadata": {
        "id": "omtHzdAxwLIH",
        "colab_type": "text"
      },
      "cell_type": "markdown",
      "source": [
        "in below function we have to take the row or Document whs class we have have to predict and compare with all the class one by one\n"
      ]
    },
    {
      "metadata": {
        "id": "bBwLJjt75kJz",
        "colab_type": "code",
        "colab": {
          "autoexec": {
            "startup": false,
            "wait_interval": 0
          }
        }
      },
      "cell_type": "code",
      "source": [
        "def predictSinglePoint(dictionary,doc):\n",
        "    classes = dictionary.keys()\n",
        "    best_p = -1000\n",
        "    best_class = -1\n",
        "    first_run = True\n",
        "    for current_class in classes: # comapare each classes and find the best one\n",
        "        if(current_class == \"total_data\"):\n",
        "            continue\n",
        "        p_curr_class = probablity(dictionary,doc,current_class)\n",
        "#         print(current_class,\" \",p_curr_class)\n",
        "        if(first_run or p_curr_class > best_p):\n",
        "            best_p = p_curr_class\n",
        "            best_class = current_class\n",
        "        first_run = False\n",
        "    return best_class"
      ],
      "execution_count": 0,
      "outputs": []
    },
    {
      "metadata": {
        "id": "T2Zrtc_9wPxE",
        "colab_type": "text"
      },
      "cell_type": "markdown",
      "source": [
        "we have to pass a single row !! to predictsingle point"
      ]
    },
    {
      "metadata": {
        "id": "Ll5wtS535mn9",
        "colab_type": "code",
        "colab": {
          "autoexec": {
            "startup": false,
            "wait_interval": 0
          }
        }
      },
      "cell_type": "code",
      "source": [
        "def predict(dictionary,X_test):\n",
        "    Y_pred = []\n",
        "    for j in X_test.iterrows():\n",
        "    \n",
        "        x_class = predictSinglePoint(dictionary,j[1]) # pass each document (row) to the predictSinglept function\n",
        "        Y_pred.append(x_class)\n",
        "#         break\n",
        "    return Y_pred"
      ],
      "execution_count": 0,
      "outputs": []
    },
    {
      "metadata": {
        "id": "IQU9vB-l5seT",
        "colab_type": "code",
        "colab": {
          "autoexec": {
            "startup": false,
            "wait_interval": 0
          }
        }
      },
      "cell_type": "code",
      "source": [
        " Y_pred = predict(dictionary,X_test)"
      ],
      "execution_count": 0,
      "outputs": []
    },
    {
      "metadata": {
        "id": "L7TsK8NsuAC9",
        "colab_type": "text"
      },
      "cell_type": "markdown",
      "source": [
        "Both Accurracy Comaprision **sklearns and self MNB Classifier**"
      ]
    },
    {
      "metadata": {
        "id": "_fnndVqc5um8",
        "colab_type": "code",
        "colab": {
          "autoexec": {
            "startup": false,
            "wait_interval": 0
          },
          "base_uri": "https://localhost:8080/",
          "height": 71
        },
        "outputId": "0034032b-19bb-45a8-c691-03407a0ac124",
        "executionInfo": {
          "status": "ok",
          "timestamp": 1527795660675,
          "user_tz": -330,
          "elapsed": 953,
          "user": {
            "displayName": "Mrinal CHANDRA",
            "photoUrl": "//lh3.googleusercontent.com/-nA_l2grZDGM/AAAAAAAAAAI/AAAAAAAACVM/-QI2KTqKvUQ/s50-c-k-no/photo.jpg",
            "userId": "108936117855089212060"
          }
        }
      },
      "cell_type": "code",
      "source": [
        "from sklearn.metrics import accuracy_score\n",
        "print(\"accuracy of self Implemented MNB: \",accuracy_score(Y_test,Y_pred)),print(\"accuracy of sklearn MNB: \",test_score)"
      ],
      "execution_count": 39,
      "outputs": [
        {
          "output_type": "stream",
          "text": [
            "accuracy of self Implemented MNB:  0.8241666666666667\n",
            "accuracy of sklearn MNB:  0.824\n"
          ],
          "name": "stdout"
        },
        {
          "output_type": "execute_result",
          "data": {
            "text/plain": [
              "(None, None)"
            ]
          },
          "metadata": {
            "tags": []
          },
          "execution_count": 39
        }
      ]
    },
    {
      "metadata": {
        "id": "59h3C3v1qlal",
        "colab_type": "code",
        "colab": {
          "autoexec": {
            "startup": false,
            "wait_interval": 0
          }
        }
      },
      "cell_type": "code",
      "source": [
        "from sklearn.metrics import classification_report"
      ],
      "execution_count": 0,
      "outputs": []
    },
    {
      "metadata": {
        "id": "BGvjtr6-rfy0",
        "colab_type": "text"
      },
      "cell_type": "markdown",
      "source": [
        "Classification Report Of **inbuilt** sklearn classifier implemented **Multinomial Naive Bayes**"
      ]
    },
    {
      "metadata": {
        "id": "lLryX8g0rrQP",
        "colab_type": "code",
        "colab": {
          "autoexec": {
            "startup": false,
            "wait_interval": 0
          },
          "base_uri": "https://localhost:8080/",
          "height": 467
        },
        "outputId": "8aff4162-09f6-4cb5-afec-b4f53f99e1d6",
        "executionInfo": {
          "status": "ok",
          "timestamp": 1527795448818,
          "user_tz": -330,
          "elapsed": 1072,
          "user": {
            "displayName": "Mrinal CHANDRA",
            "photoUrl": "//lh3.googleusercontent.com/-nA_l2grZDGM/AAAAAAAAAAI/AAAAAAAACVM/-QI2KTqKvUQ/s50-c-k-no/photo.jpg",
            "userId": "108936117855089212060"
          }
        }
      },
      "cell_type": "code",
      "source": [
        "print(classification_report(y_test, y_pred))"
      ],
      "execution_count": 35,
      "outputs": [
        {
          "output_type": "stream",
          "text": [
            "             precision    recall  f1-score   support\n",
            "\n",
            "          0       0.63      0.42      0.50       233\n",
            "          1       0.90      0.79      0.84       253\n",
            "          2       0.82      0.89      0.85       249\n",
            "          3       0.95      0.96      0.96       240\n",
            "          4       0.70      0.80      0.74       236\n",
            "          5       0.83      0.87      0.85       240\n",
            "          6       0.87      0.88      0.88       261\n",
            "          7       0.75      0.87      0.80       269\n",
            "          8       0.87      0.91      0.89       284\n",
            "          9       0.78      0.83      0.80       248\n",
            "         10       0.84      0.81      0.82       231\n",
            "         11       0.69      0.92      0.79       233\n",
            "         12       0.87      0.91      0.89       244\n",
            "         13       0.85      0.73      0.79       256\n",
            "         14       0.90      1.00      0.95       245\n",
            "         15       0.55      0.36      0.43       253\n",
            "         16       0.83      0.93      0.88       249\n",
            "         17       0.94      0.78      0.85       281\n",
            "         18       0.91      0.87      0.89       259\n",
            "         19       0.90      0.96      0.93       236\n",
            "\n",
            "avg / total       0.82      0.82      0.82      5000\n",
            "\n"
          ],
          "name": "stdout"
        }
      ]
    },
    {
      "metadata": {
        "id": "EBWdD7hJtL2x",
        "colab_type": "text"
      },
      "cell_type": "markdown",
      "source": [
        "Classification Report Of  **self** implemented **Multinomial Naive Bayes** from \n",
        "**scratch**"
      ]
    },
    {
      "metadata": {
        "id": "TaTFrahRrdoD",
        "colab_type": "code",
        "colab": {
          "autoexec": {
            "startup": false,
            "wait_interval": 0
          },
          "base_uri": "https://localhost:8080/",
          "height": 467
        },
        "outputId": "ad58df0b-4d98-4877-87f7-dd70fcd1449e",
        "executionInfo": {
          "status": "ok",
          "timestamp": 1527795548547,
          "user_tz": -330,
          "elapsed": 950,
          "user": {
            "displayName": "Mrinal CHANDRA",
            "photoUrl": "//lh3.googleusercontent.com/-nA_l2grZDGM/AAAAAAAAAAI/AAAAAAAACVM/-QI2KTqKvUQ/s50-c-k-no/photo.jpg",
            "userId": "108936117855089212060"
          }
        }
      },
      "cell_type": "code",
      "source": [
        "print(classification_report(Y_test, Y_pred))"
      ],
      "execution_count": 36,
      "outputs": [
        {
          "output_type": "stream",
          "text": [
            "             precision    recall  f1-score   support\n",
            "\n",
            "          0       0.92      0.98      0.95       274\n",
            "          1       0.71      0.86      0.78       301\n",
            "          2       0.83      0.91      0.87       308\n",
            "          3       0.68      0.83      0.74       284\n",
            "          4       0.80      0.86      0.83       297\n",
            "          5       0.84      0.83      0.83       295\n",
            "          6       0.90      0.80      0.85       306\n",
            "          7       0.98      0.96      0.97       320\n",
            "          8       0.85      0.83      0.84       324\n",
            "          9       0.92      0.84      0.88       309\n",
            "         10       0.83      0.93      0.88       274\n",
            "         11       0.54      0.37      0.44       278\n",
            "         12       0.92      0.88      0.90       307\n",
            "         13       0.77      0.82      0.80       297\n",
            "         14       0.72      0.89      0.80       287\n",
            "         15       0.84      0.84      0.84       309\n",
            "         16       0.91      0.99      0.95       295\n",
            "         17       0.90      0.86      0.88       329\n",
            "         18       0.72      0.48      0.58       319\n",
            "         19       0.84      0.72      0.78       287\n",
            "\n",
            "avg / total       0.82      0.82      0.82      6000\n",
            "\n"
          ],
          "name": "stdout"
        }
      ]
    }
  ]
}