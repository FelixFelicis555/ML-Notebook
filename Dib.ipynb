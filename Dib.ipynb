{
 "cells": [
  {
   "cell_type": "code",
   "execution_count": 1,
   "metadata": {
    "collapsed": true
   },
   "outputs": [],
   "source": [
    "from sklearn.linear_model import LinearRegression\n",
    "import pandas as pd\n",
    "from sklearn import model_selection\n",
    "import numpy as np"
   ]
  },
  {
   "cell_type": "code",
   "execution_count": 12,
   "metadata": {
    "collapsed": true
   },
   "outputs": [],
   "source": [
    "file = r'D:\\cog\\x_y_train.csv'\n",
    "df=np.genfromtxt(file,delimiter=\",\")\n",
    "df = pd.DataFrame(df)\n",
    "df1 = df.iloc[0:,0:10]\n",
    "X_train = pd.DataFrame(df1)\n",
    "Y_train = df.iloc[0:,10:]\n",
    "file = r'D:\\cog\\x_test.csv'\n",
    "df11=np.genfromtxt(file,delimiter=\",\")\n",
    "X_test = pd.DataFrame(df11)"
   ]
  },
  {
   "cell_type": "code",
   "execution_count": 19,
   "metadata": {
    "collapsed": true
   },
   "outputs": [],
   "source": [
    "algo = LinearRegression()\n",
    "algo.fit(X_train,Y_train)\n",
    "Y_pred = algo.predict(X_test)\n",
    "np.savetxt('out.csv',Y_pred,fmt='%.5f')\n",
    "#Y_pred = pd.DataFrame(Y_pred)\n",
    "#Y_pred.to_csv('out.csv',index=False)"
   ]
  },
  {
   "cell_type": "code",
   "execution_count": null,
   "metadata": {
    "collapsed": true
   },
   "outputs": [],
   "source": [
    "coeff = run()\n",
    "m = run()\n",
    "x = np.loadtxt('test_boston_x_test.csv',delimiter=',')\n",
    "y_pred = np.zeros(x.shape[0])\n",
    "for i in range(x.shape[0]):\n",
    "    for j in range(x.shape[1]):\n",
    "        y_pred[i] += m[j] * x[i][j] \n",
    "y_pred.shape\n",
    "np.savetxt('boston.csv',y_pred,fmt='%.5f')"
   ]
  }
 ],
 "metadata": {
  "kernelspec": {
   "display_name": "Python 3",
   "language": "python",
   "name": "python3"
  },
  "language_info": {
   "codemirror_mode": {
    "name": "ipython",
    "version": 3
   },
   "file_extension": ".py",
   "mimetype": "text/x-python",
   "name": "python",
   "nbconvert_exporter": "python",
   "pygments_lexer": "ipython3",
   "version": "3.6.3"
  }
 },
 "nbformat": 4,
 "nbformat_minor": 2
}
