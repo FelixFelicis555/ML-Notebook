{
 "cells": [
  {
   "cell_type": "code",
   "execution_count": 1,
   "metadata": {},
   "outputs": [],
   "source": [
    "import numpy as np\n",
    "import pandas as pd"
   ]
  },
  {
   "cell_type": "code",
   "execution_count": 2,
   "metadata": {},
   "outputs": [],
   "source": [
    "def step_gradient(points,learning_rate,m):\n",
    "    M=len(points)\n",
    "    m_slope=list([0 for i in range(len(points[0])-1)])\n",
    "    for i in range(M):\n",
    "        y=points[i,len(points[0])-2]\n",
    "        x_total=0;\n",
    "        q=0\n",
    "        for k in range(len(points[0])):\n",
    "            if(k==len(points[0])-2):\n",
    "                continue\n",
    "            x_total+=m[q]*points[i,k]\n",
    "            q=q+1\n",
    "        l=0   \n",
    "        for j in range(len(points[0])):\n",
    "            if (j==len(points[0])-2):\n",
    "                continue\n",
    "            m_slope[l]+=(-2/M)*((y-x_total)*points[i,j])\n",
    "            l=l+1\n",
    "    new_m=list([0 for j in range(len(points[0])-1)])\n",
    "    a=0\n",
    "    for i in range(len(m)):\n",
    "        new_m[i]=m[i]-learning_rate*m_slope[i]\n",
    "    return new_m    "
   ]
  },
  {
   "cell_type": "code",
   "execution_count": 3,
   "metadata": {},
   "outputs": [],
   "source": [
    "def gd(points,learning_rate,num_iteration):\n",
    "    m=list([0 for j in range(len(points[0])-1)])\n",
    "    for i in range(num_iteration):\n",
    "        m=step_gradient(points,learning_rate,m)\n",
    "       # print(i,\" cost : \",cost(points,m))\n",
    "    return m    \n",
    "        "
   ]
  },
  {
   "cell_type": "code",
   "execution_count": 4,
   "metadata": {},
   "outputs": [],
   "source": [
    "def run():\n",
    "    d=np.genfromtxt(\"training_boston_x_y_train.csv\",delimiter=\",\")\n",
    "    b=np.ones((len(d),1))\n",
    "    c=np.hstack((d,b))\n",
    "    df=pd.DataFrame(c)\n",
    "    x2=df.values        \n",
    "    learning_rate=.1\n",
    "    num_iteration=898\n",
    "    m=gd(x2,learning_rate,num_iteration)\n",
    "    return m    "
   ]
  },
  {
   "cell_type": "code",
   "execution_count": 5,
   "metadata": {},
   "outputs": [],
   "source": [
    "def cost(points,m):\n",
    "    total_cost=0\n",
    "    M=len(points)\n",
    "    total_cost=0\n",
    "    for i in range(M):\n",
    "        y=points[i,len(points[0])-2]\n",
    "        x_total=0\n",
    "        q=0\n",
    "        for k in range(len(points[0])):\n",
    "            if(k==len(points[0])-2):\n",
    "                continue\n",
    "            x_total+=m[q]*points[i,k]\n",
    "            q=q+1\n",
    "        total_cost+=(1/M)*((y-x_total)**2)    \n",
    "    return total_cost    "
   ]
  },
  {
   "cell_type": "code",
   "execution_count": 6,
   "metadata": {},
   "outputs": [],
   "source": [
    "def predict(p,m):\n",
    "    y_pred=list([0 for j in range(len(p))])\n",
    "    k=0\n",
    "    for i in range(len(p)):\n",
    "        for j in range(len(m)):\n",
    "            y_pred[k]+=m[j]*p[i,j]\n",
    "        k=k+1    \n",
    "    return y_pred"
   ]
  },
  {
   "cell_type": "code",
   "execution_count": 8,
   "metadata": {},
   "outputs": [],
   "source": [
    "m=run()"
   ]
  }
 ],
 "metadata": {
  "kernelspec": {
   "display_name": "Python 3",
   "language": "python",
   "name": "python3"
  },
  "language_info": {
   "codemirror_mode": {
    "name": "ipython",
    "version": 3
   },
   "file_extension": ".py",
   "mimetype": "text/x-python",
   "name": "python",
   "nbconvert_exporter": "python",
   "pygments_lexer": "ipython3",
   "version": "3.6.4"
  }
 },
 "nbformat": 4,
 "nbformat_minor": 2
}
