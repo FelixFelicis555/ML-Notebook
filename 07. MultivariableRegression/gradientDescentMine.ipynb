{
 "cells": [
  {
   "cell_type": "code",
   "execution_count": 15,
   "metadata": {
    "collapsed": true
   },
   "outputs": [],
   "source": [
    "import numpy as np"
   ]
  },
  {
   "cell_type": "code",
   "execution_count": 16,
   "metadata": {},
   "outputs": [
    {
     "data": {
      "text/plain": [
       "(100, 2)"
      ]
     },
     "execution_count": 16,
     "metadata": {},
     "output_type": "execute_result"
    }
   ],
   "source": [
    "data = np.loadtxt('data.csv',delimiter=',')\n",
    "data.shape"
   ]
  },
  {
   "cell_type": "code",
   "execution_count": 1,
   "metadata": {
    "collapsed": true
   },
   "outputs": [],
   "source": [
    "def stepgradient(points,learning_rate,m):\n",
    "    m_slope = np.zeros(len(m))\n",
    "    c_slope=0,0\n",
    "    M = len(points)\n",
    "    for i in range(M):\n",
    "#         x= points[i,0]\n",
    "#         y= points[i,1]\n",
    "        #m_slope += (-2/M)*(y - m*x - c)*x\n",
    "        for j in range(len(m)):\n",
    "            m_slope[j] += (-2/M)*(points[i,len(m)-1] - m[j]*points[i,j] - c)*points[i,j]\n",
    "        \n",
    "    new_m = m - learning_rate*m_slope\n",
    "    return new_m"
   ]
  },
  {
   "cell_type": "code",
   "execution_count": 22,
   "metadata": {
    "collapsed": true
   },
   "outputs": [],
   "source": [
    "def gd(points,learning_rate,num_iter):\n",
    "    m = np.zeros(len(points))\n",
    "    for i in range(num_iter):\n",
    "        m = stepgradient(points,learning_rate,m,c)\n",
    "        print(i,\" cost: \",cost(points,m,c))\n",
    "    return m,c"
   ]
  },
  {
   "cell_type": "code",
   "execution_count": 23,
   "metadata": {
    "collapsed": true
   },
   "outputs": [],
   "source": [
    "def cost(points,m,c):\n",
    "    total_cost=0\n",
    "    M = len(points)\n",
    "    for i in range(M):\n",
    "        x = points[i,0]\n",
    "        y = points[i,1]\n",
    "        total_cost += (1/M)*((y-m*x-c)**2)\n",
    "    return total_cost"
   ]
  },
  {
   "cell_type": "code",
   "execution_count": 28,
   "metadata": {
    "collapsed": true
   },
   "outputs": [],
   "source": [
    "def run():\n",
    "    data = np.loadtxt('data.csv',delimiter=',')\n",
    "    learning_rate = 0.0001\n",
    "    num_iter = 10\n",
    "    m,c = gd(data,learning_rate,num_iter)\n",
    "    print(m,c)"
   ]
  },
  {
   "cell_type": "code",
   "execution_count": 29,
   "metadata": {},
   "outputs": [
    {
     "name": "stdout",
     "output_type": "stream",
     "text": [
      "0  cost:  1484.58655741\n",
      "1  cost:  457.854257574\n",
      "2  cost:  199.509985726\n",
      "3  cost:  134.505910582\n",
      "4  cost:  118.149693422\n",
      "5  cost:  114.03414906\n",
      "6  cost:  112.998577317\n",
      "7  cost:  112.737981876\n",
      "8  cost:  112.672384359\n",
      "9  cost:  112.655851815\n",
      "1.47741737555 0.0296393478747\n"
     ]
    }
   ],
   "source": [
    "run()"
   ]
  }
 ],
 "metadata": {
  "kernelspec": {
   "display_name": "Python 3",
   "language": "python",
   "name": "python3"
  },
  "language_info": {
   "codemirror_mode": {
    "name": "ipython",
    "version": 3
   },
   "file_extension": ".py",
   "mimetype": "text/x-python",
   "name": "python",
   "nbconvert_exporter": "python",
   "pygments_lexer": "ipython3",
   "version": "3.6.3"
  }
 },
 "nbformat": 4,
 "nbformat_minor": 2
}
