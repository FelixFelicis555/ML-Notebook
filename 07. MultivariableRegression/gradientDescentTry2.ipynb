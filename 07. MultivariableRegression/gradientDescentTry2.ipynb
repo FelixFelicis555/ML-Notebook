{
 "cells": [
  {
   "cell_type": "code",
   "execution_count": 1,
   "metadata": {
    "collapsed": true
   },
   "outputs": [],
   "source": [
    "import numpy as np"
   ]
  },
  {
   "cell_type": "code",
   "execution_count": 3,
   "metadata": {},
   "outputs": [
    {
     "data": {
      "text/plain": [
       "(100, 2)"
      ]
     },
     "execution_count": 3,
     "metadata": {},
     "output_type": "execute_result"
    }
   ],
   "source": [
    "data = np.loadtxt(\"data.csv\",delimiter=',')\n",
    "data.shape"
   ]
  },
  {
   "cell_type": "code",
   "execution_count": 33,
   "metadata": {},
   "outputs": [],
   "source": [
    "def cost(points,m,c):\n",
    "    costt = 0 \n",
    "    M =len(points)\n",
    "    for i in range(M):\n",
    "        y = points[i,1]\n",
    "        x = points[i,0]\n",
    "        costt += (1/M)*((y-m*x-c)**2)\n",
    "    return costt"
   ]
  },
  {
   "cell_type": "markdown",
   "metadata": {},
   "source": [
    "# Gradient Descent Code Start"
   ]
  },
  {
   "cell_type": "code",
   "execution_count": 8,
   "metadata": {},
   "outputs": [],
   "source": [
    "#iterate through all the data points and find the slope \n",
    "def step_grad(points,learning_rate,m,c):\n",
    "    m_slope =0\n",
    "    c_slope =0\n",
    "    M = len(points)\n",
    "    for i in range(M):\n",
    "        x = points[i,0]\n",
    "        y = points[i,1]\n",
    "        m_slope += (-2/M)*(y- m*x - c)*x\n",
    "        c_slope += (-2/M)*(y-m*x-c)\n",
    "    new_m = m - learning_rate * m_slope\n",
    "    new_c = c - learning_rate * c_slope\n",
    "    return new_m,new_c"
   ]
  },
  {
   "cell_type": "code",
   "execution_count": 24,
   "metadata": {
    "collapsed": true
   },
   "outputs": [],
   "source": [
    "#as said in gd defnition we have to start m&c with any random value\n",
    "#substract the slope from the m or c till num_iter\n",
    "def gd(points,learning_rate,num_iter):\n",
    "    m =0\n",
    "    c=0\n",
    "    for i in range(num_iter):\n",
    "        m,c = step_grad(points,learning_rate,m,c)\n",
    "        #use cost function not for calculating gd but for getting yourself idea of which way code is going!\n",
    "        #print(i,\"cost:\")\n",
    "        print(i,\"cost:\",cost(points,m,c))\n",
    "    return m,c"
   ]
  },
  {
   "cell_type": "code",
   "execution_count": 27,
   "metadata": {
    "collapsed": true
   },
   "outputs": [],
   "source": [
    "#we have to load data and send it to gd function to figure out m & c\n",
    "#gd requiires learning rate & number of iter\n",
    "def run():\n",
    "    data = np.loadtxt(\"data.csv\",delimiter=',')\n",
    "    learning_rate = 0.0001\n",
    "    num_iter = 100\n",
    "    m,c = gd(data,learning_rate,num_iter)\n",
    "    print(m,c)"
   ]
  },
  {
   "cell_type": "code",
   "execution_count": 34,
   "metadata": {},
   "outputs": [
    {
     "name": "stdout",
     "output_type": "stream",
     "text": [
      "0 cost: 1484.58655741\n",
      "1 cost: 457.854257574\n",
      "2 cost: 199.509985726\n",
      "3 cost: 134.505910582\n",
      "4 cost: 118.149693422\n",
      "5 cost: 114.03414906\n",
      "6 cost: 112.998577317\n",
      "7 cost: 112.737981876\n",
      "8 cost: 112.672384359\n",
      "9 cost: 112.655851815\n",
      "10 cost: 112.651664898\n",
      "11 cost: 112.650584362\n",
      "12 cost: 112.650285447\n",
      "13 cost: 112.650183203\n",
      "14 cost: 112.650130445\n",
      "15 cost: 112.650090139\n",
      "16 cost: 112.650052967\n",
      "17 cost: 112.650016584\n",
      "18 cost: 112.649980399\n",
      "19 cost: 112.649944265\n",
      "20 cost: 112.649908144\n",
      "21 cost: 112.649872027\n",
      "22 cost: 112.649835911\n",
      "23 cost: 112.649799796\n",
      "24 cost: 112.649763681\n",
      "25 cost: 112.649727567\n",
      "26 cost: 112.649691454\n",
      "27 cost: 112.649655341\n",
      "28 cost: 112.649619228\n",
      "29 cost: 112.649583117\n",
      "30 cost: 112.649547005\n",
      "31 cost: 112.649510895\n",
      "32 cost: 112.649474784\n",
      "33 cost: 112.649438675\n",
      "34 cost: 112.649402566\n",
      "35 cost: 112.649366457\n",
      "36 cost: 112.649330349\n",
      "37 cost: 112.649294242\n",
      "38 cost: 112.649258135\n",
      "39 cost: 112.649222028\n",
      "40 cost: 112.649185922\n",
      "41 cost: 112.649149817\n",
      "42 cost: 112.649113712\n",
      "43 cost: 112.649077608\n",
      "44 cost: 112.649041505\n",
      "45 cost: 112.649005401\n",
      "46 cost: 112.648969299\n",
      "47 cost: 112.648933197\n",
      "48 cost: 112.648897095\n",
      "49 cost: 112.648860994\n",
      "50 cost: 112.648824894\n",
      "51 cost: 112.648788794\n",
      "52 cost: 112.648752695\n",
      "53 cost: 112.648716596\n",
      "54 cost: 112.648680498\n",
      "55 cost: 112.6486444\n",
      "56 cost: 112.648608303\n",
      "57 cost: 112.648572207\n",
      "58 cost: 112.648536111\n",
      "59 cost: 112.648500015\n",
      "60 cost: 112.64846392\n",
      "61 cost: 112.648427826\n",
      "62 cost: 112.648391732\n",
      "63 cost: 112.648355639\n",
      "64 cost: 112.648319546\n",
      "65 cost: 112.648283454\n",
      "66 cost: 112.648247362\n",
      "67 cost: 112.648211271\n",
      "68 cost: 112.64817518\n",
      "69 cost: 112.64813909\n",
      "70 cost: 112.648103001\n",
      "71 cost: 112.648066912\n",
      "72 cost: 112.648030824\n",
      "73 cost: 112.647994736\n",
      "74 cost: 112.647958648\n",
      "75 cost: 112.647922562\n",
      "76 cost: 112.647886475\n",
      "77 cost: 112.64785039\n",
      "78 cost: 112.647814305\n",
      "79 cost: 112.64777822\n",
      "80 cost: 112.647742136\n",
      "81 cost: 112.647706053\n",
      "82 cost: 112.64766997\n",
      "83 cost: 112.647633887\n",
      "84 cost: 112.647597805\n",
      "85 cost: 112.647561724\n",
      "86 cost: 112.647525643\n",
      "87 cost: 112.647489563\n",
      "88 cost: 112.647453483\n",
      "89 cost: 112.647417404\n",
      "90 cost: 112.647381326\n",
      "91 cost: 112.647345248\n",
      "92 cost: 112.64730917\n",
      "93 cost: 112.647273093\n",
      "94 cost: 112.647237017\n",
      "95 cost: 112.647200941\n",
      "96 cost: 112.647164866\n",
      "97 cost: 112.647128791\n",
      "98 cost: 112.647092717\n",
      "99 cost: 112.647056643\n",
      "1.47880271753 0.0350749705923\n"
     ]
    }
   ],
   "source": [
    "m = run()"
   ]
  }
 ],
 "metadata": {
  "kernelspec": {
   "display_name": "Python 3",
   "language": "python",
   "name": "python3"
  },
  "language_info": {
   "codemirror_mode": {
    "name": "ipython",
    "version": 3
   },
   "file_extension": ".py",
   "mimetype": "text/x-python",
   "name": "python",
   "nbconvert_exporter": "python",
   "pygments_lexer": "ipython3",
   "version": "3.6.3"
  }
 },
 "nbformat": 4,
 "nbformat_minor": 2
}
